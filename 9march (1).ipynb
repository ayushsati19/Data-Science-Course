{
 "cells": [
  {
   "cell_type": "markdown",
   "id": "e7459d79-5cf4-4f9c-a631-756042ab387a",
   "metadata": {},
   "source": [
    "#### Q1: What are the Probability Mass Function (PMF) and Probability Density Function (PDF)? Explain with an example."
   ]
  },
  {
   "cell_type": "markdown",
   "id": "f2df7fff-97e5-4d33-90ee-37118b8dbc09",
   "metadata": {},
   "source": [
    "Probability Mass Function (PMF) and Probability Density Function (PDF) are two types of mathematical functions that are used to describe the probability distribution of a random variable.\n",
    "\n",
    "PMF is used for discrete random variables, where the function maps each possible value of the random variable to its probability of occurrence. In other words, the PMF describes the probability distribution of discrete events or outcomes.\n",
    "\n",
    "For example, consider a coin flip experiment where the random variable X represents the number of heads obtained in three flips. The possible values of X are 0, 1, 2, and 3. The PMF of X is given by:\n",
    "\n",
    "X\t0\t1\t2\t3\n",
    "P(X)\t1/8\t3/8\t3/8\t1/8\n",
    "The PMF shows that the probability of obtaining 0 heads is 1/8, the probability of obtaining 1 head is 3/8, and so on.\n",
    "\n",
    "On the other hand, PDF is used for continuous random variables, where the function describes the probability density at each point along the continuous range of the variable. The probability of the variable falling within a certain range is the integral of the PDF over that range.\n",
    "\n",
    "For example, consider a continuous random variable Y representing the height of people in a population. The PDF of Y might be a normal distribution with a mean of 170 cm and a standard deviation of 10 cm. The PDF shows the relative likelihood of observing any given height value within the range of possible heights."
   ]
  },
  {
   "cell_type": "markdown",
   "id": "45ff8d8c-2477-4a74-8d0e-ffcb0ca0a45f",
   "metadata": {},
   "source": [
    "#### Q2: What is Cumulative Density Function (CDF)? Explain with an example. Why CDF is used?"
   ]
  },
  {
   "cell_type": "markdown",
   "id": "9fff50dd-8d85-4eeb-b193-b3ac1d7b3cfb",
   "metadata": {},
   "source": [
    "Cumulative Density Function (CDF) is a function that describes the probability of a random variable taking on a value less than or equal to a given value. It is defined for both discrete and continuous random variables.\n",
    "\n",
    "For a discrete random variable, the CDF is the sum of the probabilities of all the values less than or equal to the given value. For a continuous random variable, the CDF is the area under the probability density function (PDF) curve up to the given value.\n",
    "\n",
    "The CDF is useful because it provides information about the probability distribution of a random variable over its entire range. It can be used to calculate probabilities, percentiles, and other statistical measures."
   ]
  },
  {
   "cell_type": "raw",
   "id": "85657724-740a-4396-8775-d51dfac6b0ad",
   "metadata": {},
   "source": [
    "For example, consider a random variable X that represents the number of heads obtained when a fair coin is tossed 3 times. The PMF of X is given by:\n",
    "X | P(X)\n",
    "---------\n",
    "0 | 1/8\n",
    "1 | 3/8\n",
    "2 | 3/8\n",
    "3 | 1/8\n",
    "The CDF of X can be calculated as follows:\n",
    "F(x) = P(X <= x)\n",
    "     = Sum of P(X = i) for i = 0 to x\n",
    "     \n",
    "For example, the CDF of X when x = 2 is:\n",
    "F(2) = P(X <= 2)\n",
    "     = P(X = 0) + P(X = 1) + P(X = 2)\n",
    "     = 1/8 + 3/8 + 3/8\n",
    "     = 7/8\n",
    "The CDF provides information about the probability of X being less than or equal to a given value. For example, the probability of X being less than or equal to 1 is:\n",
    "P(X <= 1) = F(1)\n",
    "          = P(X = 0) + P(X = 1)\n",
    "          = 1/8 + 3/8\n",
    "          = 1/2"
   ]
  },
  {
   "cell_type": "markdown",
   "id": "38b65b55-4479-4cf8-a647-7a337ce1f70c",
   "metadata": {},
   "source": [
    "#### Q3: What are some examples of situations where the normal distribution might be used as a model?\n",
    "#### Explain how the parameters of the normal distribution relate to the shape of the distribution."
   ]
  },
  {
   "cell_type": "markdown",
   "id": "7de7f892-c360-4719-969e-1bbaec72f575",
   "metadata": {},
   "source": [
    "The normal distribution, also known as the Gaussian distribution, is a bell-shaped probability distribution that is widely used in statistical modeling. It is used to model continuous random variables that are approximately symmetric and have a finite mean and variance. Some examples of situations where the normal distribution might be used as a model are:\n",
    "\n",
    "Height measurements: In a large population, the heights of individuals are approximately normally distributed. The mean and standard deviation of the normal distribution can be used to describe the average height and the range of heights in the population.\n",
    "\n",
    "IQ scores: IQ scores are also normally distributed with a mean of 100 and a standard deviation of 15. This allows us to compare the relative intelligence of individuals and groups.\n",
    "\n",
    "Errors in measurement: In many scientific experiments, measurements are subject to random errors. The normal distribution can be used to model the distribution of these errors and to estimate the precision of the measurements.\n",
    "\n",
    "The shape of the normal distribution is determined by two parameters: the mean and the standard deviation. The mean determines the location of the peak of the distribution, while the standard deviation determines the spread or width of the distribution. Specifically, the standard deviation controls how quickly the density falls off as we move away from the mean. The larger the standard deviation, the more spread out the distribution."
   ]
  },
  {
   "cell_type": "markdown",
   "id": "5c89e2f0-ff09-4f8b-9296-9a8f22a51d53",
   "metadata": {},
   "source": [
    "#### Q4: Explain the importance of Normal Distribution. Give a few real-life examples of Normal Distribution."
   ]
  },
  {
   "cell_type": "markdown",
   "id": "2beab649-ab87-4028-82b0-62080e28f1e9",
   "metadata": {},
   "source": [
    "Normal distribution is an essential concept in statistics and probability theory. It is widely used to model natural phenomena and plays an essential role in various fields such as finance, engineering, and science.\n",
    "\n",
    "One of the primary reasons for the importance of normal distribution is the Central Limit Theorem, which states that the sum or average of a large number of independent and identically distributed random variables will have an approximately normal distribution, regardless of the distribution of the original variables. This property makes the normal distribution a fundamental tool for statistical inference and hypothesis testing.\n",
    "\n",
    "Some real-life examples where normal distribution is used include:\n",
    "\n",
    "Height of individuals: The height of a population follows a normal distribution with mean and standard deviation varying across different demographics.\n",
    "\n",
    "Test Scores: In educational settings, the scores of standardized tests often follow a normal distribution, which allows for a fair comparison of student performance.\n",
    "\n",
    "Errors in measurements: In any measurement process, there is always some level of error, which is usually modeled using a normal distribution.\n",
    "\n",
    "Stock market returns: In finance, stock market returns are often modeled as normal distributions to analyze the behavior of investments.\n",
    "\n",
    "The mean and standard deviation of the normal distribution determine the shape of the curve. The mean determines the location of the peak, while the standard deviation determines the spread or variability of the data. A smaller standard deviation indicates a narrower and taller curve, while a larger standard deviation results in a broader and flatter curve."
   ]
  },
  {
   "cell_type": "markdown",
   "id": "7d71f33e-2a16-4d1e-b5cf-83ec06b24662",
   "metadata": {},
   "source": [
    "#### Q5: What is Bernaulli Distribution? Give an Example. What is the difference between Bernoulli Distribution and Binomial Distribution?"
   ]
  },
  {
   "cell_type": "markdown",
   "id": "bd98ac4a-66be-4ec7-8b5a-6a09c968c486",
   "metadata": {},
   "source": [
    "Bernoulli distribution is a discrete probability distribution with two possible outcomes: success with probability p and failure with probability 1-p. It is often used to model random experiments with binary outcomes.\n",
    "\n",
    "For example, consider flipping a coin, where a head is considered a success and a tail is considered a failure. The outcome of each flip can be modeled using a Bernoulli distribution, with p = 0.5 for a fair coin.\n",
    "\n",
    "The difference between Bernoulli and binomial distribution is that Bernoulli distribution models a single trial with two possible outcomes, while binomial distribution models the number of successes in a fixed number of independent Bernoulli trials. In other words, Bernoulli distribution is a special case of binomial distribution where n = 1."
   ]
  },
  {
   "cell_type": "markdown",
   "id": "a87de719-eea0-4e98-ada5-6e7879dea794",
   "metadata": {},
   "source": [
    "#### Q6. Consider a dataset with a mean of 50 and a standard deviation of 10. If we assume that the datasetis normally distributed, what is the probability that a randomly selected observation will be greater than 60? Use the appropriate formula and show your calculations."
   ]
  },
  {
   "cell_type": "markdown",
   "id": "01ab1438-c678-4992-b2db-4e0368775098",
   "metadata": {},
   "source": [
    "We can use the standard normal distribution to solve this problem. First, we need to standardize the value of 60 using the formula z = (x - μ) / σ, where x is the value, μ is the mean, and σ is the standard deviation.\n",
    "\n",
    "z = (60 - 50) / 10 = 1\n",
    "\n",
    "Next, we use a standard normal distribution table or calculator to find the probability of a z-score greater than 1. Using a table, we find that the probability of a z-score greater than 1 is approximately 0.1587.\n",
    "\n",
    "Therefore, the probability that a randomly selected observation from the dataset with a mean of 50 and a standard deviation of 10 will be greater than 60 is approximately 0.1587."
   ]
  },
  {
   "cell_type": "markdown",
   "id": "600c132b-d37a-4732-8989-6765cf76ebb1",
   "metadata": {},
   "source": [
    "#### Q7: Explain uniform Distribution with an example."
   ]
  },
  {
   "cell_type": "markdown",
   "id": "c0f4b37e-84df-4551-a772-e4cde00f2ff9",
   "metadata": {},
   "source": [
    "Uniform distribution is a probability distribution where every value in the range of a random variable has equal probability of occurring. In other words, each value in the interval has an equal chance of being selected. This distribution is also known as a rectangular distribution.\n",
    "\n",
    "For example, consider a fair dice roll. Each of the six possible outcomes (1, 2, 3, 4, 5, and 6) has an equal chance of being rolled. Therefore, the probability of rolling any one of these numbers is 1/6, which is the probability of each outcome under a uniform distribution.\n",
    "\n",
    "Another example of a uniform distribution is the selection of a random number between 1 and 100. If the distribution is uniform, each number in the range of 1 to 100 has an equal probability of being chosen, which is 1/100."
   ]
  },
  {
   "cell_type": "markdown",
   "id": "5e01690a-08dc-433f-bad7-77afe1f6c536",
   "metadata": {},
   "source": [
    "#### Q8: What is the z score? State the importance of the z score."
   ]
  },
  {
   "cell_type": "markdown",
   "id": "af7e729b-6b0a-4472-8ba6-c1bfec294a5d",
   "metadata": {},
   "source": [
    "The z-score, also known as the standard score, is a measure of how many standard deviations a data point is away from the mean of a dataset. It is calculated by subtracting the mean from the data point and then dividing by the standard deviation. The formula for calculating the z-score is:\n",
    "\n",
    "z = (x - μ) / σ\n",
    "\n",
    "where x is the data point, μ is the mean, and σ is the standard deviation.\n",
    "\n",
    "The z-score is important because it allows us to compare data points from different datasets that may have different units or scales. By standardizing the data using z-scores, we can make meaningful comparisons and identify outliers. The z-score is also used in hypothesis testing and determining confidence intervals."
   ]
  },
  {
   "cell_type": "markdown",
   "id": "1cfb958c-5dd1-4751-839e-d9a03a00e208",
   "metadata": {},
   "source": [
    "#### Q9: What is Central Limit Theorem? State the significance of the Central Limit Theorem."
   ]
  },
  {
   "cell_type": "markdown",
   "id": "7a4f46c9-75c1-445a-a09b-a81a3b4eaf44",
   "metadata": {},
   "source": [
    "The Central Limit Theorem (CLT) states that when independent random variables are added, their sum tends towards a normal distribution, even if the original variables themselves are not normally distributed. Specifically, as the sample size increases, the distribution of the sample means will become increasingly normal, regardless of the shape of the population distribution.\n",
    "\n",
    "The significance of the CLT is that it allows us to make statistical inferences about a population based on a sample of data. For example, if we take multiple random samples from a population and calculate the mean of each sample, the distribution of those means will approach a normal distribution, allowing us to estimate the population mean and make probabilistic statements about the population.\n",
    "\n",
    "The CLT is widely used in statistical analysis and is a fundamental concept in fields such as finance, economics, and social sciences."
   ]
  },
  {
   "cell_type": "markdown",
   "id": "2a5d720f-6ed7-48db-9888-4b965b33bafa",
   "metadata": {},
   "source": [
    "#### Q10: State the assumptions of the Central Limit Theorem."
   ]
  },
  {
   "cell_type": "markdown",
   "id": "34b1e501-0912-41f2-ba22-7825795583bf",
   "metadata": {},
   "source": [
    "The Central Limit Theorem (CLT) has the following assumptions:\n",
    "\n",
    "The sample size should be sufficiently large, typically n ≥ 30.\n",
    "The sample should be selected randomly and independently from the population.\n",
    "The population should have a finite mean (μ) and a finite variance (σ²) or a standard deviation (σ).\n",
    "For small samples, the population distribution should be normal. For larger samples, the distribution of the sample means approaches normality, regardless of the distribution of the population.\n",
    "If these assumptions are satisfied, then the Central Limit Theorem states that the distribution of the sample means will be approximately normal, regardless of the underlying distribution of the population. This allows us to use the normal distribution to make statistical inferences about the population, even when we don't know the population distribution."
   ]
  }
 ],
 "metadata": {
  "kernelspec": {
   "display_name": "Python 3 (ipykernel)",
   "language": "python",
   "name": "python3"
  },
  "language_info": {
   "codemirror_mode": {
    "name": "ipython",
    "version": 3
   },
   "file_extension": ".py",
   "mimetype": "text/x-python",
   "name": "python",
   "nbconvert_exporter": "python",
   "pygments_lexer": "ipython3",
   "version": "3.10.8"
  }
 },
 "nbformat": 4,
 "nbformat_minor": 5
}

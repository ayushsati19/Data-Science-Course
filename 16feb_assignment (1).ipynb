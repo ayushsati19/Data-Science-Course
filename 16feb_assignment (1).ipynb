{
 "cells": [
  {
   "cell_type": "markdown",
   "id": "f26340f5-dd1c-46a2-9750-a2582341d9ea",
   "metadata": {},
   "source": [
    "#### Q1. What is a database? Differentiate between SQL and NoSQL databases."
   ]
  },
  {
   "cell_type": "markdown",
   "id": "71a3ea91-c125-486c-9c55-6ffcc832e2d3",
   "metadata": {},
   "source": [
    "#### Ans:-"
   ]
  },
  {
   "cell_type": "markdown",
   "id": "3f0bdd19-bbdd-480d-9104-468f4d093f3a",
   "metadata": {},
   "source": [
    "A database is an organized collection of data that is stored and managed using software. It allows users to create, read, update, and delete data in a structured and organized manner. Databases are used in various applications, such as websites, mobile apps, e-commerce, healthcare, and finance.\n",
    "\n",
    "SQL and NoSQL are two different types of databases.\n",
    "SQL (Structured Query Language) databases are relational databases that use a tabular schema to store and manage data. SQL databases use the SQL language to manage and manipulate data. SQL databases have a defined schema that outlines the structure of the database and the relationships between tables. SQL databases are highly structured and are ideal for applications that require strict data consistency, such as financial transactions, e-commerce, and banking.\n",
    "\n",
    "NoSQL (Not only SQL) databases are non-relational databases that store data in a document-oriented or key-value pair format. NoSQL databases do not have a fixed schema and can store data in a flexible and unstructured way. NoSQL databases are ideal for applications that require high scalability and performance, such as social media, gaming, and big data analytics.\n",
    "The main differences between SQL and NoSQL databases are:\n",
    "\n",
    "Data Model: SQL databases use a tabular schema, while NoSQL databases use a document-oriented or key-value pair format.\n",
    "\n",
    "Schema: SQL databases have a defined schema that outlines the structure of the database, while NoSQL databases do not have a fixed schema.\n",
    "\n",
    "Scalability: NoSQL databases are highly scalable and can handle large amounts of data, while SQL databases are less scalable and are better suited for applications that require strict data consistency."
   ]
  },
  {
   "cell_type": "markdown",
   "id": "0d6a055f-d4d3-43c9-972f-300f453b1020",
   "metadata": {},
   "source": [
    "#### Q2. What is DDL? Explain why CREATE, DROP, ALTER, and TRUNCATE are used with an example."
   ]
  },
  {
   "cell_type": "markdown",
   "id": "37ae2989-ff3e-494c-997f-a07bc319c347",
   "metadata": {},
   "source": [
    "#### Ans:-"
   ]
  },
  {
   "cell_type": "markdown",
   "id": "8ed4a886-3035-447a-889e-37f9c158a178",
   "metadata": {},
   "source": [
    "DDL stands for Data Definition Language and is used to define the structure and layout of a database. DDL commands are used to create, modify, and delete database objects such as tables, indexes, and views.\n",
    "\n",
    "\n",
    "CREATE: This command is used to create a new database object, such as a table, view, or index.Foe eg to create a new table named customers,we apply the following code:-\n",
    "\n",
    "CREATE TABLE customers (\n",
    "  id INT PRIMARY KEY,\n",
    " \n",
    " name VARCHAR(50),\n",
    " \n",
    " email VARCHAR(50)\n",
    "\n",
    ");\n",
    "\n",
    "DROP: This command is used to delete an existing database object, such as a table, view, or index. For example, the following SQL statement deletes the \"customers\" table:\n",
    "\n",
    "DROP TABLE customers;\n",
    "\n",
    "ALTER: This command is used to modify the structure of an existing database object, such as a table, view, or index. For example, the following SQL statement adds a new column named \"phone\" to the \"customers\" table:\n",
    "\n",
    "ALTER TABLE customers ADD phone VARCHAR(20);\n",
    "\n",
    "TRUNCATE: This command is used to delete all the data from an existing table while keeping its structure intact. For example, the following SQL statement deletes all the data from the \"customers\" table:\n",
    "\n",
    "TRUNCATE TABLE customers;"
   ]
  },
  {
   "cell_type": "markdown",
   "id": "0a031952-849a-46af-a2ba-e5afb4f089df",
   "metadata": {},
   "source": [
    "#### Q3. What is DML? Explain INSERT, UPDATE, and DELETE with an example."
   ]
  },
  {
   "cell_type": "markdown",
   "id": "3551e454-1597-4f47-b7b2-62edaf4438de",
   "metadata": {},
   "source": [
    "DML stands for Data Manipulation Language, which is a subset of SQL (Structured Query Language) used to manipulate data in a database. DML commands are used to insert, update, and delete data from tables in a database.\n",
    "\n",
    "Here are some of the commonly used DML commands:\n",
    "\n",
    "INSERT: This command is used to insert new data into a table. For example, the following SQL statement inserts a new row into the \"customers\" table:\n",
    "\n",
    "INSERT INTO customers (id, name, email) VALUES (1, 'John Cena', 'johncena@wwe.com');\n",
    "UPDATE: This command is used to modify existing data in a table. For example, the following SQL statement updates the email address of the customer with id=1:\n",
    "\n",
    "UPDATE customers SET email = 'johncena@wwe.com' WHERE id = 1;\n",
    "\n",
    "DELETE: This command is used to delete data from a table. For example, the following SQL statement deletes the customer with id=1 from the \"customers\" table:\n",
    "\n",
    "DELETE FROM customers WHERE id = 1;\n",
    "\n",
    "In summary, DML commands are used to manipulate data in a database. The INSERT command is used to insert new data into a table, the UPDATE command is used to modify existing data in a table, and the DELETE command is used to delete data from a table."
   ]
  },
  {
   "cell_type": "markdown",
   "id": "3f0f8078-0bca-49c6-81d1-096eb5a0d9c1",
   "metadata": {},
   "source": [
    "#### Q4. What is DQL? Explain SELECT with an example."
   ]
  },
  {
   "cell_type": "markdown",
   "id": "25615956-39a2-4b93-9e6a-7e9e6624bcf3",
   "metadata": {},
   "source": [
    "DQL stands for Data Query Language, which is a subset of SQL (Structured Query Language) used to retrieve data from a database. DQL commands are used to query the database and retrieve specific data from one or more tables.\n",
    "\n",
    "The most commonly used DQL command is SELECT, which is used to retrieve data from one or more tables in a database based on specified criteria.\n",
    "\n",
    "Here is an example of how the SELECT command can be used:\n",
    "\n",
    "SELECT * FROM customers WHERE age > 25;\n",
    "\n",
    "In this example, the SELECT command is used to retrieve all columns (*) from the \"customers\" table where the age of the customer is greater than 25. The result of this query would be a set of rows from the \"customers\" table where the age column is greater than 25.\n",
    "\n",
    "Here is another example that demonstrates how the SELECT command can be used with multiple tables:\n",
    "\n",
    "\n",
    "SELECT customers.name, orders.order_date, orders.total_amount\n",
    "FROM customers\n",
    "INNER JOIN orders ON customers.id = orders.customer_id\n",
    "WHERE customers.age > 25;\n",
    "\n",
    "In this example, the SELECT command is used to retrieve the name of the customer, order date, and total amount of each order from the \"customers\" and \"orders\" tables. The tables are joined using the INNER JOIN clause, which specifies the relationship between the two tables based on the customer_id column in the \"orders\" table and the id column in the \"customers\" table. The WHERE clause filters the results to only include customers who are over the age of 25.\n",
    "\n",
    "In summary, the SELECT command is used to retrieve data from one or more tables in a database based on specified criteria. The SELECT command can be used with single or multiple tables and can be customized to include or exclude specific columns, filter data based on certain conditions, and join tables to combine related data."
   ]
  },
  {
   "cell_type": "markdown",
   "id": "a918fbde-29e0-4328-8a88-71ac64afac0a",
   "metadata": {},
   "source": [
    "#### Q5. Explain Primary Key and Foreign Key."
   ]
  },
  {
   "cell_type": "markdown",
   "id": "2244393e-7239-423e-a859-f9b390405649",
   "metadata": {},
   "source": [
    "In a relational database, a primary key and foreign key are used to establish a relationship between two tables.\n",
    "\n",
    "A primary key is a column or set of columns in a table that uniquely identifies each row in the table. The primary key ensures that each row in the table is unique and provides a way to access and modify data in the table. For example, in a \"customers\" table, the primary key might be the \"id\" column, which would ensure that each customer has a unique identifier.\n",
    "\n",
    "A foreign key is a column or set of columns in a table that refers to the primary key of another table. The foreign key establishes a relationship between two tables by ensuring that each value in the foreign key column(s) of one table corresponds to a value in the primary key column(s) of another table. For example, in an \"orders\" table, the \"customer_id\" column might be a foreign key that refers to the primary key \"id\" column in the \"customers\" table. This would allow the \"orders\" table to associate each order with the customer who placed it.\n",
    "\n",
    "To summarize, a primary key is a unique identifier for each row in a table, while a foreign key is a column or set of columns in a table that refers to the primary key of another table, establishing a relationship between the two tables. The use of primary and foreign keys ensures data consistency and integrity in a relational database."
   ]
  },
  {
   "cell_type": "markdown",
   "id": "5813bef4-15f0-42fb-b3b7-fc591cf1af28",
   "metadata": {},
   "source": [
    "#### Q6. Write a python code to connect MySQL to python. Explain the cursor() and execute() method."
   ]
  },
  {
   "cell_type": "code",
   "execution_count": 2,
   "id": "36b88e21-80a6-4c89-9b3d-d5efa4e313b9",
   "metadata": {},
   "outputs": [
    {
     "ename": "ModuleNotFoundError",
     "evalue": "No module named 'mysql'",
     "output_type": "error",
     "traceback": [
      "\u001b[0;31m---------------------------------------------------------------------------\u001b[0m",
      "\u001b[0;31mModuleNotFoundError\u001b[0m                       Traceback (most recent call last)",
      "Cell \u001b[0;32mIn[2], line 1\u001b[0m\n\u001b[0;32m----> 1\u001b[0m \u001b[38;5;28;01mimport\u001b[39;00m \u001b[38;5;21;01mmysql\u001b[39;00m\u001b[38;5;21;01m.\u001b[39;00m\u001b[38;5;21;01mconnector\u001b[39;00m\n\u001b[1;32m      3\u001b[0m \u001b[38;5;66;03m# establish a connection to the database\u001b[39;00m\n\u001b[1;32m      4\u001b[0m mydb \u001b[38;5;241m=\u001b[39m mysql\u001b[38;5;241m.\u001b[39mconnector\u001b[38;5;241m.\u001b[39mconnect(\n\u001b[1;32m      5\u001b[0m   host\u001b[38;5;241m=\u001b[39m\u001b[38;5;124m\"\u001b[39m\u001b[38;5;124mlocalhost\u001b[39m\u001b[38;5;124m\"\u001b[39m,\n\u001b[1;32m      6\u001b[0m   user\u001b[38;5;241m=\u001b[39m\u001b[38;5;124m\"\u001b[39m\u001b[38;5;124musername\u001b[39m\u001b[38;5;124m\"\u001b[39m,\n\u001b[1;32m      7\u001b[0m   password\u001b[38;5;241m=\u001b[39m\u001b[38;5;124m\"\u001b[39m\u001b[38;5;124mpassword\u001b[39m\u001b[38;5;124m\"\u001b[39m,\n\u001b[1;32m      8\u001b[0m   database\u001b[38;5;241m=\u001b[39m\u001b[38;5;124m\"\u001b[39m\u001b[38;5;124mdatabasename\u001b[39m\u001b[38;5;124m\"\u001b[39m\n\u001b[1;32m      9\u001b[0m )\n",
      "\u001b[0;31mModuleNotFoundError\u001b[0m: No module named 'mysql'"
     ]
    }
   ],
   "source": [
    "import mysql.connector\n",
    "\n",
    "# establish a connection to the database\n",
    "mydb = mysql.connector.connect(\n",
    "  host=\"localhost\",\n",
    "  user=\"username\",\n",
    "  password=\"password\",\n",
    "  database=\"databasename\"\n",
    ")\n",
    "\n",
    "# create a cursor object\n",
    "mycursor = mydb.cursor()\n",
    "\n",
    "# execute a SQL query\n",
    "mycursor.execute(\"SELECT * FROM customers\")\n",
    "\n",
    "# fetch the results of the query\n",
    "result = mycursor.fetchall()\n",
    "\n",
    "# print the results\n",
    "for row in result:\n",
    "  print(row)\n"
   ]
  },
  {
   "cell_type": "markdown",
   "id": "208f3889-1a26-4d8d-8981-1eee67513076",
   "metadata": {},
   "source": [
    "The cursor() and execute() methods are used in Python when working with databases to execute SQL queries and retrieve results.\n",
    "\n",
    "The cursor() method creates a cursor object, which allows us to interact with the database and execute SQL statements. The cursor object provides methods for executing SQL statements, fetching results, and committing transactions.\n",
    "\n",
    "The execute() method is used to execute SQL statements on the database through the cursor object. The SQL statement is passed as a parameter to the execute() method. The execute() method returns the number of rows affected by the SQL statement, which can be used to check whether the statement was successful."
   ]
  },
  {
   "cell_type": "markdown",
   "id": "075f6eb8-6836-49bb-aebd-e958db34452d",
   "metadata": {},
   "source": [
    "#### Q7. Give the order of execution of SQL clauses in an SQL query."
   ]
  },
  {
   "cell_type": "markdown",
   "id": "8a0235d6-b372-48c7-a8d7-ead939fcf506",
   "metadata": {},
   "source": [
    "The order of execution of SQL clauses in an SQL query is as follows:\n",
    "\n",
    "FROM clause: The FROM clause specifies the table or tables from which the data will be selected.\n",
    "\n",
    "JOIN clause: If the query involves joining multiple tables, the JOIN clause is used to specify how the tables are to be joined.\n",
    "\n",
    "WHERE clause: The WHERE clause filters the rows based on specified conditions.\n",
    "\n",
    "GROUP BY clause: The GROUP BY clause is used to group the selected rows by one or more columns.\n",
    "\n",
    "HAVING clause: The HAVING clause filters the grouped rows based on specified conditions.\n",
    "\n",
    "SELECT clause: The SELECT clause selects the columns to be returned in the result set.\n",
    "\n",
    "DISTINCT clause: The DISTINCT clause removes duplicates from the result set.\n",
    "\n",
    "ORDER BY clause: The ORDER BY clause orders the result set based on specified columns.\n",
    "\n",
    "LIMIT clause: The LIMIT clause limits the number of rows returned in the result set.\n",
    "\n",
    "It is important to note that not all of these clauses are required for every SQL query, and some of them may be optional or omitted depending on the specific requirements of the query. A"
   ]
  },
  {
   "cell_type": "code",
   "execution_count": null,
   "id": "85fce975-5231-49d0-84d8-680160612213",
   "metadata": {},
   "outputs": [],
   "source": []
  }
 ],
 "metadata": {
  "kernelspec": {
   "display_name": "Python 3 (ipykernel)",
   "language": "python",
   "name": "python3"
  },
  "language_info": {
   "codemirror_mode": {
    "name": "ipython",
    "version": 3
   },
   "file_extension": ".py",
   "mimetype": "text/x-python",
   "name": "python",
   "nbconvert_exporter": "python",
   "pygments_lexer": "ipython3",
   "version": "3.10.8"
  }
 },
 "nbformat": 4,
 "nbformat_minor": 5
}

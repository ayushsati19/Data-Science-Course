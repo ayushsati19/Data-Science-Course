{
 "cells": [
  {
   "cell_type": "markdown",
   "id": "7739063d-1c97-460b-973f-af949495f0d0",
   "metadata": {},
   "source": [
    "### Q1. Explain with an example each when to use a for loop and a while loop.   "
   ]
  },
  {
   "cell_type": "markdown",
   "id": "8fc7fb93-bd60-4b20-8ed6-578a0b1c19fc",
   "metadata": {},
   "source": [
    "Ans:- A for loop is used when we want to iterate over a sequence of elements or when we know the exact number of iterations that we need to perform. On the other hand, a while loop is used when we want to perform a task repeatedly until a certain condition is met.\n",
    "#### Use of for loop:-\n",
    "Suppose we want to print the elements of a list. We can use a for loop to iterate over the list and print each element."
   ]
  },
  {
   "cell_type": "code",
   "execution_count": 4,
   "id": "43bc6037-9ea5-4aca-bbe9-fe5713b6a385",
   "metadata": {},
   "outputs": [
    {
     "name": "stdout",
     "output_type": "stream",
     "text": [
      "1\n",
      "2\n",
      "3\n",
      "4\n",
      "5\n"
     ]
    }
   ],
   "source": [
    "# Using for loop to print elements of a list\n",
    "my_list = [1, 2, 3, 4, 5]\n",
    "for element in my_list:\n",
    "    print(element) "
   ]
  },
  {
   "cell_type": "markdown",
   "id": "95925e01-83e7-4ee7-ae48-324846807331",
   "metadata": {},
   "source": [
    "A while loop when we want to perform a task repeatedly until a certain condition is met.\n",
    "Suppose we want to calculate the sum of numbers from 1 to n, where n is a user input. We can use a while loop to repeatedly add numbers until we reach n."
   ]
  },
  {
   "cell_type": "code",
   "execution_count": 8,
   "id": "648aa6f3-6d6d-4408-a14e-c931440909d8",
   "metadata": {},
   "outputs": [
    {
     "name": "stdin",
     "output_type": "stream",
     "text": [
      "Enter a number:  3\n"
     ]
    },
    {
     "name": "stdout",
     "output_type": "stream",
     "text": [
      "The sum of numbers from 1 to 3 is 6\n"
     ]
    }
   ],
   "source": [
    "# Using while loop to calculate sum of numbers from 1 to n\n",
    "n = int(input(\"Enter a number: \"))\n",
    "sum = 0\n",
    "i = 1\n",
    "while i <= n:\n",
    "    sum += i\n",
    "    i += 1\n",
    "print(\"The sum of numbers from 1 to\", n, \"is\", sum)"
   ]
  },
  {
   "cell_type": "markdown",
   "id": "d658154e-6dfb-4fe7-a56b-3a74e43b681d",
   "metadata": {
    "tags": []
   },
   "source": [
    "### Q2:- Write a python program to print the sum and product of the first 10 natural numbers using for and while loop.\n"
   ]
  },
  {
   "cell_type": "markdown",
   "id": "597a913b-924d-4739-92e8-a2958492b880",
   "metadata": {},
   "source": [
    "#### Ans :-\n",
    "##### Using for loop:-\n"
   ]
  },
  {
   "cell_type": "code",
   "execution_count": 1,
   "id": "8a9d197c-c9b8-44aa-991f-05fed8e90120",
   "metadata": {},
   "outputs": [
    {
     "name": "stdout",
     "output_type": "stream",
     "text": [
      "Sum of the first 10 natural numbers: 55\n",
      "Product of the first 10 natural numbers: 3628800\n"
     ]
    }
   ],
   "source": [
    "sum = 0\n",
    "product = 1\n",
    "for i in range(1, 11):\n",
    "    sum += i\n",
    "    product *= i\n",
    "print(\"Sum of the first 10 natural numbers:\", sum)\n",
    "print(\"Product of the first 10 natural numbers:\", product)\n"
   ]
  },
  {
   "cell_type": "markdown",
   "id": "c4abe2af-e5fb-41fa-8a9e-bfd15f6ee48f",
   "metadata": {},
   "source": [
    "#### Using while loop :-"
   ]
  },
  {
   "cell_type": "code",
   "execution_count": 5,
   "id": "375b4007-d320-4383-bb38-b472493cce41",
   "metadata": {},
   "outputs": [
    {
     "name": "stdout",
     "output_type": "stream",
     "text": [
      "Sum of the first 10 natural numbers: 55\n",
      "Product of the first 10 natural numbers: 3628800\n"
     ]
    }
   ],
   "source": [
    "sum = 0\n",
    "product = 1\n",
    "i = 1\n",
    "while i <= 10:\n",
    "    sum += i\n",
    "    product *= i\n",
    "    i += 1\n",
    "print(\"Sum of the first 10 natural numbers:\", sum)\n",
    "print(\"Product of the first 10 natural numbers:\", product)\n"
   ]
  },
  {
   "cell_type": "markdown",
   "id": "88333d23-7674-4aae-ab5e-af949706a014",
   "metadata": {
    "tags": []
   },
   "source": [
    "\n",
    "\n",
    "#### Q3. Create a python program to compute the electricity bill for a household. The per-unit charges in rupees are as follows: For the first 100 units, the user will be charged Rs. 4.5 perunit, for the next 100 units, the user will be charged Rs. 6 per unit, and for the next 100 units, the user will be charged Rs. 10 per unit, After 300 units and above the user will be charged Rs. 20 per unit."
   ]
  },
  {
   "cell_type": "code",
   "execution_count": 17,
   "id": "f9fd75d7-9ffb-43e6-80dc-24f98a4fde90",
   "metadata": {},
   "outputs": [
    {
     "name": "stdin",
     "output_type": "stream",
     "text": [
      "enter the amount of units consumed this month  310\n"
     ]
    }
   ],
   "source": [
    "unit=int(input(\"enter the amount of units consumed this month \"))"
   ]
  },
  {
   "cell_type": "code",
   "execution_count": 18,
   "id": "21197297-1bb8-4e85-8efc-27d978c663d9",
   "metadata": {},
   "outputs": [
    {
     "name": "stdout",
     "output_type": "stream",
     "text": [
      "The bill amount is  6200\n"
     ]
    }
   ],
   "source": [
    "if unit<=100:\n",
    " amount=unit*4.5\n",
    "elif unit >100 and unit <=200:\n",
    " amount=100*4.5+(unit-100)*6\n",
    "elif unit>200 and unit<=300:\n",
    "    amount=100*4.5+100*6+(unit-200)*10\n",
    "else :\n",
    " amount=100*4.5+100*6+\n",
    "print(\"The bill amount is \",amount)"
   ]
  },
  {
   "cell_type": "markdown",
   "id": "e7de3700-90e6-470f-9283-1aab292ec88f",
   "metadata": {},
   "source": [
    "#### Q4. Create a list of numbers from 1 to 100. Use for loop and while loop to calculate the cube of each number and if the cube of that number is divisible by 4 or 5 then append that number in a list and print that list."
   ]
  },
  {
   "cell_type": "code",
   "execution_count": 12,
   "id": "ca550fa0-38b0-4e66-9bcf-2af8b474708d",
   "metadata": {},
   "outputs": [
    {
     "name": "stdout",
     "output_type": "stream",
     "text": [
      "[2, 4, 5, 6, 8, 10, 12, 14, 15, 16, 18, 20, 22, 24, 25, 26, 28, 30, 32, 34, 35, 36, 38, 40, 42, 44, 45, 46, 48, 50, 52, 54, 55, 56, 58, 60, 62, 64, 65, 66, 68, 70, 72, 74, 75, 76, 78, 80, 82, 84, 85, 86, 88, 90, 92, 94, 95, 96, 98, 100]\n"
     ]
    }
   ],
   "source": [
    "# using for lo o p  to iterate through numbers 1 to  100\n",
    "a=range(1, 101)\n",
    "cubes=[]\n",
    "for i in a:\n",
    "    cube = i*i*i\n",
    "    if cube%4==0 or cube%5==0:\n",
    "        cubes.append(i)\n",
    "print(cubes)    "
   ]
  },
  {
   "cell_type": "code",
   "execution_count": 13,
   "id": "e856c99c-6707-45c6-b649-50216970d2a2",
   "metadata": {},
   "outputs": [
    {
     "name": "stdout",
     "output_type": "stream",
     "text": [
      "[2, 4, 5, 6, 8, 10, 12, 14, 15, 16, 18, 20, 22, 24, 25, 26, 28, 30, 32, 34, 35, 36, 38, 40, 42, 44, 45, 46, 48, 50, 52, 54, 55, 56, 58, 60, 62, 64, 65, 66, 68, 70, 72, 74, 75, 76, 78, 80, 82, 84, 85, 86, 88, 90, 92, 94, 95, 96, 98, 100]\n"
     ]
    }
   ],
   "source": [
    "# using while loop to iterate through numbers 1 to 100\n",
    "cubes = []\n",
    "num = 1\n",
    "while num <= 100:\n",
    "    cube = num ** 3\n",
    "    \n",
    "    if cube % 4 == 0 or cube % 5 == 0:\n",
    "       \n",
    "        cubes.append(num)\n",
    "    num += 1\n",
    "\n",
    "print(cubes)"
   ]
  },
  {
   "cell_type": "markdown",
   "id": "15f7337a-c462-48b0-990b-dfd0a3797572",
   "metadata": {},
   "source": [
    "#### Q5. Write a program to filter count vowels in the below-given string= \"I want to become a data scientist\""
   ]
  },
  {
   "cell_type": "code",
   "execution_count": 23,
   "id": "0cc5db0b-05c2-49c6-95b9-a6ed6a62e321",
   "metadata": {},
   "outputs": [
    {
     "name": "stdout",
     "output_type": "stream",
     "text": [
      "The no. of vowels in string are  12\n"
     ]
    }
   ],
   "source": [
    "str=\"I Want to become a data scientist\"\n",
    "count=0\n",
    "vowel='aeiou'\n",
    "for i in str:\n",
    "    if i.lower() in vowel :\n",
    "        count+=1\n",
    "print(\"The no. of vowels in string are \",count)"
   ]
  }
 ],
 "metadata": {
  "kernelspec": {
   "display_name": "Python 3 (ipykernel)",
   "language": "python",
   "name": "python3"
  },
  "language_info": {
   "codemirror_mode": {
    "name": "ipython",
    "version": 3
   },
   "file_extension": ".py",
   "mimetype": "text/x-python",
   "name": "python",
   "nbconvert_exporter": "python",
   "pygments_lexer": "ipython3",
   "version": "3.10.8"
  }
 },
 "nbformat": 4,
 "nbformat_minor": 5
}

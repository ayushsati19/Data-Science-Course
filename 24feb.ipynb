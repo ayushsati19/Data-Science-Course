{
 "cells": [
  {
   "cell_type": "markdown",
   "id": "236154de-1bbb-4483-a3d6-89ef9731d841",
   "metadata": {},
   "source": [
    "#### Q1. List any five functions of the pandas library with execution."
   ]
  },
  {
   "cell_type": "markdown",
   "id": "924d5ffc-cab6-4dfe-a788-e7d99449bd56",
   "metadata": {},
   "source": [
    "read_csv() function is used to read data from a CSV file and create a DataFrame."
   ]
  },
  {
   "cell_type": "code",
   "execution_count": 5,
   "id": "53892b59-89e9-4b4e-8d67-afd6162c4a58",
   "metadata": {},
   "outputs": [],
   "source": [
    "import pandas as pd\n",
    "data = pd.read_csv('FLIPKART.csv')"
   ]
  },
  {
   "cell_type": "markdown",
   "id": "44810407-953a-45a2-87be-976182bc046c",
   "metadata": {},
   "source": [
    "head() function is used to display the first few rows of the DataFrame."
   ]
  },
  {
   "cell_type": "code",
   "execution_count": 6,
   "id": "471287e9-22ea-4a53-8230-3537cad6c811",
   "metadata": {},
   "outputs": [
    {
     "name": "stdout",
     "output_type": "stream",
     "text": [
      "   Ratings        Reviews headers  \\\n",
      "0        5     Highly recommended   \n",
      "1        5      Terrific purchase   \n",
      "2        5      Terrific purchase   \n",
      "3        5         Classy product   \n",
      "4        5  Mind-blowing purchase   \n",
      "\n",
      "                                             Reviews  \n",
      "0  Great Phone at this price range, 60hz refresh ...  \n",
      "1  Camera is really good and battery performance ...  \n",
      "2  This is a power packed product considering the...  \n",
      "3  Writing this review after using for 2 days.Cam...  \n",
      "4  Simply awesome!Iphone 13 was already good enou...  \n"
     ]
    }
   ],
   "source": [
    "import pandas as pd\n",
    "data = pd.read_csv('FLIPKART.csv')\n",
    "print(data.head())"
   ]
  },
  {
   "cell_type": "markdown",
   "id": "0319caa8-8388-445e-ae66-75ec76fa26e1",
   "metadata": {},
   "source": [
    "describe() function is used to generate descriptive statistics of the DataFrame."
   ]
  },
  {
   "cell_type": "code",
   "execution_count": null,
   "id": "4eb12bd2-56e6-45c1-9032-a088876e9c75",
   "metadata": {},
   "outputs": [],
   "source": [
    "import pandas as pd\n",
    "data = pd.read_csv('FLIPKART.csv')\n",
    "print(data.describe())\n"
   ]
  },
  {
   "cell_type": "markdown",
   "id": "1426055e-6a5f-4b36-b2bd-b2314a8a7d3c",
   "metadata": {},
   "source": [
    "plot() function is used to create various types of plots, such as line plots, bar plots, scatter plots, etc."
   ]
  },
  {
   "cell_type": "markdown",
   "id": "fb4dbb82-50d0-496a-add2-c4efd3ec8f43",
   "metadata": {},
   "source": [
    "groupby() function is used to group data based on one or more columns and apply aggregate functions to them."
   ]
  },
  {
   "cell_type": "code",
   "execution_count": 20,
   "id": "109aefdd-8ad7-41a7-a8a1-2151b4e3e1cd",
   "metadata": {},
   "outputs": [
    {
     "name": "stdout",
     "output_type": "stream",
     "text": [
      "         b\n",
      "a c       \n",
      "3 1    8.0\n",
      "4 4    9.0\n",
      "5 6   10.0\n",
      "6 8   11.0\n",
      "7 10  12.0\n"
     ]
    }
   ],
   "source": [
    "import pandas as pd\n",
    "data =pd.DataFrame({'a':[3,4,5,6,7],'b':[8,9,10,11,12],'c':[1,4,6,8,10]}) \n",
    "grouped_data = data.groupby(['a', 'c']).mean()\n",
    "print(grouped_data)\n"
   ]
  },
  {
   "cell_type": "markdown",
   "id": "192e89b3-6502-4ac8-b00d-7e0cbcc44474",
   "metadata": {},
   "source": [
    "plot() function is used to create various types of plots, such as line plots, bar plots, scatter plots, etc.\n",
    "kotlin"
   ]
  },
  {
   "cell_type": "code",
   "execution_count": 14,
   "id": "bba6b489-81ef-47ee-9819-40894d40d068",
   "metadata": {},
   "outputs": [],
   "source": [
    "import pandas as pd\n",
    "df=pd.DataFrame({'a':[3,4,5,6,7],'b':[8,9,10,11,12]})"
   ]
  },
  {
   "cell_type": "code",
   "execution_count": 16,
   "id": "5a8c5782-9776-4684-8c4e-6fb33fc6ec0a",
   "metadata": {},
   "outputs": [
    {
     "data": {
      "text/plain": [
       "<AxesSubplot: xlabel='a'>"
      ]
     },
     "execution_count": 16,
     "metadata": {},
     "output_type": "execute_result"
    },
    {
     "data": {
      "image/png": "[encoded data removed]",
      "text/plain": [
       "<Figure size 640x480 with 1 Axes>"
      ]
     },
     "metadata": {},
     "output_type": "display_data"
    }
   ],
   "source": [
    "df.plot(x='a',y='b')"
   ]
  },
  {
   "cell_type": "markdown",
   "id": "795bd40e-9f69-4e8e-a635-275fd705e3f3",
   "metadata": {},
   "source": [
    "#### Q2. Given a Pandas DataFrame df with columns 'A', 'B', and 'C', write a Python function to re-index the\n",
    "DataFrame with a new index that starts from 1 and increments by 2 for each row."
   ]
  },
  {
   "cell_type": "code",
   "execution_count": 21,
   "id": "c4b8b7bc-b4b5-41be-a406-8865f8320688",
   "metadata": {},
   "outputs": [],
   "source": [
    "import pandas as pd\n",
    "\n",
    "def reindex_dataframe(df):\n",
    "    new_index = pd.RangeIndex(start=1, stop=2*len(df), step=2)\n",
    "    df = df.set_index(new_index)\n",
    "    return df\n"
   ]
  },
  {
   "cell_type": "markdown",
   "id": "6ae6838a-c969-442f-8642-02e0ced5200f",
   "metadata": {},
   "source": [
    "#### Q3. You have a Pandas DataFrame df with a column named 'Values'. Write a Python function that iterates over the DataFrame and calculates the sum of the first three values in the 'Values' column.\n",
    "The function should print the sum to the console.\n",
    "For example, if the 'Values' column of df contains the values [10, 20, 30, 40, 50], your function should\n",
    "calculate and print the sum of the first three values, which is 60."
   ]
  },
  {
   "cell_type": "code",
   "execution_count": 22,
   "id": "282198bf-831c-4991-977d-9cce96fc5eb1",
   "metadata": {},
   "outputs": [],
   "source": [
    "import pandas as pd\n",
    "\n",
    "def sum_first_three_values(df):\n",
    "    values_sum = 0\n",
    "    for i, row in df.iterrows():\n",
    "        if i < 3:\n",
    "            values_sum += row['Values']\n",
    "    print(\"Sum of the first three values:\", values_sum)"
   ]
  },
  {
   "cell_type": "code",
   "execution_count": 23,
   "id": "bf99162f-a7a0-4b85-9cf4-961becef1a0f",
   "metadata": {},
   "outputs": [
    {
     "name": "stdout",
     "output_type": "stream",
     "text": [
      "Sum of the first three values: 60\n"
     ]
    }
   ],
   "source": [
    "import pandas as pd\n",
    "\n",
    "# Create a sample DataFrame\n",
    "df = pd.DataFrame({'Values': [10, 20, 30, 40, 50]})\n",
    "\n",
    "# Call the sum_first_three_values function\n",
    "sum_first_three_values(df)\n"
   ]
  },
  {
   "cell_type": "markdown",
   "id": "9b8587dd-4208-4402-812e-61168904ee04",
   "metadata": {},
   "source": [
    "#### Q4. Given a Pandas DataFrame df with a column 'Text', write a Python function to create a new column 'Word_Count' that contains the number of words in each row of the 'Text' column."
   ]
  },
  {
   "cell_type": "code",
   "execution_count": 24,
   "id": "8c662eaf-2d69-4249-bcef-9604f3e85f82",
   "metadata": {},
   "outputs": [],
   "source": [
    "import pandas as pd\n",
    "\n",
    "def add_word_count_column(df):\n",
    "    # Split the text column into words\n",
    "    words = df['Text'].str.split()\n",
    "\n",
    "    # Count the number of words in each row\n",
    "    word_counts = words.apply(len)\n",
    "\n",
    "    # Add the word_counts as a new column to the dataframe\n",
    "    df['Word_Count'] = word_counts\n",
    "\n",
    "    return df\n"
   ]
  },
  {
   "cell_type": "code",
   "execution_count": 25,
   "id": "49d96ace-621c-4496-8302-a9cf48209176",
   "metadata": {},
   "outputs": [
    {
     "name": "stdout",
     "output_type": "stream",
     "text": [
      "                                  Text  Word_Count\n",
      "0                This is a sample text           5\n",
      "1  Another sample text with more words           6\n",
      "2                      And another one           3\n"
     ]
    }
   ],
   "source": [
    "import pandas as pd\n",
    "\n",
    "# Create a sample DataFrame\n",
    "df = pd.DataFrame({'Text': ['This is a sample text', 'Another sample text with more words', 'And another one']})\n",
    "\n",
    "# Call the add_word_count_column function\n",
    "df = add_word_count_column(df)\n",
    "\n",
    "# Print the modified DataFrame\n",
    "print(df)\n"
   ]
  },
  {
   "cell_type": "markdown",
   "id": "d8f0c817-275c-44af-ba67-b03e8c94298c",
   "metadata": {},
   "source": [
    "#### Q5. How are DataFrame.size() and DataFrame.shape() different?"
   ]
  },
  {
   "cell_type": "markdown",
   "id": "890d21a6-04d0-4709-ab22-f4698f48d305",
   "metadata": {},
   "source": [
    "DataFrame.size() and DataFrame.shape() are two different methods in Pandas used to obtain different information about the DataFrame.\n",
    "\n",
    "DataFrame.size(): This method returns the total number of elements in the DataFrame, which is equal to the number of rows multiplied by the number of columns. This method returns a scalar value.\n",
    "\n",
    "DataFrame.shape(): This method returns a tuple containing the number of rows and columns in the DataFrame, respectively. The number of rows is the first element of the tuple, and the number of columns is the second element of the tuple."
   ]
  },
  {
   "cell_type": "markdown",
   "id": "ed8b3281-5b15-42b1-b73f-632ab51652fb",
   "metadata": {},
   "source": [
    "#### Q6. Which function of pandas do we use to read an excel file?"
   ]
  },
  {
   "cell_type": "markdown",
   "id": "d0c54837-7084-47e0-b934-c7e30d269f21",
   "metadata": {},
   "source": [
    "To read an Excel file in Pandas, we can use the read_excel() function.\n",
    "Syntax for the following is:"
   ]
  },
  {
   "cell_type": "raw",
   "id": "2b69b939-a008-466a-8500-124a7a76c69d",
   "metadata": {},
   "source": [
    "import pandas as pd\n",
    "\n",
    "# Read an Excel file into a Pandas DataFrame\n",
    "df = pd.read_excel('path/to/excel_file.xlsx', sheet_name='Sheet1')\n",
    "\n",
    "# Print the DataFrame\n",
    "print(df)\n"
   ]
  },
  {
   "cell_type": "markdown",
   "id": "0e01ce61-84a2-465c-806a-23e11a014af7",
   "metadata": {},
   "source": [
    "#### Q7. You have a Pandas DataFrame df that contains a column named 'Email' that contains emailaddresses in the format 'username@domain.com'. Write a Python function that creates a new column 'Username' in df that contains only the username part of each email address."
   ]
  },
  {
   "cell_type": "code",
   "execution_count": 27,
   "id": "dd9d5235-5758-4ba2-9a35-f56af9b42eac",
   "metadata": {},
   "outputs": [],
   "source": [
    "import pandas as pd\n",
    "\n",
    "def extract_username(df):\n",
    "    # Extract the username from each email address using str.split() and create a new 'Username' column\n",
    "    df['Username'] = df['Email'].str.split('@').str[0]\n",
    "    \n",
    "    # Return the updated DataFrame\n",
    "    return df\n"
   ]
  },
  {
   "cell_type": "markdown",
   "id": "fe976956-d6f9-487b-baf9-0c5945dcef10",
   "metadata": {},
   "source": [
    "#### Q8. You have a Pandas DataFrame df with columns 'A', 'B', and 'C'. Write a Python function that selects all rows where the value in column 'A' is greater than 5 and the value in column 'B' is less than 10. The function should return a new DataFrame that contains only the selected rows.\n",
    "#### For example, if df contains the following values:\n",
    "A B C\n",
    "0 3 5 1\n",
    "1 8 2 7\n",
    "2 6 9 4\n",
    "3 2 3 5\n",
    "4 9 1 2\n",
    "\n",
    "#### Assignment\n",
    "\n",
    "Data Science Masters\n",
    "\n",
    "Your function should select the following rows: A B C\n",
    "1 8 2 7\n",
    "4 9 1 2\n",
    "The function should return a new DataFrame that contains only the selected rows."
   ]
  },
  {
   "cell_type": "code",
   "execution_count": 28,
   "id": "db0f3b4e-4c2c-4a36-a8d6-646abb4216b7",
   "metadata": {},
   "outputs": [],
   "source": [
    "import pandas as pd\n",
    "\n",
    "def select_rows(df):\n",
    "    # Use boolean indexing to select rows that satisfy the given conditions\n",
    "    selected_rows = df[(df['A'] > 5) & (df['B'] < 10)]\n",
    "    \n",
    "    # Return the selected rows as a new DataFrame\n",
    "    return selected_rows\n"
   ]
  },
  {
   "cell_type": "markdown",
   "id": "9ce208da-6a31-4c14-8fe8-d317b67aa777",
   "metadata": {},
   "source": [
    "#### Q9. Given a Pandas DataFrame df with a column 'Values', write a Python function to calculate the mean,median, and standard deviation of the values in the 'Values' column."
   ]
  },
  {
   "cell_type": "code",
   "execution_count": 29,
   "id": "71a773a1-509a-4d53-a53f-286c7100ad4e",
   "metadata": {},
   "outputs": [],
   "source": [
    "import pandas as pd\n",
    "\n",
    "def calculate_stats(df):\n",
    "    # Calculate the mean, median, and standard deviation of the 'Values' column\n",
    "    mean = df['Values'].mean()\n",
    "    median = df['Values'].median()\n",
    "    std = df['Values'].std()\n",
    "    \n",
    "    # Print the results to the console\n",
    "    print(f\"Mean: {mean}\")\n",
    "    print(f\"Median: {median}\")\n",
    "    print(f\"Standard deviation: {std}\")"
   ]
  },
  {
   "cell_type": "markdown",
   "id": "11d4a5e9-1f55-47c5-8ea2-592ac7c807ea",
   "metadata": {},
   "source": [
    "#### Q10. Given a Pandas DataFrame df with a column 'Sales' and a column 'Date', write a Python function to create a new column 'MovingAverage' that contains the moving average of the sales for the past 7 days for each row in the DataFrame. The moving average should be calculated using a window of size 7 and should include the current day."
   ]
  },
  {
   "cell_type": "code",
   "execution_count": 30,
   "id": "c3fd2d84-033f-433e-9fd3-944895f7b6e2",
   "metadata": {},
   "outputs": [],
   "source": [
    "import pandas as pd\n",
    "\n",
    "def calculate_moving_average(df):\n",
    "    # Calculate the moving average of the 'Sales' column using a window of size 7\n",
    "    ma = df['Sales'].rolling(window=7, min_periods=1).mean()\n",
    "    \n",
    "    # Add the moving average as a new column in the DataFrame\n",
    "    df['MovingAverage'] = ma\n",
    "    \n",
    "    # Print the updated DataFrame to the console\n",
    "    print(df)\n"
   ]
  },
  {
   "cell_type": "markdown",
   "id": "25069f83-f85d-46a4-8df5-994cdba4fad4",
   "metadata": {},
   "source": [
    "#### Q11. You have a Pandas DataFrame df with a column 'Date'. Write a Python function that creates a newcolumn 'Weekday' in the DataFrame. The 'Weekday' column should contain the weekday name (e.g.Monday, Tuesday) corresponding to each date in the 'Date' column.\n",
    "For example, if df contains the following values:\n",
    "Date\n",
    "0 2023-01-01\n",
    "1 2023-01-02\n",
    "2 2023-01-03\n",
    "3 2023-01-04\n",
    "4 2023-01-05\n",
    "Your function should create the following DataFrame:\n",
    "\n",
    "Date Weekday\n",
    "0 2023-01-01 Sunday\n",
    "1 2023-01-02 Monday\n",
    "2 2023-01-03 Tuesday\n",
    "3 2023-01-04 Wednesday\n",
    "4 2023-01-05 Thursday\n",
    "The function should return the modified DataFrame."
   ]
  },
  {
   "cell_type": "code",
   "execution_count": 31,
   "id": "5cd9a1a3-759e-43ce-bb98-e607940e772d",
   "metadata": {},
   "outputs": [],
   "source": [
    "import pandas as pd\n",
    "\n",
    "def add_weekday_column(df):\n",
    "    df['Weekday'] = df['Date'].dt.day_name()\n",
    "    return df\n"
   ]
  },
  {
   "cell_type": "markdown",
   "id": "05dfec9a-29f8-4e24-a99a-245408273b6c",
   "metadata": {},
   "source": [
    "#### Q12. Given a Pandas DataFrame df with a column 'Date' that contains timestamps, write a Pythonfunction to select all rows where the date is between '2023-01-01' and '2023-01-31'."
   ]
  },
  {
   "cell_type": "code",
   "execution_count": 32,
   "id": "003d18ed-8996-4848-9447-a810f90445cf",
   "metadata": {},
   "outputs": [],
   "source": [
    "import pandas as pd\n",
    "\n",
    "def select_rows_between_dates(df):\n",
    "    # Convert 'Date' column to datetime format\n",
    "    df['Date'] = pd.to_datetime(df['Date'])\n",
    "    \n",
    "    # Select rows between '2023-01-01' and '2023-01-31'\n",
    "    selected_rows = df.loc[(df['Date'] >= '2023-01-01') & (df['Date'] <= '2023-01-31')]\n",
    "    \n",
    "    return selected_rows\n"
   ]
  },
  {
   "cell_type": "markdown",
   "id": "b89c0171-e583-4e61-a83a-911e7ff56ef1",
   "metadata": {},
   "source": [
    "#### Q13. To use the basic functions of pandas, what is the first and foremost necessary library that needs to be imported?"
   ]
  },
  {
   "cell_type": "markdown",
   "id": "8e8d62b4-f02b-402f-93c2-42cc24414e7d",
   "metadata": {},
   "source": [
    "The first and foremost necessary library that needs to be imported to use the basic functions of pandas is import pandas as pd."
   ]
  },
  {
   "cell_type": "raw",
   "id": "f7d424c8-c6ce-4952-a1de-0f7cdff46db2",
   "metadata": {},
   "source": [
    "import pandas as pd"
   ]
  }
 ],
 "metadata": {
  "kernelspec": {
   "display_name": "Python 3 (ipykernel)",
   "language": "python",
   "name": "python3"
  },
  "language_info": {
   "codemirror_mode": {
    "name": "ipython",
    "version": 3
   },
   "file_extension": ".py",
   "mimetype": "text/x-python",
   "name": "python",
   "nbconvert_exporter": "python",
   "pygments_lexer": "ipython3",
   "version": "3.10.8"
  }
 },
 "nbformat": 4,
 "nbformat_minor": 5
}

{
 "cells": [
  {
   "cell_type": "markdown",
   "id": "91ce3216-2614-4a46-b54b-044c78b5d08b",
   "metadata": {},
   "source": [
    "#### Q1: What is Matplotlib? Why is it used? Name five plots that can be plotted using the Pyplot module of Matplotlib."
   ]
  },
  {
   "cell_type": "markdown",
   "id": "034e89cf-1cfb-4977-a814-d4bc44202b43",
   "metadata": {},
   "source": [
    "Matplotlib is a popular data visualization library for Python that provides a wide range of tools for creating high-quality plots, graphs, and charts. It is a versatile library that can be used for creating visualizations in a variety of formats such as line plots, scatter plots, bar charts, histograms, and more.\n",
    "\n",
    "Matplotlib is used for data analysis, scientific research, and other applications that require visualizing data in an intuitive and understandable way. It allows users to create highly customizable and interactive visualizations that can help in data exploration, presentation, and communication.\n",
    "\n",
    "The Pyplot module is one of the most commonly used submodules of Matplotlib, and it provides a simple interface for creating various types of plots. Here are five plots that can be plotted using the Pyplot module of Matplotlib:\n",
    "\n",
    "Line Plot: A line plot is a graph that displays data as a series of points connected by straight lines. It is useful for visualizing trends or changes in data over time.\n",
    "\n",
    "Scatter Plot: A scatter plot is a graph that displays the relationship between two variables as a collection of points. It is useful for identifying patterns or correlations in data.\n",
    "\n",
    "Bar Chart: A bar chart is a graph that represents data using rectangular bars with lengths proportional to the values they represent. It is useful for comparing data across categories.\n",
    "\n",
    "Histogram: A histogram is a graph that displays the distribution of a dataset. It is useful for understanding the shape and spread of data.\n",
    "\n",
    "Pie Chart: A pie chart is a graph that represents data as slices of a circular pie. It is useful for displaying proportions or percentages of a whole."
   ]
  },
  {
   "cell_type": "markdown",
   "id": "19383f18-bdf0-4424-8874-4a7757d58829",
   "metadata": {},
   "source": [
    "#### Q2: Why is the subplot() function used? Draw four line plots using the subplot() function.\n",
    "##### Use the following data:\n",
    "import numpy as np\n",
    "For line 1: x = np.array([0, 1, 2, 3, 4, 5]) and y = np.array([0, 100, 200, 300, 400, 500])\n",
    "For line 2: x = np.array([0, 1, 2, 3, 4, 5]) and y = np.array([50, 20, 40, 20, 60, 70])\n",
    "For line 3: x = np.array([0, 1, 2, 3, 4, 5]) and y = np.array([10, 20, 30, 40, 50, 60])\n",
    "For line 4: x = np.array([0, 1, 2, 3, 4, 5]) and y = np.array([200, 350, 250, 550, 450, 150])"
   ]
  },
  {
   "cell_type": "markdown",
   "id": "953ece98-1d11-42a8-bd97-36c9452199fc",
   "metadata": {},
   "source": [
    "A scatter plot is a graph that displays the relationship between two variables as a collection of points. Each point on the plot represents a single observation, with the position of the point determined by the value of the two variables being compared."
   ]
  },
  {
   "cell_type": "code",
   "execution_count": null,
   "id": "a782aa2d-5f99-4726-a5d2-1332a71dc6d0",
   "metadata": {},
   "outputs": [],
   "source": [
    "import matplotlib.pyplot as plt\n",
    "import numpy as np\n",
    "\n",
    "# Set the random seed for reproducibility\n",
    "np.random.seed(3)\n",
    "\n",
    "# Generate data for x and y\n",
    "x = 3 + np.random.normal(0, 2, 50)\n",
    "y = 3 + np.random.normal(0, 2, len(x))\n",
    "\n",
    "# Create the scatter plot\n",
    "plt.scatter(x, y)\n",
    "\n",
    "# Add a title, x-label, and y-label to the plot\n",
    "plt.title('Scatter Plot of X and Y')\n",
    "plt.xlabel('X')\n",
    "plt.ylabel('Y')\n",
    "\n",
    "# Show the plot\n",
    "plt.show()"
   ]
  },
  {
   "cell_type": "markdown",
   "id": "f8ae1628-3abd-41ab-948b-6323a3732e49",
   "metadata": {},
   "source": [
    "This code creates a scatter plot of the randomly generated data for x and y, and adds a title, x-label, and y-label to the plot. The resulting plot will show how the values of x and y are related to each other through the distribution of the points."
   ]
  },
  {
   "cell_type": "markdown",
   "id": "2d655cac-e3fa-47c1-ad97-b99a46bdca0f",
   "metadata": {},
   "source": [
    "#### Q3: Why is the subplot() function used? Draw four line plots using the subplot() function.\n",
    "#### Use the following data:\n",
    "#### import numpy as np\n",
    "#### For line 1: x = np.array([0, 1, 2, 3, 4, 5]) and y = np.array([0, 100, 200, 300, 400, 500])\n",
    "#### For line 2: x = np.array([0, 1, 2, 3, 4, 5]) and y = np.array([50, 20, 40, 20, 60, 70])\n",
    "#### For line 3: x = np.array([0, 1, 2, 3, 4, 5]) and y = np.array([10, 20, 30, 40, 50, 60])\n",
    "#### For line 4: x = np.array([0, 1, 2, 3, 4, 5]) and y = np.array([200, 350, 250, 550, 450, 150])"
   ]
  },
  {
   "cell_type": "markdown",
   "id": "b3ff9d38-99b1-4e7d-9ad5-397bb8ab151b",
   "metadata": {},
   "source": [
    "The subplot() function is used to create multiple plots in the same figure. It is useful when we want to compare different plots or data in a single figure. We can create subplots in rows and columns, and each subplot can be customized with its own title, labels, etc."
   ]
  },
  {
   "cell_type": "code",
   "execution_count": null,
   "id": "cb43012b-17b5-47cb-8273-a16db24a12cf",
   "metadata": {},
   "outputs": [],
   "source": [
    "import numpy as np\n",
    "import matplotlib.pyplot as plt\n",
    "\n",
    "# Create data for line 1\n",
    "x1 = np.array([0, 1, 2, 3, 4, 5])\n",
    "y1 = np.array([0, 100, 200, 300, 400, 500])\n",
    "\n",
    "# Create data for line 2\n",
    "x2 = np.array([0, 1, 2, 3, 4, 5])\n",
    "y2 = np.array([50, 20, 40, 20, 60, 70])\n",
    "\n",
    "# Create data for line 3\n",
    "x3 = np.array([0, 1, 2, 3, 4, 5])\n",
    "y3 = np.array([10, 20, 30, 40, 50, 60])\n",
    "\n",
    "# Create data for line 4\n",
    "x4 = np.array([0, 1, 2, 3, 4, 5])\n",
    "y4 = np.array([200, 350, 250, 550, 450, 150])\n",
    "\n",
    "# Create subplots\n",
    "fig, axs = plt.subplots(2, 2)\n",
    "\n",
    "# Plot line 1\n",
    "axs[0, 0].plot(x1, y1)\n",
    "axs[0, 0].set_title('Line 1')\n",
    "axs[0, 0].set_xlabel('X label')\n",
    "axs[0, 0].set_ylabel('Y label')\n",
    "\n",
    "# Plot line 2\n",
    "axs[0, 1].plot(x2, y2)\n",
    "axs[0, 1].set_title('Line 2')\n",
    "axs[0, 1].set_xlabel('X label')\n",
    "axs[0, 1].set_ylabel('Y label')\n",
    "\n",
    "# Plot line 3\n",
    "axs[1, 0].plot(x3, y3)\n",
    "axs[1, 0].set_title('Line 3')\n",
    "axs[1, 0].set_xlabel('X label')\n",
    "axs[1, 0].set_ylabel('Y label')\n",
    "\n",
    "# Plot line 4\n",
    "axs[1, 1].plot(x4, y4)\n",
    "axs[1, 1].set_title('Line 4')\n",
    "axs[1, 1].set_xlabel('X label')\n",
    "axs[1, 1].set_ylabel('Y label')\n",
    "\n",
    "# Adjust layout\n",
    "plt.tight_layout()\n",
    "\n",
    "# Show plot\n",
    "plt.show()\n"
   ]
  },
  {
   "cell_type": "markdown",
   "id": "9669605b-4dad-4bf8-b637-6ef319730fed",
   "metadata": {},
   "source": [
    "#### Q4: What is a bar plot? Why is it used? Using the following data plot a bar plot and a horizontal bar plot.\n",
    "#### import numpy as np\n",
    "#### company = np.array([\"Apple\", \"Microsoft\", \"Google\", \"AMD\"])\n",
    "#### profit = np.array([3000, 8000, 1000, 10000])"
   ]
  },
  {
   "cell_type": "markdown",
   "id": "d3dd26d7-4bd5-4cc8-bc31-6cc5112f9472",
   "metadata": {},
   "source": [
    "A bar plot is a type of plot that represents categorical data with rectangular bars with lengths proportional to the values that they represent. It is used to compare different categories of data."
   ]
  },
  {
   "cell_type": "code",
   "execution_count": null,
   "id": "2f5769ae-23e1-487b-846a-1c91ddc963b5",
   "metadata": {},
   "outputs": [],
   "source": [
    "import matplotlib.pyplot as plt\n",
    "import numpy as np\n",
    "\n",
    "# Data\n",
    "company = np.array([\"Apple\", \"Microsoft\", \"Google\", \"AMD\"])\n",
    "profit = np.array([3000, 8000, 1000, 10000])\n",
    "\n",
    "# Vertical bar plot\n",
    "plt.bar(company, profit)\n",
    "plt.title(\"Company Profits\")\n",
    "plt.xlabel(\"Company\")\n",
    "plt.ylabel(\"Profit (in millions)\")\n",
    "plt.show()\n",
    "\n",
    "# Horizontal bar plot\n",
    "plt.barh(company, profit)\n",
    "plt.title(\"Company Profits\")\n",
    "plt.xlabel(\"Profit (in millions)\")\n",
    "plt.ylabel(\"Company\")\n",
    "plt.show()"
   ]
  },
  {
   "cell_type": "markdown",
   "id": "42d86aea-638e-45ec-869b-e51ad7e9c2fb",
   "metadata": {},
   "source": [
    "#### Q5: What is a box plot? Why is it used? Using the following data plot a box plot.\n",
    "#### box1 = np.random.normal(100, 10, 200)\n",
    "#### box2 = np.random.normal(90, 20, 200)"
   ]
  },
  {
   "cell_type": "markdown",
   "id": "9268d79e-cace-4bd0-bacf-62cc3f4ac4ae",
   "metadata": {},
   "source": [
    "A box plot is a graphical representation of the statistical summary of data through their quartiles. It displays the distribution of data based on five summary statistics: minimum, lower quartile (Q1), median (Q2), upper quartile (Q3), and maximum. Box plots are useful for identifying outliers, detecting non-normal distributions, and comparing groups of data."
   ]
  },
  {
   "cell_type": "code",
   "execution_count": null,
   "id": "19073482-804d-4c6a-ab75-53834b77d339",
   "metadata": {},
   "outputs": [],
   "source": [
    "import matplotlib.pyplot as plt\n",
    "import numpy as np\n",
    "\n",
    "box1 = np.random.normal(100, 10, 200)\n",
    "box2 = np.random.normal(90, 20, 200)\n",
    "\n",
    "data = [box1, box2]\n",
    "\n",
    "fig, ax = plt.subplots()\n",
    "\n",
    "ax.boxplot(data)\n",
    "\n",
    "ax.set_xticklabels(['Box 1', 'Box 2'])\n",
    "\n",
    "ax.set_title('Box Plot')\n",
    "ax.set_xlabel('Box')\n",
    "ax.set_ylabel('Value')\n",
    "\n",
    "plt.show()"
   ]
  }
 ],
 "metadata": {
  "kernelspec": {
   "display_name": "Python 3 (ipykernel)",
   "language": "python",
   "name": "python3"
  },
  "language_info": {
   "codemirror_mode": {
    "name": "ipython",
    "version": 3
   },
   "file_extension": ".py",
   "mimetype": "text/x-python",
   "name": "python",
   "nbconvert_exporter": "python",
   "pygments_lexer": "ipython3",
   "version": "3.10.8"
  }
 },
 "nbformat": 4,
 "nbformat_minor": 5
}

{
 "cells": [
  {
   "cell_type": "markdown",
   "id": "a184b1ec-2173-4b93-bfe9-f729536d1d0b",
   "metadata": {},
   "source": [
    "#### Q1. Explain Class and Object with respect to Object-Oriented Programming. Give a suitable example."
   ]
  },
  {
   "cell_type": "markdown",
   "id": "2b8107dc-6a90-46b0-a0f0-dd3097bae63d",
   "metadata": {},
   "source": [
    "#### Ans:-\n",
    "In Object-Oriented Programming (OOP), a class is a blueprint or a template that defines the attributes and behaviors of a particular type of object. It serves as a template or a prototype that defines the structure and properties of objects that belong to it.\n",
    "\n",
    "An object is an instance of a class that has its own unique identity, attributes, and behaviors. In other words, it is a specific realization of a class that contains its own data and methods.For eg:-"
   ]
  },
  {
   "cell_type": "code",
   "execution_count": 1,
   "id": "5093667a-e4e6-4ef7-b3d6-f334fc06b009",
   "metadata": {},
   "outputs": [
    {
     "name": "stdout",
     "output_type": "stream",
     "text": [
      "Hello, my name is John\n",
      "I am a 25-year-old male\n",
      "Hello, my name is Lisa\n",
      "I am a 30-year-old female\n"
     ]
    }
   ],
   "source": [
    "# In this example, we define a class called \"Person\" with attributes name, age, and gender, and methods say_hello and introduce. \n",
    "# We then create two objects of this class called \"person1\" and \"person2\" with specific values for their attributes.\n",
    "# Finally, we use the methods of the objects to print out their names and introduce them.\n",
    "class Person:\n",
    "    def __init__(self, name, age, gender):\n",
    "        self.name = name\n",
    "        self.age = age\n",
    "        self.gender = gender\n",
    "\n",
    "    def say_hello(self):\n",
    "        print(\"Hello, my name is \" + self.name)\n",
    "\n",
    "    def introduce(self):\n",
    "        print(\"I am a \" + str(self.age) + \"-year-old \" + self.gender)\n",
    "\n",
    "\n",
    "person1 = Person(\"John\", 25, \"male\")\n",
    "person2 = Person(\"Lisa\", 30, \"female\")\n",
    "\n",
    "person1.say_hello()\n",
    "person1.introduce()\n",
    "\n",
    "person2.say_hello()\n",
    "person2.introduce()"
   ]
  },
  {
   "cell_type": "markdown",
   "id": "36b216c1-7192-4f74-a2a5-e52005271c64",
   "metadata": {},
   "source": [
    "#### Q2. Name the four pillars of OOPs."
   ]
  },
  {
   "cell_type": "markdown",
   "id": "9c751d6a-7689-4c60-ab1c-ff8b8621aa6e",
   "metadata": {},
   "source": [
    "#### Ans:-\n",
    "The four pillars of Object-Oriented Programming (OOPs) are:\n",
    "\n",
    "Encapsulation: Encapsulation refers to the concept of bundling data and methods that operate on that data within a single unit, i.e., a class. The data is hidden from the outside world and can only be accessed through the methods of the class. This allows for better data protection, abstraction, and modularity.\n",
    "\n",
    "Inheritance: Inheritance is a mechanism that allows a class to inherit the properties (methods and attributes) of another class. The class that inherits is called a subclass or derived class, while the class that is inherited from is called the superclass or base class. This enables code reuse, polymorphism, and abstraction.\n",
    "\n",
    "Polymorphism: Polymorphism means the ability of an object to take on multiple forms. In OOP, it refers to the ability of objects of different classes to be treated as if they belong to the same class, based on their shared methods and attributes. This enables code flexibility, abstraction, and modularity.\n",
    "\n",
    "Abstraction: Abstraction is the process of hiding complex implementation details while only exposing the necessary functionality to the users. In OOP, abstraction is achieved through interfaces and abstract classes, which define a set of methods that must be implemented by the classes that use them. This allows for better code organization, modularity, and encapsulation."
   ]
  },
  {
   "cell_type": "markdown",
   "id": "013962c7-673d-48c0-b3b3-03c15182e94c",
   "metadata": {},
   "source": [
    "#### Q3. Explain why the __init__() function is used. Give a suitable example."
   ]
  },
  {
   "cell_type": "markdown",
   "id": "bea738a1-8e6e-4364-a449-8c8a6e71a2ce",
   "metadata": {},
   "source": [
    "#### Ans:-"
   ]
  },
  {
   "cell_type": "markdown",
   "id": "1825fe44-672a-4590-902f-2c109622c05e",
   "metadata": {},
   "source": [
    "In Object-Oriented Programming (OOP), the __init__() function is a special method that is called automatically when an object is created from a class. It is used to initialize the object's attributes and perform any necessary setup operations before the object is ready to be used.\n",
    "\n",
    "The __init__() method takes the self parameter, which refers to the object being created, and any other parameters that are needed to initialize the object's attributes. Within the method, the attributes are assigned values using the self keyword."
   ]
  },
  {
   "cell_type": "code",
   "execution_count": 2,
   "id": "77e8e418-4824-43d7-bbbc-62c8543a2ee7",
   "metadata": {},
   "outputs": [
    {
     "name": "stdout",
     "output_type": "stream",
     "text": [
      "My dog's name is Buddy\n",
      "My dog's breed is Golden Retriever\n",
      "My dog's age is 2\n",
      "Buddy barks loudly!\n"
     ]
    }
   ],
   "source": [
    "# eg:-\n",
    "class Dog:\n",
    "    def __init__(self, name, breed, age):\n",
    "        self.name = name\n",
    "        self.breed = breed\n",
    "        self.age = age\n",
    "\n",
    "    def bark(self):\n",
    "        print(self.name + \" barks loudly!\")\n",
    "\n",
    "\n",
    "my_dog = Dog(\"Buddy\", \"Golden Retriever\", 2)\n",
    "print(\"My dog's name is \" + my_dog.name)\n",
    "print(\"My dog's breed is \" + my_dog.breed)\n",
    "print(\"My dog's age is \" + str(my_dog.age))\n",
    "\n",
    "my_dog.bark()"
   ]
  },
  {
   "cell_type": "markdown",
   "id": "0ea521d3-574f-4897-9380-db999acd2d9c",
   "metadata": {},
   "source": [
    "#### Q4. Why self is used in OOPs?"
   ]
  },
  {
   "cell_type": "markdown",
   "id": "0dc499f3-ec81-4619-aae7-c13136585c62",
   "metadata": {},
   "source": [
    "In Object-Oriented Programming (OOP), the self keyword is used to refer to the current instance of a class. It is a convention in most OOP languages, including Python, to name this parameter self, although other names can be used as well.\n",
    "\n",
    "The self parameter is used to access the attributes and methods of the object within its own methods. When a method is called on an object, the object itself is passed as the self parameter implicitly, which allows the method to operate on the object's attributes and methods.\n",
    "\n",
    "Here's an example to illustrate the use of self in Python:"
   ]
  },
  {
   "cell_type": "code",
   "execution_count": 3,
   "id": "6024aa51-7633-4549-aa25-92a6e5dfc833",
   "metadata": {},
   "outputs": [
    {
     "name": "stdout",
     "output_type": "stream",
     "text": [
      "The area of the circle is 78.5\n"
     ]
    }
   ],
   "source": [
    "class Circle:\n",
    "    def __init__(self, radius):\n",
    "        self.radius = radius\n",
    "\n",
    "    def area(self):\n",
    "        return 3.14 * self.radius ** 2\n",
    "\n",
    "circle1 = Circle(5)\n",
    "print(\"The area of the circle is\", circle1.area())\n"
   ]
  },
  {
   "cell_type": "markdown",
   "id": "4fd59730-0ebf-4025-b1cc-cdbdf3edf764",
   "metadata": {},
   "source": [
    "#### Q5. What is inheritance? Give an example for each type of inheritance."
   ]
  },
  {
   "cell_type": "markdown",
   "id": "24a23989-06ed-4c03-9691-81a6a9c63a7f",
   "metadata": {},
   "source": [
    "Inheritance is a mechanism in Object-Oriented Programming (OOP) that allows a new class (subclass) to be based on an existing class (superclass) and inherit all its properties (methods and attributes). This enables code reuse, promotes code organization and modularity, and allows for polymorphism.\n",
    "\n",
    "There are four types of inheritance:\n",
    "\n",
    "Single inheritance: In single inheritance, a subclass inherits from only one superclass.Eg:-"
   ]
  },
  {
   "cell_type": "code",
   "execution_count": 4,
   "id": "5c04c393-b293-4304-b245-8092020cbef0",
   "metadata": {},
   "outputs": [
    {
     "name": "stdout",
     "output_type": "stream",
     "text": [
      "This is method 1 of Parent class.\n",
      "This is method 2 of Child class.\n"
     ]
    }
   ],
   "source": [
    "class Parent:\n",
    "    def method1(self):\n",
    "        print(\"This is method 1 of Parent class.\")\n",
    "\n",
    "class Child(Parent):\n",
    "    def method2(self):\n",
    "        print(\"This is method 2 of Child class.\")\n",
    "\n",
    "my_child = Child()\n",
    "my_child.method1()  # inherited from Parent class\n",
    "my_child.method2()  # defined in Child class"
   ]
  },
  {
   "cell_type": "markdown",
   "id": "cb092d91-fdee-4fe4-ab11-1549bcfed8e4",
   "metadata": {},
   "source": [
    "Multiple inheritance: In multiple inheritance, a subclass inherits from more than one superclass."
   ]
  },
  {
   "cell_type": "code",
   "execution_count": 5,
   "id": "373f6106-43a6-43c0-9c04-a9fca51f3477",
   "metadata": {},
   "outputs": [
    {
     "name": "stdout",
     "output_type": "stream",
     "text": [
      "This is method 1 of class A.\n",
      "This is method 2 of class B.\n",
      "This is method 3 of class C.\n"
     ]
    }
   ],
   "source": [
    "class A:\n",
    "    def method1(self):\n",
    "        print(\"This is method 1 of class A.\")\n",
    "\n",
    "class B:\n",
    "    def method2(self):\n",
    "        print(\"This is method 2 of class B.\")\n",
    "\n",
    "class C(A, B):\n",
    "    def method3(self):\n",
    "        print(\"This is method 3 of class C.\")\n",
    "\n",
    "my_c = C()\n",
    "my_c.method1()  # inherited from class A\n",
    "my_c.method2()  # inherited from class B\n",
    "my_c.method3()  # defined in class C\n"
   ]
  },
  {
   "cell_type": "markdown",
   "id": "1473d80c-04b0-4197-b4de-5b140ace1cb3",
   "metadata": {},
   "source": [
    "Multi-level inheritance: In multi-level inheritance, a subclass inherits from a superclass, which in turn inherits from another superclass.\n",
    "Example:"
   ]
  },
  {
   "cell_type": "code",
   "execution_count": 6,
   "id": "9f3896bf-0745-4bdf-96cf-390799bd799e",
   "metadata": {},
   "outputs": [
    {
     "name": "stdout",
     "output_type": "stream",
     "text": [
      "I can move\n",
      "I can feed milk\n",
      "I can bark\n"
     ]
    }
   ],
   "source": [
    "class Animal:\n",
    "    def move(self):\n",
    "        print(\"I can move\")\n",
    "\n",
    "class Mammal(Animal):\n",
    "    def feed_milk(self):\n",
    "        print(\"I can feed milk\")\n",
    "\n",
    "class Dog(Mammal):\n",
    "    def bark(self):\n",
    "        print(\"I can bark\")\n",
    "\n",
    "my_dog = Dog()\n",
    "my_dog.move()      # inherited from Animal class\n",
    "my_dog.feed_milk() # inherited from Mammal class\n",
    "my_dog.bark()      # defined in Dog class"
   ]
  },
  {
   "cell_type": "markdown",
   "id": "ad3619e3-ae59-4cbf-96c5-c8ae75812aab",
   "metadata": {},
   "source": [
    "Hierarchical inheritance: In hierarchical inheritance, multiple subclasses inherit from the same superclass."
   ]
  },
  {
   "cell_type": "code",
   "execution_count": 7,
   "id": "e4f040cf-dc06-4a6a-b205-b4762b9893b3",
   "metadata": {},
   "outputs": [
    {
     "name": "stdout",
     "output_type": "stream",
     "text": [
      "I can move\n",
      "I can bark\n",
      "I can move\n",
      "I can meow\n"
     ]
    }
   ],
   "source": [
    "class Animal:\n",
    "    def move(self):\n",
    "        print(\"I can move\")\n",
    "\n",
    "class Dog(Animal):\n",
    "    def bark(self):\n",
    "        print(\"I can bark\")\n",
    "\n",
    "class Cat(Animal):\n",
    "    def meow(self):\n",
    "        print(\"I can meow\")\n",
    "\n",
    "my_dog = Dog()\n",
    "my_dog.move()  # inherited from Animal class\n",
    "my_dog.bark()  # defined in Dog class\n",
    "\n",
    "my_cat = Cat()\n",
    "my_cat.move()  # inherited from Animal class\n",
    "my_cat.meow()  # defined in Cat class"
   ]
  },
  {
   "cell_type": "code",
   "execution_count": null,
   "id": "04da85bf-9ec5-4be1-b665-3f556f784173",
   "metadata": {},
   "outputs": [],
   "source": []
  }
 ],
 "metadata": {
  "kernelspec": {
   "display_name": "Python 3 (ipykernel)",
   "language": "python",
   "name": "python3"
  },
  "language_info": {
   "codemirror_mode": {
    "name": "ipython",
    "version": 3
   },
   "file_extension": ".py",
   "mimetype": "text/x-python",
   "name": "python",
   "nbconvert_exporter": "python",
   "pygments_lexer": "ipython3",
   "version": "3.10.8"
  }
 },
 "nbformat": 4,
 "nbformat_minor": 5
}

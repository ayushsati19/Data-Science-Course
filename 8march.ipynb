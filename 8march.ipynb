{
 "cells": [
  {
   "cell_type": "markdown",
   "id": "36469f4c-eb83-41ea-9ca4-fdc78f998c5f",
   "metadata": {},
   "source": [
    "#### Q1. What is the Probability density function?"
   ]
  },
  {
   "cell_type": "markdown",
   "id": "5677ee92-eee9-4487-b8f7-8a4ac25c9e52",
   "metadata": {},
   "source": [
    "In probability theory, a probability density function (PDF) is a function that describes the relative likelihood for a continuous random variable to take on a given value. It is a non-negative function, and its integral over its entire domain is equal to one. The probability density function gives us information about the probability of a random variable falling within a certain range of values. It is also known as the probability distribution function or the density function."
   ]
  },
  {
   "cell_type": "markdown",
   "id": "58438ba6-4d71-4f7c-9934-dc4363267783",
   "metadata": {},
   "source": [
    "#### Q2. What are the types of Probability distribution?"
   ]
  },
  {
   "cell_type": "markdown",
   "id": "2186ca58-ecfc-4019-a336-19520029100f",
   "metadata": {},
   "source": [
    "There are several types of probability distributions, but some of the most commonly used ones include:\n",
    "\n",
    "Normal distribution: A continuous probability distribution that is often used to model natural phenomena such as heights and weights of people, test scores, and measurement errors. The normal distribution is characterized by its mean and standard deviation.\n",
    "\n",
    "Binomial distribution: A discrete probability distribution that is used when there are only two possible outcomes for an experiment, such as success or failure. The binomial distribution is characterized by the number of trials and the probability of success.\n",
    "\n",
    "Poisson distribution: A discrete probability distribution that is used to model the number of occurrences of an event in a fixed interval of time or space. The Poisson distribution is characterized by its rate parameter.\n",
    "\n",
    "Exponential distribution: A continuous probability distribution that is used to model the time between events in a Poisson process. The exponential distribution is characterized by its rate parameter.\n",
    "\n",
    "Uniform distribution: A continuous probability distribution that is used when all outcomes are equally likely. The uniform distribution is characterized by its minimum and maximum values.\n",
    "\n",
    "Gamma distribution: A continuous probability distribution that is used to model the waiting time until a certain number of events have occurred in a Poisson process. The gamma distribution is characterized by its shape and rate parameters.\n",
    "\n",
    "Beta distribution: A continuous probability distribution that is used to model the probability of success in a binomial experiment when the probability of success is itself a random variable. The beta distribution is characterized by its shape parameters.\n",
    "\n",
    "Student's t-distribution: A continuous probability distribution that is used in hypothesis testing when the sample size is small and the population standard deviation is unknown. The t-distribution is characterized by its degrees of freedom."
   ]
  },
  {
   "cell_type": "markdown",
   "id": "fbb0c414-2aec-47d6-baa8-d6dc0024acfe",
   "metadata": {},
   "source": [
    "#### Q3. Write a Python function to calculate the probability density function of a normal distribution with given mean and standard deviation at a given point."
   ]
  },
  {
   "cell_type": "code",
   "execution_count": 1,
   "id": "e84de3de-8c6f-45e6-8341-aa05c1b043c6",
   "metadata": {},
   "outputs": [],
   "source": [
    "import scipy.stats as stats\n",
    "\n",
    "def normal_pdf(x, mean, std_dev):\n",
    "    return stats.norm.pdf(x, loc=mean, scale=std_dev)\n"
   ]
  },
  {
   "cell_type": "markdown",
   "id": "70ab84df-72d2-4099-b522-2aa29cd3b33f",
   "metadata": {},
   "source": [
    "#### Q4. What are the properties of Binomial distribution? Give two examples of events where binomial distribution can be applied."
   ]
  },
  {
   "cell_type": "markdown",
   "id": "96322884-3305-4106-b081-903f0fc0c959",
   "metadata": {},
   "source": [
    "Binomial distribution is a discrete probability distribution that is used when the following conditions are met:\n",
    "\n",
    "There are a fixed number of independent trials.\n",
    "Each trial has only two possible outcomes: success or failure.\n",
    "The probability of success (p) is constant for each trial.\n",
    "The trials are independent of each other.\n",
    "Properties of Binomial distribution:\n",
    "\n",
    "The mean of the distribution is μ = np, where n is the number of trials and p is the probability of success.\n",
    "The variance of the distribution is σ² = np(1-p).\n",
    "The distribution is symmetric when p = 0.5, and skewed when p is not equal to 0.5.\n",
    "The distribution is discrete and takes only non-negative integer values.\n",
    "Examples of events where binomial distribution can be applied are:\n",
    "\n",
    "Flipping a coin multiple times: Each flip is an independent trial with only two possible outcomes (heads or tails). The probability of getting heads is constant at 0.5 for each trial. If we flip the coin n times, the number of heads that we get will follow a binomial distribution.\n",
    "\n",
    "Quality control in a factory: A factory produces a large number of items and checks a random sample of them for defects. Each item is either defective or non-defective, and the probability of a defective item is constant for each item. If we check n items, the number of defective items that we find will follow a binomial distribution."
   ]
  },
  {
   "cell_type": "markdown",
   "id": "f6d8c15b-e225-45f8-b699-8ee64a77c44c",
   "metadata": {},
   "source": [
    "#### Q5. Generate a random sample of size 1000 from a binomial distribution with probability of success 0.4 and plot a histogram of the results using matplotlib."
   ]
  },
  {
   "cell_type": "code",
   "execution_count": 2,
   "id": "e7f2d795-33e8-4617-8021-478b673046e8",
   "metadata": {},
   "outputs": [
    {
     "data": {
      "image/png": "[encoded data removed]",
      "text/plain": [
       "<Figure size 640x480 with 1 Axes>"
      ]
     },
     "metadata": {},
     "output_type": "display_data"
    }
   ],
   "source": [
    "import numpy as np\n",
    "import matplotlib.pyplot as plt\n",
    "\n",
    "# Set the parameters for the binomial distribution\n",
    "n = 10  # Number of trials\n",
    "p = 0.4  # Probability of success\n",
    "\n",
    "# Generate a random sample of size 1000 from the binomial distribution\n",
    "sample = np.random.binomial(n, p, size=1000)\n",
    "\n",
    "# Plot a histogram of the sample\n",
    "plt.hist(sample, bins=range(n+2), align='left', rwidth=0.8)\n",
    "plt.xlabel('Number of Successes')\n",
    "plt.ylabel('Frequency')\n",
    "plt.title('Binomial Distribution with n=10, p=0.4')\n",
    "plt.show()"
   ]
  },
  {
   "cell_type": "markdown",
   "id": "82db1f6c-85cc-486a-ac73-7a1ddb70ad43",
   "metadata": {},
   "source": [
    "#### Q6. Write a Python function to calculate the cumulative distribution function of a Poisson distribution with given mean at a given point."
   ]
  },
  {
   "cell_type": "code",
   "execution_count": 3,
   "id": "5cd020d1-50f8-4ddf-bd0c-caef5661a77b",
   "metadata": {},
   "outputs": [],
   "source": [
    "import math\n",
    "\n",
    "def poisson_cdf(mu, x):\n",
    "    cdf = 0\n",
    "    for i in range(x + 1):\n",
    "        cdf += (math.exp(-mu) * mu**i) / math.factorial(i)\n",
    "    return cdf"
   ]
  },
  {
   "cell_type": "markdown",
   "id": "77eadc87-9b33-4aaa-b756-606205b3aee3",
   "metadata": {},
   "source": [
    "#### Q7. How Binomial distribution different from Poisson distribution?"
   ]
  },
  {
   "cell_type": "markdown",
   "id": "c85ef456-373d-44c3-a19a-a5f482266a6c",
   "metadata": {},
   "source": [
    "Binomial distribution and Poisson distribution are both types of probability distributions, but they differ in some key ways:\n",
    "\n",
    "Number of Trials: Binomial distribution is used when there are a fixed number of independent trials, each with two possible outcomes. On the other hand, Poisson distribution is used when the number of events in a fixed interval of time or space is being studied, and the events occur independently of each other.\n",
    "\n",
    "Probability of Success: In binomial distribution, the probability of success is constant for each trial. In Poisson distribution, the probability of an event occurring is constant, but it does not involve a fixed number of trials.\n",
    "\n",
    "Nature of Outcomes: In binomial distribution, the outcomes are discrete and have a finite number of possibilities. In Poisson distribution, the outcomes are also discrete but the number of possibilities can be infinite.\n",
    "\n",
    "Mean and Variance: In binomial distribution, the mean and variance are both calculated as n*p, where n is the number of trials and p is the probability of success. In Poisson distribution, the mean and variance are both calculated as λ, where λ is the average number of events in the given interval.\n",
    "\n",
    "Assumptions: Binomial distribution assumes that each trial is independent and the probability of success remains constant. Poisson distribution assumes that the events occur independently of each other and the probability of an event occurring remains constant."
   ]
  },
  {
   "cell_type": "markdown",
   "id": "b4b82176-1601-4e82-ac90-2ed75058c44d",
   "metadata": {},
   "source": [
    "#### Q8. Generate a random sample of size 1000 from a Poisson distribution with mean 5 and calculate the sample mean and variance."
   ]
  },
  {
   "cell_type": "code",
   "execution_count": 4,
   "id": "1c390d9a-7c2c-4ba1-9299-8d5a9cdc3156",
   "metadata": {},
   "outputs": [
    {
     "name": "stdout",
     "output_type": "stream",
     "text": [
      "Sample mean: 4.919\n",
      "Sample variance: 5.030439\n"
     ]
    }
   ],
   "source": [
    "import numpy as np\n",
    "\n",
    "# Set the seed for reproducibility\n",
    "np.random.seed(123)\n",
    "\n",
    "# Generate a random sample of size 1000 from a Poisson distribution with mean 5\n",
    "sample = np.random.poisson(5, size=1000)\n",
    "\n",
    "# Calculate the sample mean and variance\n",
    "sample_mean = np.mean(sample)\n",
    "sample_variance = np.var(sample)\n",
    "\n",
    "# Print the sample mean and variance\n",
    "print(\"Sample mean:\", sample_mean)\n",
    "print(\"Sample variance:\", sample_variance)"
   ]
  },
  {
   "cell_type": "markdown",
   "id": "6ef13012-eaad-4b07-bd2b-44f3c6d6e975",
   "metadata": {},
   "source": [
    "#### Q9. How mean and variance are related in Binomial distribution and Poisson distribution?"
   ]
  },
  {
   "cell_type": "markdown",
   "id": "fb2818bd-10d6-45c2-9087-a0e50ad3600a",
   "metadata": {},
   "source": [
    "In a Binomial distribution, the mean is equal to the product of the number of trials and the probability of success in each trial. The variance is equal to the product of the number of trials, the probability of success in each trial, and the probability of failure in each trial. Mathematically, if X is a binomially distributed random variable with parameters n and p, then:\n",
    "\n",
    "mean = np\n",
    "variance = np(1-p)\n",
    "\n",
    "On the other hand, in a Poisson distribution, both the mean and variance are equal to the rate parameter λ. Mathematically, if X is a Poisson-distributed random variable with rate parameter λ, then:\n",
    "\n",
    "mean = λ\n",
    "variance = λ\n",
    "\n",
    "Therefore, in a Poisson distribution, the mean and variance are always equal, whereas in a Binomial distribution, the variance depends on the probability of success in each trial."
   ]
  },
  {
   "cell_type": "markdown",
   "id": "cf97a432-5108-49fe-b060-e7b80be0f9e3",
   "metadata": {},
   "source": [
    "#### Q10. In normal distribution with respect to mean position, where does the least frequent data appear?"
   ]
  },
  {
   "cell_type": "markdown",
   "id": "d9c34253-32e3-4257-9d5b-5563d55e5648",
   "metadata": {},
   "source": [
    "In a normal distribution, the least frequent data appears in the tails of the distribution, which are the regions that are farthest from the mean. Specifically, the data in the tails of a normal distribution are more than 1.96 standard deviations away from the mean, and they represent about 5% of the total area under the curve on either side."
   ]
  }
 ],
 "metadata": {
  "kernelspec": {
   "display_name": "Python 3 (ipykernel)",
   "language": "python",
   "name": "python3"
  },
  "language_info": {
   "codemirror_mode": {
    "name": "ipython",
    "version": 3
   },
   "file_extension": ".py",
   "mimetype": "text/x-python",
   "name": "python",
   "nbconvert_exporter": "python",
   "pygments_lexer": "ipython3",
   "version": "3.10.8"
  }
 },
 "nbformat": 4,
 "nbformat_minor": 5
}

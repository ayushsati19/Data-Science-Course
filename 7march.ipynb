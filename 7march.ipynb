{
 "cells": [
  {
   "cell_type": "markdown",
   "id": "58e6b6c1-737a-4ef2-bc15-057148dd481a",
   "metadata": {},
   "source": [
    "#### Q1. What are the three measures of central tendency?"
   ]
  },
  {
   "cell_type": "markdown",
   "id": "367a6626-19e4-49f4-b221-285c0d8a4356",
   "metadata": {},
   "source": [
    "The three measures of central tendency are:\n",
    "\n",
    "Mean: The arithmetic average of a set of numbers. It is calculated by adding up all the values in the set and dividing by the total number of values.\n",
    "Median: The middle value in a set of ordered numbers. If the set has an even number of values, the median is the average of the two middle values.\n",
    "Mode: The most frequently occurring value in a set of numbers. A set can have one or more modes, or no mode if all values occur with equal frequency."
   ]
  },
  {
   "cell_type": "markdown",
   "id": "cc62821c-f8c1-49ad-96dd-e839ba7f3c8a",
   "metadata": {},
   "source": [
    "#### Q2. What is the difference between the mean, median, and mode? How are they used to measure the central tendency of a dataset?"
   ]
  },
  {
   "cell_type": "markdown",
   "id": "97f281ea-3782-4a56-b16e-bbeb44054c46",
   "metadata": {},
   "source": [
    "The mean, median, and mode are all measures of central tendency used to describe the central or typical value of a dataset.\n",
    "\n",
    "The mean is the arithmetic average of a set of numbers, obtained by adding all the values in the dataset and then dividing by the total number of values. It is the most commonly used measure of central tendency and is sensitive to outliers. It is calculated as:\n",
    "\n",
    "mean = (sum of all values) / (number of values)\n",
    "\n",
    "The median is the middle value in a dataset when the values are arranged in ascending or descending order. It is less sensitive to outliers than the mean and is useful when the dataset contains extreme values or outliers. It is calculated as:\n",
    "\n",
    "If the number of values is odd, the median is the middle value.\n",
    "If the number of values is even, the median is the average of the two middle values.\n",
    "The mode is the most frequently occurring value in a dataset. It is useful for categorical or discrete data, but it can also be used for continuous data. It is not affected by outliers and can be used for skewed data. If there is no value that appears more than once, then the dataset has no mode.\n",
    "\n",
    "The choice of measure of central tendency depends on the type of data and the research question. If the data is normally distributed and has no outliers, the mean is often used. If the data is skewed or has outliers, the median is a better choice. If the data is categorical or discrete, the mode is used. It is important to report the measure of central tendency used along with any other relevant statistics and to interpret it in the context of the research question."
   ]
  },
  {
   "cell_type": "markdown",
   "id": "a6cb3b23-5bd6-4a4d-8856-71eaf22f2276",
   "metadata": {},
   "source": [
    "#### Q3. Measure the three measures of central tendency for the given height data:\n",
    "##### [178,177,176,177,178.2,178,175,179,180,175,178.9,176.2,177,172.5,178,176.5]"
   ]
  },
  {
   "cell_type": "code",
   "execution_count": 1,
   "id": "d727c48c-ca45-4887-9f94-38b6c02a8ed7",
   "metadata": {},
   "outputs": [
    {
     "name": "stdout",
     "output_type": "stream",
     "text": [
      "Mean height: 177.01875\n",
      "Median height: 177.0\n",
      "Mode height: 180.0\n"
     ]
    }
   ],
   "source": [
    "import numpy as np\n",
    "\n",
    "height_data = np.array([178,177,176,177,178.2,178,175,179,180,175,178.9,176.2,177,172.5,178,176.5])\n",
    "\n",
    "# Mean\n",
    "mean = np.mean(height_data)\n",
    "print(\"Mean height:\", mean)\n",
    "\n",
    "# Median\n",
    "median = np.median(height_data)\n",
    "print(\"Median height:\", median)\n",
    "\n",
    "# Mode\n",
    "mode = np.round(np.mean(height_data[height_data == np.max(np.unique(height_data, return_counts=True)[0])]), 1)\n",
    "print(\"Mode height:\", mode)"
   ]
  },
  {
   "cell_type": "markdown",
   "id": "d07c9d70-a4fb-4110-818e-91c1e4285e7e",
   "metadata": {},
   "source": [
    "#### Q4. Find the standard deviation for the given data:\n",
    "#### [178,177,176,177,178.2,178,175,179,180,175,178.9,176.2,177,172.5,178,176.5]"
   ]
  },
  {
   "cell_type": "code",
   "execution_count": 2,
   "id": "51a85f30-eff4-421f-becc-c7cc2149c591",
   "metadata": {},
   "outputs": [
    {
     "name": "stdout",
     "output_type": "stream",
     "text": [
      "Mean: 177.01875\n",
      "Median: 177.0\n",
      "Mode: 178\n"
     ]
    }
   ],
   "source": [
    "import statistics\n",
    "\n",
    "data = [178, 177, 176, 177, 178.2, 178, 175, 179, 180, 175, 178.9, 176.2, 177, 172.5, 178, 176.5]\n",
    "\n",
    "mean = statistics.mean(data)\n",
    "median = statistics.median(data)\n",
    "mode = statistics.mode(data)\n",
    "\n",
    "print(\"Mean:\", mean)\n",
    "print(\"Median:\", median)\n",
    "print(\"Mode:\", mode)"
   ]
  },
  {
   "cell_type": "markdown",
   "id": "a4818871-fdad-4695-bb8f-e23dc36407d3",
   "metadata": {},
   "source": [
    "#### Q5. How are measures of dispersion such as range, variance, and standard deviation used to describe the spread of a dataset? Provide an example."
   ]
  },
  {
   "cell_type": "markdown",
   "id": "b1671d61-716a-414c-a0f1-fc6b2364ccb3",
   "metadata": {},
   "source": [
    "Measures of dispersion, such as range, variance, and standard deviation, are used to describe how spread out a dataset is around the central tendency, which is typically represented by the mean, median, or mode.\n",
    "\n",
    "The range is the difference between the largest and smallest values in a dataset and provides a simple measure of the spread. However, it is sensitive to outliers and can be misleading if extreme values are present in the data.\n",
    "\n",
    "The variance and standard deviation are more sophisticated measures of dispersion that take into account the deviation of each data point from the mean. The variance is the average of the squared differences between each data point and the mean, while the standard deviation is the square root of the variance. A higher variance or standard deviation indicates that the data is more spread out around the mean."
   ]
  },
  {
   "cell_type": "markdown",
   "id": "8963aa51-da36-4d88-9382-8fb5f8102b7f",
   "metadata": {},
   "source": [
    "#### Q6. What is a Venn diagram?"
   ]
  },
  {
   "cell_type": "markdown",
   "id": "2a77433b-ab57-4810-80c8-4a3ea53e6e9b",
   "metadata": {},
   "source": [
    "A Venn diagram is a graphical representation of sets, where each set is represented by a circle or a closed curve, and the circles or curves intersect to show the relationships between the sets. The areas of overlap between the sets show the elements that belong to more than one set, while the areas outside the circles or curves show the elements that do not belong to any of the sets. Venn diagrams are commonly used in mathematics, statistics, logic, and computer science to illustrate set operations, such as union, intersection, and complement. They can also be used to show the relationships between different categories or attributes of data in fields such as marketing, social sciences, and biology."
   ]
  },
  {
   "cell_type": "markdown",
   "id": "3693a0d8-3dc8-43e3-ace8-0ccc903c331b",
   "metadata": {},
   "source": [
    "#### Q7. For the two given sets A = (2,3,4,5,6,7) & B = (0,2,6,8,10). Find:\n",
    "#### (i) A B\n",
    "#### (ii) A ⋃ B"
   ]
  },
  {
   "cell_type": "markdown",
   "id": "ed1aa65f-32f7-4efa-b99c-293b2f072064",
   "metadata": {},
   "source": [
    "(i) A ∩ B = (2, 6)\n",
    "(ii) A ∪ B = (0, 2, 3, 4, 5, 6, 7, 8, 10)"
   ]
  },
  {
   "cell_type": "markdown",
   "id": "7e429ed5-3e9e-45e2-a8df-4f3aa65ca5e3",
   "metadata": {},
   "source": [
    "#### Q8. What do you understand about skewness in data?"
   ]
  },
  {
   "cell_type": "markdown",
   "id": "3575b3fd-3138-4ca6-bfb5-b52ca5f19a51",
   "metadata": {},
   "source": [
    "Skewness is a measure of the degree of asymmetry of a probability distribution. In other words, it measures the deviation of a probability distribution from a normal distribution. If a distribution is symmetric, it has zero skewness. If the tail of the distribution is longer on the right-hand side, then it is said to be positively skewed or right-skewed, and the skewness value will be positive. Conversely, if the tail of the distribution is longer on the left-hand side, it is said to be negatively skewed or left-skewed, and the skewness value will be negative. Skewness can be measured using the skewness formula.\n",
    "\n",
    "Skewness is an important concept in statistics because it affects the interpretation of the central tendency measures. For example, if the data is positively skewed, the mean will be greater than the median, and if it is negatively skewed, the mean will be less than the median. Therefore, understanding the skewness of data is important to make accurate conclusions about the distribution of the data."
   ]
  },
  {
   "cell_type": "markdown",
   "id": "c92a3846-7f60-4b86-8928-c2da64700150",
   "metadata": {},
   "source": [
    "#### Q9. If a data is right skewed then what will be the position of median with respect to mean?"
   ]
  },
  {
   "cell_type": "markdown",
   "id": "f41a1ea5-483a-40cb-be6b-f4fe707d3849",
   "metadata": {},
   "source": [
    "If a data is right skewed, the median will be to the left of the mean. The mean is pulled towards the long tail in the right side, so the median, which is not influenced by outliers, will be smaller than the mean."
   ]
  },
  {
   "cell_type": "markdown",
   "id": "c0fcd17f-234e-4a22-bfbb-8eb169ca9309",
   "metadata": {},
   "source": [
    "#### Q10. Explain the difference between covariance and correlation. How are these measures used in statistical analysis?"
   ]
  },
  {
   "cell_type": "markdown",
   "id": "248e37cf-3555-4f65-a84a-a9c7a88a4365",
   "metadata": {},
   "source": [
    "Covariance and correlation are two measures of the relationship between two variables in a dataset.\n",
    "\n",
    "Covariance is a measure of how two variables vary together. Specifically, it measures how much two variables move in the same direction (positive covariance) or in opposite directions (negative covariance). A positive covariance indicates that the variables tend to increase or decrease together, while a negative covariance indicates that one variable tends to increase when the other decreases, and vice versa. However, covariance does not have a standardized scale, which makes it difficult to compare covariances across different datasets. The formula for covariance is:\n",
    "\n",
    "cov(X,Y) = E[(X - E[X])(Y - E[Y])]\n",
    "\n",
    "where X and Y are the two variables, and E[X] and E[Y] are the means of X and Y, respectively.\n",
    "\n",
    "Correlation, on the other hand, is a standardized measure of the relationship between two variables. Correlation measures the strength and direction of the linear relationship between two variables on a scale from -1 to 1. A correlation of 1 indicates a perfect positive linear relationship, while a correlation of -1 indicates a perfect negative linear relationship. A correlation of 0 indicates no linear relationship between the variables. Correlation is useful because it allows us to compare the strength of the relationship between two variables across different datasets. The formula for correlation is:\n",
    "\n",
    "corr(X,Y) = cov(X,Y) / (std(X) * std(Y))\n",
    "\n",
    "where cov(X,Y) is the covariance between X and Y, and std(X) and std(Y) are the standard deviations of X and Y, respectively.\n",
    "\n",
    "Both covariance and correlation are used in statistical analysis to understand the relationship between two variables. However, correlation is more commonly used because it is standardized and allows for easier comparison between different datasets."
   ]
  },
  {
   "cell_type": "markdown",
   "id": "96f4fa59-1668-4584-9967-97b9b6898b02",
   "metadata": {},
   "source": [
    "#### Q11. What is the formula for calculating the sample mean? Provide an example calculation for a dataset."
   ]
  },
  {
   "cell_type": "markdown",
   "id": "8bf95051-168a-4528-908a-269aab3c05eb",
   "metadata": {},
   "source": [
    "#### x̄ = (x1+ x2+ x3+ … + xn )/n where x1, x2, . . ., xn are n observations"
   ]
  },
  {
   "cell_type": "markdown",
   "id": "0339a986-e24d-4478-86b9-1bc3dd25128a",
   "metadata": {},
   "source": [
    "Example:\n",
    "\n",
    "Suppose we have the following dataset:\n",
    "\n",
    "[10, 15, 20, 25, 30]\n",
    "\n",
    "To calculate the sample mean, we first add up all the values:\n",
    "\n",
    "10 + 15 + 20 + 25 + 30 = 100\n",
    "Then divided by 5 i.e.\n",
    "100/5=20"
   ]
  },
  {
   "cell_type": "markdown",
   "id": "17381b6f-8ed8-4333-93ca-aa2211fe1227",
   "metadata": {},
   "source": [
    "#### Q12. For a normal distribution data what is the relationship between its measure of central tendency?"
   ]
  },
  {
   "cell_type": "markdown",
   "id": "00bef444-6910-474f-ad40-6d0d6d9fef3c",
   "metadata": {},
   "source": [
    "For a normal distribution, the three measures of central tendency (mean, median, and mode) are equal to each other. This means that the center of the distribution is at the same point, and the distribution is symmetrical around this point."
   ]
  },
  {
   "cell_type": "markdown",
   "id": "de4346cb-83ca-4263-a023-0128cde6cef2",
   "metadata": {},
   "source": [
    "#### Q13. How is covariance different from correlation?"
   ]
  },
  {
   "cell_type": "markdown",
   "id": "33ec1f8b-4984-4a9a-8056-3625e840a169",
   "metadata": {},
   "source": [
    "Covariance and correlation are two measures used to describe the relationship between two variables in a dataset.\n",
    "\n",
    "Covariance measures the direction and strength of the linear relationship between two variables. It can be positive, negative, or zero. A positive covariance indicates that both variables move in the same direction, while a negative covariance indicates that they move in opposite directions. A covariance of zero means that there is no linear relationship between the variables.\n",
    "\n",
    "Correlation measures the strength of the linear relationship between two variables on a scale from -1 to 1. A correlation of 1 means that there is a perfect positive linear relationship between the variables, while a correlation of -1 means that there is a perfect negative linear relationship between the variables. A correlation of 0 means that there is no linear relationship between the variables."
   ]
  },
  {
   "cell_type": "markdown",
   "id": "08799164-06a2-4570-8de5-7f7dfca2a492",
   "metadata": {},
   "source": [
    "#### Q14. How do outliers affect measures of central tendency and dispersion? Provide an example."
   ]
  },
  {
   "cell_type": "markdown",
   "id": "06afa36c-6a0c-4373-a847-4311272cd4d5",
   "metadata": {},
   "source": [
    "Outliers can have a significant impact on measures of central tendency and dispersion. An outlier is an observation that lies an abnormal distance from other values in a random sample from a population.\n",
    "\n",
    "When calculating measures of central tendency, such as the mean or median, outliers can significantly affect the result. For example, consider a dataset of exam scores with values ranging from 60 to 100, with one outlier score of 20. If we calculate the mean of this dataset, the outlier score will bring down the overall average, resulting in a distorted representation of the dataset.\n",
    "\n",
    "Similarly, when calculating measures of dispersion, outliers can also have a significant impact. The range, variance, and standard deviation all incorporate every value in the dataset, so an outlier can pull these measures far from the majority of the data.\n",
    "\n",
    "For example, consider a dataset of household incomes ranging from $20,000 to $150,000, with one outlier income of $1,000,000. This outlier will drastically increase the range of the dataset, making it appear much more spread out than it really is. It will also inflate the variance and standard deviation, making it difficult to get an accurate picture of the typical income in the dataset."
   ]
  }
 ],
 "metadata": {
  "kernelspec": {
   "display_name": "Python 3 (ipykernel)",
   "language": "python",
   "name": "python3"
  },
  "language_info": {
   "codemirror_mode": {
    "name": "ipython",
    "version": 3
   },
   "file_extension": ".py",
   "mimetype": "text/x-python",
   "name": "python",
   "nbconvert_exporter": "python",
   "pygments_lexer": "ipython3",
   "version": "3.10.8"
  }
 },
 "nbformat": 4,
 "nbformat_minor": 5
}

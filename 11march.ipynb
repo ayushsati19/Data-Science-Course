{
 "cells": [
  {
   "cell_type": "markdown",
   "id": "522ce383-3e5d-483f-8c16-250c1133738f",
   "metadata": {},
   "source": [
    "#### Q1: What is the difference between a t-test and a z-test? Provide an example scenario where you would use each type of test."
   ]
  },
  {
   "cell_type": "markdown",
   "id": "058dcf00-7523-4369-91b9-32794e6bad70",
   "metadata": {},
   "source": [
    "Both t-test and z-test are hypothesis tests used to determine whether a sample mean is significantly different from a population mean. However, they differ in the assumptions they make about the sample and population.\n",
    "\n",
    "A z-test is used when the population standard deviation is known, or the sample size is large enough for the sample standard deviation to be a good estimate of the population standard deviation. For example, a researcher wants to test if the mean weight of all blue whales is different from 90,000 pounds, and she knows from previous studies that the standard deviation of blue whale weights is 10,000 pounds. She can use a z-test because she knows the population standard deviation.\n",
    "\n",
    "On the other hand, a t-test is used when the population standard deviation is unknown and must be estimated from the sample data. It is also used when the sample size is small, usually less than 30. For example, a researcher wants to test if a new medication reduces the symptoms of anxiety, and she recruits 20 participants with anxiety disorders. She can use a t-test because the population standard deviation of anxiety levels is unknown, and the sample size is relatively small.\n",
    "\n",
    "In summary, the main difference between a t-test and a z-test is the assumptions they make about the population and sample standard deviations. A z-test assumes the population standard deviation is known or the sample size is large, while a t-test assumes the population standard deviation is unknown and the sample size is small."
   ]
  },
  {
   "cell_type": "markdown",
   "id": "f19308ac-10b8-4e33-a8f7-5e0e19bcc0c2",
   "metadata": {},
   "source": [
    "#### Q2: Differentiate between one-tailed and two-tailed tests."
   ]
  },
  {
   "cell_type": "markdown",
   "id": "9f425535-1287-4e23-916a-334dc85a6fd3",
   "metadata": {},
   "source": [
    "A hypothesis test is a statistical tool used to determine whether an observed difference between a sample and a population is statistically significant or simply due to chance. The hypothesis test can be either one-tailed or two-tailed, depending on the research question and the direction of the hypothesis.\n",
    "\n",
    "In a one-tailed test, the null hypothesis specifies a direction of the effect, and the alternative hypothesis specifies that the effect will occur in that direction. For example, if a researcher hypothesizes that a new treatment will increase the effectiveness of a drug, a one-tailed test would compare the mean effectiveness of the drug before and after the treatment and test whether the mean effectiveness is significantly higher after the treatment.\n",
    "\n",
    "In a two-tailed test, the null hypothesis does not specify a direction of the effect, and the alternative hypothesis specifies that the effect will occur in either direction. For example, if a researcher hypothesizes that a new drug will affect the mean level of a particular biomarker, a two-tailed test would compare the mean level of the biomarker in a treatment group with the mean level in a control group and test whether the mean level is significantly different in the treatment group than in the control group.\n",
    "\n",
    "In summary, the key difference between a one-tailed and a two-tailed test is the direction of the hypothesis. A one-tailed test tests whether an effect will occur in a specific direction, while a two-tailed test tests whether an effect will occur in either direction. The choice of which type of test to use depends on the research question and the direction of the hypothesis."
   ]
  },
  {
   "cell_type": "markdown",
   "id": "85353478-bda6-40d5-83c9-b7014178ed50",
   "metadata": {},
   "source": [
    "#### Q3: Explain the concept of Type 1 and Type 2 errors in hypothesis testing. Provide an example scenario for each type of error."
   ]
  },
  {
   "cell_type": "markdown",
   "id": "c0cc2d39-e4bc-456c-98d6-75c195f3f65d",
   "metadata": {},
   "source": [
    "In hypothesis testing, we make decisions based on sample data to determine whether to accept or reject a null hypothesis. However, there is always a possibility of making errors in our decision-making process. These errors are known as Type 1 and Type 2 errors.\n",
    "\n",
    "Type 1 error occurs when we reject a true null hypothesis, meaning we falsely conclude that there is a significant difference when there is no real difference. The probability of making a Type 1 error is denoted by α and is also known as the level of significance. Alpha is the probability of rejecting a null hypothesis when it is true. Type 1 errors are also known as false positives.\n",
    "\n",
    "For example, suppose a pharmaceutical company is testing a new drug for its effectiveness in reducing high blood pressure. The null hypothesis is that the new drug is not more effective than the current standard drug, and the alternative hypothesis is that it is. If the company rejects the null hypothesis when the new drug is actually not more effective, they will make a Type 1 error.\n",
    "\n",
    "Type 2 error occurs when we fail to reject a false null hypothesis, meaning we conclude that there is no significant difference when there is a real difference. The probability of making a Type 2 error is denoted by β and is also known as the probability of a false negative. Beta is the probability of accepting a null hypothesis when it is false.\n",
    "\n",
    "For example, suppose a researcher wants to determine if a new educational program improves test scores. The null hypothesis is that the new program does not improve test scores, and the alternative hypothesis is that it does. If the researcher fails to reject the null hypothesis when the program actually improves test scores, they will make a Type 2 error."
   ]
  },
  {
   "cell_type": "markdown",
   "id": "bf1d7d7d-7e41-4f32-8c33-cb5cc8b45e0a",
   "metadata": {},
   "source": [
    "#### Q4: Explain Bayes's theorem with an example."
   ]
  },
  {
   "cell_type": "markdown",
   "id": "739f4258-a67b-4e36-879d-378beede21ba",
   "metadata": {},
   "source": [
    "Bayes's theorem states that the probability of an event A, given that event B has occurred, is equal to the probability of event B given that event A has occurred multiplied by the probability of event A, divided by the probability of event B.\n",
    "\n",
    "Mathematically, Bayes's theorem can be written as follows:\n",
    "\n",
    "P(A | B) = P(B | A) x P(A) / P(B)\n",
    "\n",
    "where:\n",
    "\n",
    "P(A | B) is the probability of event A given event B has occurred.\n",
    "P(B | A) is the probability of event B given event A has occurred.\n",
    "P(A) is the prior probability of event A occurring.\n",
    "P(B) is the prior probability of event B occurring.\n",
    "For example, let's suppose a medical test is designed to detect a rare disease that affects only 1% of the population. The test is known to have a false positive rate of 5%, meaning that it incorrectly identifies 5% of healthy people as having the disease. The false negative rate is also 5%, meaning that it incorrectly identifies 5% of people with the disease as healthy.\n",
    "\n",
    "Suppose a patient takes the test and receives a positive result. What is the probability that the patient has the disease?\n",
    "\n",
    "Using Bayes's theorem, we can calculate the probability as follows:\n",
    "\n",
    "P(disease | positive) = P(positive | disease) x P(disease) / P(positive)\n",
    "\n",
    "where:\n",
    "\n",
    "P(disease | positive) is the probability of having the disease given a positive test result.\n",
    "P(positive | disease) is the probability of a positive test result given that the patient has the disease. In this case, it is the sensitivity of the test, which is 95%.\n",
    "P(disease) is the prior probability of having the disease, which is 1%.\n",
    "P(positive) is the probability of a positive test result, which can be calculated using the false positive rate: P(positive) = P(positive | no disease) x P(no disease) + P(positive | disease) x P(disease) = 0.05 x 0.99 + 0.95 x 0.01 = 0.0595\n",
    "\n",
    "Therefore, using Bayes's theorem, we can calculate that:\n",
    "\n",
    "P(disease | positive) = 0.95 x 0.01 / 0.0595 = 0.16\n",
    "\n",
    "This means that the probability of the patient having the disease given a positive test result is only 16%, despite the high sensitivity of the test. This example illustrates how prior probabilities and false positive rates can affect the accuracy of a diagnostic test."
   ]
  },
  {
   "cell_type": "markdown",
   "id": "cca51c0b-d4d2-4f05-b7d0-d4eb90a4e1a4",
   "metadata": {},
   "source": [
    "#### Q5: What is a confidence interval? How to calculate the confidence interval, explain with an example."
   ]
  },
  {
   "cell_type": "markdown",
   "id": "eded73ea-9f64-4b9a-8b12-218728cddd22",
   "metadata": {},
   "source": [
    "A confidence interval is a range of values that is likely to contain the true value of a population parameter with a certain degree of confidence or probability. It is a measure of the precision or accuracy of an estimate based on a sample of data.\n",
    "\n",
    "In statistics, a confidence interval is often expressed as a range of values centered on the sample estimate, such as the mean or proportion, along with a margin of error that quantifies the uncertainty in the estimate.\n",
    "\n",
    "To calculate a confidence interval, we need to know the sample size, the sample mean or proportion, the standard deviation or standard error, and the level of confidence. The most common level of confidence is 95%, which means that we are 95% confident that the true population parameter lies within the calculated interval.\n",
    "\n",
    "The formula for calculating a confidence interval for a population mean is:\n",
    "\n",
    "CI = X̄ ± z*(s / √n)\n",
    "\n",
    "where:\n",
    "\n",
    "CI is the confidence interval.\n",
    "X̄ is the sample mean.\n",
    "z* is the critical value from the standard normal distribution table corresponding to the desired level of confidence.\n",
    "s is the sample standard deviation.\n",
    "n is the sample size.\n",
    "\n",
    "For example, suppose we want to estimate the average height of all adult men in a certain city. We randomly sample 50 men and find that the sample mean height is 175 cm, with a sample standard deviation of 5 cm. We want to calculate a 95% confidence interval for the true population mean height.\n",
    "\n",
    "Using the formula above, we find that the critical value for a 95% confidence level is 1.96 (from the standard normal distribution table). Therefore, the confidence interval can be calculated as follows:\n",
    "\n",
    "CI = 175 ± 1.96*(5 / √50) = 175 ± 1.38\n",
    "\n",
    "Thus, the 95% confidence interval for the true population mean height is (173.62, 176.38) cm."
   ]
  },
  {
   "cell_type": "markdown",
   "id": "20b89f46-5673-48b5-a1d7-55dcce6e9229",
   "metadata": {},
   "source": [
    "#### Q6. Use Bayes' Theorem to calculate the probability of an event occurring given prior knowledge of the event's probability and new evidence. Provide a sample problem and solution."
   ]
  },
  {
   "cell_type": "markdown",
   "id": "6865726b-d489-43fb-a07d-3f13f403964f",
   "metadata": {},
   "source": [
    "Suppose a manufacturing company produces two types of products: Product A and Product B. 10% of the products are Product A, while 90% are Product B. The company has two machines, Machine X and Machine Y, which are used to produce these products. 95% of Product A is produced by Machine X, while 80% of Product B is produced by Machine Y. If a randomly selected product is produced by Machine X, what is the probability that it is Product A?\n",
    "\n",
    "We can use Bayes' theorem to calculate the probability of Product A given that the product is produced by Machine X, as follows:\n",
    "\n",
    "P(A|X) = P(X|A) * P(A) / P(X)\n",
    "\n",
    "where:\n",
    "\n",
    "P(A|X) is the probability of Product A given that the product is produced by Machine X (what we want to find).\n",
    "P(X|A) is the probability that a product is produced by Machine X given that it is Product A. From the problem statement, P(X|A) = 0.95.\n",
    "P(A) is the prior probability of a randomly selected product being Product A. From the problem statement, P(A) = 0.10.\n",
    "P(X) is the probability that a randomly selected product is produced by Machine X. We can calculate this using the law of total probability:\n",
    "P(X) = P(X|A) * P(A) + P(X|B) * P(B)\n",
    "= 0.95 * 0.10 + 0.20 * 0.90\n",
    "= 0.245\n",
    "\n",
    "Substituting the values into the Bayes' theorem formula, we get:\n",
    "\n",
    "P(A|X) = 0.95 * 0.10 / 0.245\n",
    "= 0.3878 or approximately 0.39"
   ]
  },
  {
   "cell_type": "markdown",
   "id": "fafea19f-6e12-4a3c-ab63-aee182b1df00",
   "metadata": {},
   "source": [
    "#### Q7. Calculate the 95% confidence interval for a sample of data with a mean of 50 and a standard deviation of 5. Interpret the results."
   ]
  },
  {
   "cell_type": "markdown",
   "id": "44217c38-992e-4e30-aedd-9b65ee68da4e",
   "metadata": {},
   "source": [
    "To calculate the 95% confidence interval for a sample of data with a mean of 50 and a standard deviation of 5, we need to use the formula:\n",
    "\n",
    "CI = X̄ ± z*(σ / √n)\n",
    "\n",
    "where:\n",
    "\n",
    "X̄ is the sample mean (given as 50).\n",
    "z is the critical value from the standard normal distribution table for a 95% confidence level (which is 1.96).\n",
    "σ is the population standard deviation (not given, so we assume it is the same as the sample standard deviation, which is 5).\n",
    "n is the sample size (not given).\n",
    "Since we don't know the sample size, we cannot calculate the exact confidence interval. However, we can still provide a range of values that the confidence interval would likely fall within. Using the formula, we can see that the confidence interval would be wider for smaller sample sizes and narrower for larger sample sizes.\n",
    "\n",
    "For a typical sample size of 30 or more, we can assume that the sample mean is normally distributed and use the formula:\n",
    "\n",
    "CI = X̄ ± (tα/2) * (s / √n)\n",
    "\n",
    "where:\n",
    "\n",
    "tα/2 is the critical value from the t-distribution table for a 95% confidence level and n-1 degrees of freedom (which is approximately 2.0 for a sample size of 30 or more).\n",
    "s is the sample standard deviation (given as 5).\n",
    "n is the sample size (not given).\n",
    "Substituting the values into the formula, we get:\n",
    "\n",
    "CI = 50 ± 2.0 * (5 / √n)\n",
    "\n",
    "Interpreting the results, we can say that we are 95% confident that the true population mean falls within the range of values obtained from the formula. In this case, the confidence interval is (47.16, 52.84) assuming a sample size of 30 or more. This means that if we were to repeatedly take samples of the same size and calculate their 95% confidence intervals, we would expect the true population mean to fall within this range approximately 95% of the time."
   ]
  },
  {
   "cell_type": "markdown",
   "id": "8439e436-da6e-4d14-ba3d-a41a64092dca",
   "metadata": {},
   "source": [
    "#### Q8. What is the margin of error in a confidence interval? How does sample size affect the margin of error?\n",
    "#### Provide an example of a scenario where a larger sample size would result in a smaller margin of error."
   ]
  },
  {
   "cell_type": "markdown",
   "id": "4e76b580-54db-4c06-8b15-df50ff515b8c",
   "metadata": {},
   "source": [
    "The margin of error is the maximum amount by which the sample estimate may differ from the true population value, with a certain level of confidence. In other words, it is the radius of the confidence interval, or half of the width of the interval.\n",
    "\n",
    "Sample size affects the margin of error in a confidence interval in two ways: first, as the sample size increases, the margin of error decreases, since a larger sample size reduces the variability and uncertainty in the estimate; and second, the margin of error is inversely proportional to the square root of the sample size. This means that doubling the sample size will cut the margin of error in half.\n",
    "\n",
    "For example, suppose a polling organization conducts a survey on the approval rating of a political candidate among likely voters. They survey 500 voters and find that 55% of them approve of the candidate. They want to calculate a 95% confidence interval for the true population proportion.\n",
    "\n",
    "Using the formula for a confidence interval for a proportion, the margin of error can be calculated as:\n",
    "\n",
    "Margin of error = z*√(p̂(1-p̂)/n)\n",
    "\n",
    "where:\n",
    "\n",
    "z is the critical value from the standard normal distribution table for a 95% confidence level (which is 1.96)\n",
    "p̂ is the sample proportion (55% or 0.55 in this case)\n",
    "n is the sample size (500 in this case)\n",
    "Plugging in the values, we get:\n",
    "\n",
    "Margin of error = 1.96 * √((0.55 * 0.45)/500) = 0.048\n",
    "\n",
    "So the 95% confidence interval for the true population proportion is 55% ± 4.8%, or between 50.2% and 59.8%. This means we can be 95% confident that the true proportion of likely voters who approve of the candidate is somewhere between these two values.\n",
    "\n",
    "Now, suppose the polling organization wants to reduce the margin of error to 3%. They can do this by increasing the sample size. Using the same formula, the sample size needed to achieve a margin of error of 3% can be calculated as:\n",
    "\n",
    "n = (z^2 * p̂(1-p̂))/m^2\n",
    "\n",
    "where m is the desired margin of error (0.03 in this case)\n",
    "\n",
    "Plugging in the values from the previous example, we get:\n",
    "\n",
    "n = (1.96^2 * 0.55 * 0.45)/(0.03)^2 = 1067.11"
   ]
  },
  {
   "cell_type": "markdown",
   "id": "7382e5dd-0055-490d-9fcd-85f4f0b989f4",
   "metadata": {},
   "source": [
    "#### Q9. Calculate the z-score for a data point with a value of 75, a population mean of 70, and a population standard deviation of 5. Interpret the results."
   ]
  },
  {
   "cell_type": "markdown",
   "id": "438cef9d-5a2e-48fb-8735-c4cb904b6fef",
   "metadata": {},
   "source": [
    "The z-score is a measure of how many standard deviations a data point is away from the population mean. It can be calculated using the formula:\n",
    "\n",
    "z = (x - μ) / σ\n",
    "\n",
    "where x is the value of the data point, μ is the population mean, and σ is the population standard deviation.\n",
    "\n",
    "In this case, the value of the data point is x = 75, the population mean is μ = 70, and the population standard deviation is σ = 5. Plugging these values into the formula, we get:\n",
    "\n",
    "z = (75 - 70) / 5 = 1\n",
    "\n",
    "So the z-score for the data point with a value of 75 is 1. This means that the data point is one standard deviation above the population mean. A positive z-score indicates that the data point is above the mean, while a negative z-score indicates that the data point is below the mean. The magnitude of the z-score indicates how far the data point is from the mean in terms of standard deviations."
   ]
  },
  {
   "cell_type": "markdown",
   "id": "a00f7507-4085-4de2-9d61-0d47e04e411c",
   "metadata": {},
   "source": [
    "#### Q10. In a study of the effectiveness of a new weight loss drug, a sample of 50 participants lost an average of 6 pounds with a standard deviation of 2.5 pounds. Conduct a hypothesis test to determine if the drug is significantly effective at a 95% confidence level using a t-test."
   ]
  },
  {
   "cell_type": "markdown",
   "id": "96e23b2e-4a82-48db-b900-fc0febe54a62",
   "metadata": {},
   "source": [
    "To conduct a hypothesis test to determine if the weight loss drug is significantly effective, we need to set up our null and alternative hypotheses:\n",
    "\n",
    "Null hypothesis (H0): The weight loss drug is not significantly effective. The mean weight loss in the population is equal to or less than 0 pounds.\n",
    "Alternative hypothesis (Ha): The weight loss drug is significantly effective. The mean weight loss in the population is greater than 0 pounds.\n",
    "\n",
    "We will use a t-test because we have a sample size of less than 30 and we do not know the population standard deviation.\n",
    "\n",
    "Assuming a 95% confidence level, our critical t-value (using a one-tailed test) with 49 degrees of freedom is 1.676.\n",
    "\n",
    "Next, we need to calculate our test statistic:\n",
    "\n",
    "t = (x̄ - μ) / (s / √n)\n",
    "\n",
    "where x̄ is the sample mean, μ is the hypothesized population mean (0 pounds), s is the sample standard deviation, and n is the sample size.\n",
    "\n",
    "Plugging in the values, we get:\n",
    "\n",
    "t = (6 - 0) / (2.5 / √50) = 15.4919\n",
    "\n",
    "Since our test statistic (15.4919) is greater than our critical t-value (1.676), we reject the null hypothesis and conclude that the weight loss drug is significantly effective."
   ]
  },
  {
   "cell_type": "markdown",
   "id": "37ca725c-041c-43c8-ab4b-f7e89102dac5",
   "metadata": {},
   "source": [
    "#### Q11. In a survey of 500 people, 65% reported being satisfied with their current job. Calculate the 95% confidence interval for the true proportion of people who are satisfied with their job."
   ]
  },
  {
   "cell_type": "markdown",
   "id": "700b7016-f9b8-42b1-b110-e618b8fcf7be",
   "metadata": {},
   "source": [
    "To calculate the 95% confidence interval for the true proportion of people who are satisfied with their job, we can use the following formula:\n",
    "\n",
    "CI = p ± z*(sqrt(p*(1-p)/n))\n",
    "\n",
    "where CI is the confidence interval, p is the sample proportion (0.65), z is the critical z-value for the desired confidence level (1.96 for 95% confidence level), and n is the sample size (500).\n",
    "\n",
    "Plugging in the values, we get:\n",
    "\n",
    "CI = 0.65 ± 1.96*(sqrt(0.65*(1-0.65)/500))\n",
    "CI = 0.65 ± 0.0438\n",
    "CI = [0.6062, 0.6938]\n",
    "\n",
    "Therefore, we can say with 95% confidence that the true proportion of people who are satisfied with their job lies between 0.6062 and 0.6938. We can interpret this as meaning that if we were to take many random samples of 500 people from the population, and calculate the 95% confidence interval for each sample, then 95% of those intervals would contain the true proportion of people who are satisfied with their job."
   ]
  },
  {
   "cell_type": "markdown",
   "id": "280bcff2-41f9-4010-9dba-30e1656a5ccb",
   "metadata": {},
   "source": [
    "#### Q12. A researcher is testing the effectiveness of two different teaching methods on student performance.Sample A has a mean score of 85 with a standard deviation of 6, while sample B has a mean score of 82 with a standard deviation of 5. Conduct a hypothesis test to determine if the two teaching methods have a significant difference in student performance using a t-test with a significance level of 0.01."
   ]
  },
  {
   "cell_type": "markdown",
   "id": "00be358e-c704-4150-88ca-9b6af93fca20",
   "metadata": {},
   "source": [
    "To conduct a hypothesis test to determine if there is a significant difference in student performance between the two teaching methods, we need to set up our null and alternative hypotheses:\n",
    "\n",
    "Null hypothesis (H0): The mean scores of the two teaching methods are not significantly different.\n",
    "Alternative hypothesis (Ha): The mean scores of the two teaching methods are significantly different.\n",
    "\n",
    "We will use a two-sample t-test because we are comparing the means of two independent samples and do not know the population standard deviation.\n",
    "\n",
    "Assuming a significance level of 0.01, our critical t-value (using a two-tailed test) with 20 degrees of freedom (df) is ±2.845.\n",
    "\n",
    "Next, we need to calculate our test statistic:\n",
    "\n",
    "t = (x̄A - x̄B) / (sqrt((sA^2/nA) + (sB^2/nB)))\n",
    "\n",
    "where x̄A and x̄B are the sample means, sA and sB are the sample standard deviations, and nA and nB are the sample sizes.\n",
    "\n",
    "Plugging in the values, we get:\n",
    "\n",
    "t = (85 - 82) / (sqrt((6^2/25) + (5^2/25)))\n",
    "t = 3 / 1.732\n",
    "t = 1.732\n",
    "\n",
    "Since our test statistic (1.732) is less than our critical t-value (±2.845), we fail to reject the null hypothesis and conclude that there is not a significant difference in student performance between the two teaching methods at the 0.01 level of significance.\n",
    "\n",
    "We can interpret this result as meaning that based on the sample data, we cannot say with 99% confidence that the true population means for the two teaching methods are significantly different. However, it is important to note that this does not mean that the teaching methods are necessarily equally effective, as we cannot rule out the possibility of a difference that is smaller than our threshold for significance."
   ]
  },
  {
   "cell_type": "markdown",
   "id": "3b823584-a7e8-4dc3-90af-b85a9da50b0d",
   "metadata": {},
   "source": [
    "#### Q13. A population has a mean of 60 and a standard deviation of 8. A sample of 50 observations has a mean of 65. Calculate the 90% confidence interval for the true population mean."
   ]
  },
  {
   "cell_type": "markdown",
   "id": "2eff456e-060e-49ef-90d8-ce638cef71b2",
   "metadata": {},
   "source": [
    "To calculate the 90% confidence interval for the true population mean, we will use the formula:\n",
    "\n",
    "CI = x̄ ± (zα/2) * (σ / sqrt(n))\n",
    "\n",
    "where CI is the confidence interval, x̄ is the sample mean, zα/2 is the critical z-value for the desired confidence level (0.10/2 = 0.05 for a 90% confidence level), σ is the population standard deviation, and n is the sample size.\n",
    "\n",
    "Plugging in the values, we get:\n",
    "\n",
    "CI = 65 ± (1.645) * (8 / sqrt(50))\n",
    "CI = 65 ± 2.91\n",
    "\n",
    "Therefore, the 90% confidence interval for the true population mean is (62.09, 67.91). We can interpret this as meaning that we are 90% confident that the true population mean falls within this range based on the sample data."
   ]
  },
  {
   "cell_type": "markdown",
   "id": "48c370fc-80e7-4d60-b838-4ef980413793",
   "metadata": {},
   "source": [
    "#### Q14. In a study of the effects of caffeine on reaction time, a sample of 30 participants had an average reaction time of 0.25 seconds with a standard deviation of 0.05 seconds. Conduct a hypothesis test to determine if the caffeine has a significant effect on reaction time at a 90% confidence level using a t-test."
   ]
  },
  {
   "cell_type": "markdown",
   "id": "abf728e8-cec3-4f96-acef-a5b86ede8b13",
   "metadata": {},
   "source": [
    "To conduct a hypothesis test to determine if caffeine has a significant effect on reaction time, we will use a t-test with the following null and alternative hypotheses:\n",
    "\n",
    "Null hypothesis (H0): The average reaction time with caffeine is not significantly different from the average reaction time without caffeine.\n",
    "Alternative hypothesis (Ha): The average reaction time with caffeine is significantly different from the average reaction time without caffeine.\n",
    "We will use a two-tailed t-test since we are testing for a significant difference in either direction. The significance level is 0.10 (90% confidence level) and the sample size is 30.\n",
    "\n",
    "First, we need to calculate the t-value:\n",
    "\n",
    "t = (x̄ - μ) / (s / sqrt(n))\n",
    "\n",
    "where x̄ is the sample mean, μ is the hypothesized population mean (which is 0 since we are testing for a difference from zero), s is the sample standard deviation, and n is the sample size.\n",
    "\n",
    "Plugging in the values, we get:\n",
    "\n",
    "t = (0.25 - 0) / (0.05 / sqrt(30))\n",
    "t = 5.48\n",
    "\n",
    "The degrees of freedom (df) for this test is 29 (n - 1). We can look up the critical t-value for a two-tailed test with 29 degrees of freedom and a significance level of 0.10 in a t-distribution table or calculator. The critical t-value is approximately ±1.699.\n",
    "\n",
    "Since our calculated t-value (5.48) is greater than the critical t-value (±1.699), we can reject the null hypothesis and conclude that there is a significant difference in reaction time with and without caffeine. Therefore, we have evidence to support the alternative hypothesis that the average reaction time with caffeine is significantly different from the average reaction time without caffeine."
   ]
  },
  {
   "cell_type": "code",
   "execution_count": null,
   "id": "43cbe968-6e75-44e3-8f33-0f8626b77dcc",
   "metadata": {},
   "outputs": [],
   "source": []
  }
 ],
 "metadata": {
  "kernelspec": {
   "display_name": "Python 3 (ipykernel)",
   "language": "python",
   "name": "python3"
  },
  "language_info": {
   "codemirror_mode": {
    "name": "ipython",
    "version": 3
   },
   "file_extension": ".py",
   "mimetype": "text/x-python",
   "name": "python",
   "nbconvert_exporter": "python",
   "pygments_lexer": "ipython3",
   "version": "3.10.8"
  }
 },
 "nbformat": 4,
 "nbformat_minor": 5
}

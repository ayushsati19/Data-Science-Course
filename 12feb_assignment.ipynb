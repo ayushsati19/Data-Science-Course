{
 "cells": [
  {
   "cell_type": "markdown",
   "id": "a39439a5-1186-4cde-a56b-0836fdcc3b75",
   "metadata": {},
   "source": [
    "#### Q1. What is an Exception in python? Write the difference between Exceptions and syntax error.\n"
   ]
  },
  {
   "cell_type": "markdown",
   "id": "803e47d1-4860-4c5e-842c-2ad8914649c0",
   "metadata": {},
   "source": [
    "An Exception in Python is a runtime error that occurs during the execution of a program when something unexpected or exceptional happens, such as an invalid input, a missing file, or a division by zero. When an exception occurs, it interrupts the normal flow of the program and raises an error message with a traceback, which provides information about the location and cause of the exception.\n",
    "\n",
    "Python has many built-in exceptions that are used to handle different types of errors that can occur during program execution. Some common built-in exceptions in Python include SyntaxError, TypeError, ValueError, ZeroDivisionError, FileNotFoundError, and KeyError, among others."
   ]
  },
  {
   "cell_type": "markdown",
   "id": "6df02a91-d4a6-403b-9688-ee426ccbc8a6",
   "metadata": {},
   "source": [
    "The main difference between exceptions and syntax errors is that syntax errors occur when there is a mistake in the program's syntax, such as a missing bracket or a typo, and they prevent the program from running at all. On the other hand, exceptions occur during program execution, and they can be handled using exception handling mechanisms such as try and except blocks."
   ]
  },
  {
   "cell_type": "markdown",
   "id": "b83e6c71-bd92-4aa6-8016-77e8172b8881",
   "metadata": {},
   "source": [
    "An Example of how to handle an exception in Python using a try and except block:"
   ]
  },
  {
   "cell_type": "code",
   "execution_count": 1,
   "id": "e08ab8ac-8f97-4971-a818-beeb8801e5ef",
   "metadata": {},
   "outputs": [
    {
     "name": "stdout",
     "output_type": "stream",
     "text": [
      "Error: division by zero\n"
     ]
    }
   ],
   "source": [
    "try:\n",
    "    # Some code that may raise an exception\n",
    "    x = 1 / 0\n",
    "except ZeroDivisionError:\n",
    "    # Handle the exception\n",
    "    print('Error: division by zero')\n"
   ]
  },
  {
   "cell_type": "markdown",
   "id": "f88cdc69-02ca-46f0-8915-c6b26cb2ddd5",
   "metadata": {},
   "source": [
    "In summary, exceptions in Python are runtime errors that occur during program execution, and they can be handled using try and except blocks. Exceptions are different from syntax errors, which occur when there is a mistake in the program's syntax and prevent the program from running at all."
   ]
  },
  {
   "cell_type": "markdown",
   "id": "564a6c15-9741-4d6e-b6aa-c4d29bd7e05e",
   "metadata": {},
   "source": [
    "#### Q2. What happens when an exception is not handled? Explain with an example."
   ]
  },
  {
   "cell_type": "markdown",
   "id": "f68334c8-ff29-4548-aa09-d98f0b093f57",
   "metadata": {},
   "source": [
    "When an exception is not handled in Python, it causes the program to terminate abruptly and print an error message with a traceback that shows where the exception occurred. This is known as an unhandled exception, and it can be problematic if the program is running in a production environment or if it is critical for the program to run continuously."
   ]
  },
  {
   "cell_type": "markdown",
   "id": "e719b69b-3997-4194-832d-3fd80e763781",
   "metadata": {},
   "source": [
    "Here is an example of what happens when an exception is not handled in Python:"
   ]
  },
  {
   "cell_type": "code",
   "execution_count": 2,
   "id": "a8714196-9904-43d1-90ee-c02f476062b2",
   "metadata": {},
   "outputs": [
    {
     "ename": "NameError",
     "evalue": "name 'x' is not defined",
     "output_type": "error",
     "traceback": [
      "\u001b[0;31m---------------------------------------------------------------------------\u001b[0m",
      "\u001b[0;31mNameError\u001b[0m                                 Traceback (most recent call last)",
      "Cell \u001b[0;32mIn[2], line 2\u001b[0m\n\u001b[1;32m      1\u001b[0m \u001b[38;5;66;03m# This code raises a NameError because the variable x is not defined\u001b[39;00m\n\u001b[0;32m----> 2\u001b[0m \u001b[38;5;28mprint\u001b[39m(\u001b[43mx\u001b[49m)\n",
      "\u001b[0;31mNameError\u001b[0m: name 'x' is not defined"
     ]
    }
   ],
   "source": [
    "# This code raises a NameError because the variable x is not defined\n",
    "print(x)\n"
   ]
  },
  {
   "cell_type": "markdown",
   "id": "659b27e4-0873-4ba3-a724-20ce7cc31e1b",
   "metadata": {},
   "source": [
    "If we run this program without handling the NameError, it will terminate abruptly and print an error message with a traceback that shows where the exception occurred."
   ]
  },
  {
   "cell_type": "markdown",
   "id": "59cb2a91-9997-47b4-905b-3aead74cbf44",
   "metadata": {},
   "source": [
    "To avoid such situations, it is important to handle exceptions properly in Python using mechanisms such as try and except blocks. By handling exceptions, we can gracefully handle errors and prevent the program from terminating abruptly."
   ]
  },
  {
   "cell_type": "markdown",
   "id": "fd832573-0909-4a6c-be9a-62bde95ee703",
   "metadata": {},
   "source": [
    "#### Q3. Which Python statements are used to catch and handle exceptions? Explain with an example."
   ]
  },
  {
   "cell_type": "markdown",
   "id": "44447c85-ce54-48e4-80d8-3a13e496d9ae",
   "metadata": {},
   "source": [
    "In Python, the try and except statements are used to handle exceptions. The try statement is used to enclose the code that may raise an exception, while the except statement is used to handle the exception if it occurs"
   ]
  },
  {
   "cell_type": "markdown",
   "id": "fbca7cdd-8f16-4f5b-9815-09a1411d37d1",
   "metadata": {},
   "source": [
    "In this syntax, SomeException is the name of the exception that we want to handle. If the code inside the try block raises an exception of type SomeException, then the program jumps to the except block and executes the code inside it, which handles the exception."
   ]
  },
  {
   "cell_type": "code",
   "execution_count": 3,
   "id": "e2b7d619-1303-44ae-9919-715e7c0ee1a0",
   "metadata": {},
   "outputs": [
    {
     "name": "stdout",
     "output_type": "stream",
     "text": [
      "Cannot divide by zero!\n"
     ]
    }
   ],
   "source": [
    "try:\n",
    "    # Some code that may raise a ZeroDivisionError\n",
    "    x = 1 / 0\n",
    "except ZeroDivisionError:\n",
    "    # Handle the ZeroDivisionError\n",
    "    print(\"Cannot divide by zero!\")\n"
   ]
  },
  {
   "cell_type": "markdown",
   "id": "68a00328-0bd1-4773-bdcd-c2a893b80c6b",
   "metadata": {},
   "source": [
    "#### Q4. Explain with an example:\n",
    " ##### a.try and else\n",
    " ##### b.finally\n",
    " ##### c.raise"
   ]
  },
  {
   "cell_type": "markdown",
   "id": "7c97d21c-8e48-48fc-b179-2c2d1767a078",
   "metadata": {},
   "source": [
    "#### Ans:- \n",
    "#### a.Try and Else\n",
    "In addition to the try and except blocks, Python also provides an else block that can be used in conjunction with try and except. The else block is executed if no exceptions are raised in the try block. "
   ]
  },
  {
   "cell_type": "markdown",
   "id": "d51c8382-afa9-49e5-8f74-6ea060703835",
   "metadata": {},
   "source": [
    "Syntax:-"
   ]
  },
  {
   "cell_type": "raw",
   "id": "c750265a-3e90-4b27-877b-f95a0a666891",
   "metadata": {},
   "source": [
    "try:\n",
    "    # Some code that may raise an exception\n",
    "except SomeException:\n",
    "    # Handle the exception\n",
    "else:\n",
    "    # Code to execute if no exception is raised\n"
   ]
  },
  {
   "cell_type": "markdown",
   "id": "a1f359b5-5ce1-40d0-8fcb-3ca127b5b4fa",
   "metadata": {},
   "source": [
    "example:-"
   ]
  },
  {
   "cell_type": "code",
   "execution_count": 4,
   "id": "fffebb13-4946-42a1-b9c1-020626ef6277",
   "metadata": {},
   "outputs": [
    {
     "name": "stdout",
     "output_type": "stream",
     "text": [
      "The result is: 0.5\n"
     ]
    }
   ],
   "source": [
    "try:\n",
    "    # Some code that may raise an exception\n",
    "    x = 1 / 2\n",
    "except ZeroDivisionError:\n",
    "    # Handle the ZeroDivisionError\n",
    "    print(\"Cannot divide by zero!\")\n",
    "else:\n",
    "    # Code to execute if no exception is raised\n",
    "    print(\"The result is:\", x)\n"
   ]
  },
  {
   "cell_type": "markdown",
   "id": "9a3cc463-1ba7-4e20-ae73-6d9daf31a605",
   "metadata": {},
   "source": [
    "#### b.finally"
   ]
  },
  {
   "cell_type": "markdown",
   "id": "4776f337-07be-4663-b0b2-78d2eb02ea30",
   "metadata": {},
   "source": [
    "Python provides a finally block that can be used to execute some code regardless of whether an exception is raised or not. The finally block is always executed, even if the try block raises an exception and the except block is executed. "
   ]
  },
  {
   "cell_type": "markdown",
   "id": "2ebd9da7-7690-4a94-b9f9-19a7264d9584",
   "metadata": {},
   "source": [
    "Syntax:-"
   ]
  },
  {
   "cell_type": "raw",
   "id": "54831545-a1e7-431b-9475-27c0b95e82ea",
   "metadata": {},
   "source": [
    "try:\n",
    "    # Some code that may raise an exception\n",
    "except SomeException:\n",
    "    # Handle the exception\n",
    "else:\n",
    "    # Code to execute if no exception is raised\n",
    "finally:\n",
    "    # Code to execute regardless of whether an exception is raised or not\n"
   ]
  },
  {
   "cell_type": "code",
   "execution_count": 6,
   "id": "0c8b7774-bbf4-49af-b45c-1f3ebaa22e2a",
   "metadata": {},
   "outputs": [
    {
     "name": "stdout",
     "output_type": "stream",
     "text": [
      "Cannot divide by zero!\n",
      "Execution complete.\n"
     ]
    }
   ],
   "source": [
    "try:\n",
    "    # Some code that may raise an exception\n",
    "    x = 1 / 0\n",
    "except ZeroDivisionError:\n",
    "    # Handle the ZeroDivisionError\n",
    "    print(\"Cannot divide by zero!\")\n",
    "else:\n",
    "    # Code to execute if no exception is raised\n",
    "    print(\"The result is:\", x)\n",
    "finally:\n",
    "    # Code to execute regardless of whether an exception is raised or not\n",
    "    print(\"Execution complete.\")\n"
   ]
  },
  {
   "cell_type": "markdown",
   "id": "ba2ceca8-111a-47f1-a354-b1519cd44829",
   "metadata": {},
   "source": [
    "#### c.raise"
   ]
  },
  {
   "cell_type": "markdown",
   "id": "73dd0789-bc5c-4638-93b6-20cb3cdf7384",
   "metadata": {},
   "source": [
    "By using the raise statement, we can manually raise exceptions in our code when certain conditions are met. This allows us to handle unexpected errors and exceptions more gracefully, and provides more information to the user about what went wrong."
   ]
  },
  {
   "cell_type": "code",
   "execution_count": 1,
   "id": "da0b0457-ba89-4a3e-a15b-1eb6b732eef3",
   "metadata": {},
   "outputs": [
    {
     "name": "stdout",
     "output_type": "stream",
     "text": [
      "The average is: 3.0\n",
      "Error: Cannot calculate average of empty list\n"
     ]
    }
   ],
   "source": [
    "def calculate_average(numbers):\n",
    "    if len(numbers) == 0:\n",
    "        raise ValueError(\"Cannot calculate average of empty list\")\n",
    "    return sum(numbers) / len(numbers)\n",
    "\n",
    "try:\n",
    "    numbers = [1, 2, 3, 4, 5]\n",
    "    average = calculate_average(numbers)\n",
    "    print(\"The average is:\", average)\n",
    "    \n",
    "    empty_list = []\n",
    "    average = calculate_average(empty_list)\n",
    "    print(\"The average is:\", average)\n",
    "except ValueError as e:\n",
    "    print(\"Error:\", str(e))\n"
   ]
  },
  {
   "cell_type": "markdown",
   "id": "89d936eb-3300-4619-ade1-6835a1dd9775",
   "metadata": {},
   "source": [
    "#### Q5. What are Custom Exceptions in python? What do we need Custom Exceptions? Explain with an example."
   ]
  },
  {
   "cell_type": "markdown",
   "id": "428cce1a-265b-418b-932c-dec5a8eb83b8",
   "metadata": {},
   "source": [
    "In Python, custom exceptions are user-defined exceptions that are created by subclassing the built-in Exception class or one of its subclasses. Custom exceptions can be used to raise specific errors or exceptions that are not covered by the built-in exception types.\n",
    "\n",
    "We need custom exceptions in Python when we want to handle specific error conditions that are not already covered by the built-in exception types. By defining our own custom exception class, we can provide more specific information about the error, and make it easier for other developers to understand and handle the error.\n",
    "\n",
    "Example:-"
   ]
  },
  {
   "cell_type": "code",
   "execution_count": 3,
   "id": "1891b37f-c59b-42fb-b3f2-c44aaabd9fbf",
   "metadata": {},
   "outputs": [
    {
     "name": "stdin",
     "output_type": "stream",
     "text": [
      "Enter a number:  6\n"
     ]
    },
    {
     "name": "stdout",
     "output_type": "stream",
     "text": [
      "The factorial of 6 is 720\n"
     ]
    }
   ],
   "source": [
    "class NegativeNumberError(Exception):\n",
    "    \"\"\"Raised when a negative number is encountered\"\"\"\n",
    "\n",
    "    def __init__(self, number):\n",
    "        self.number = number\n",
    "        self.message = \"Negative numbers are not allowed: {}\".format(number)\n",
    "        super().__init__(self.message)\n",
    "\n",
    "def calculate_factorial(n):\n",
    "    if n < 0:\n",
    "        raise NegativeNumberError(n)\n",
    "    factorial = 1\n",
    "    for i in range(1, n + 1):\n",
    "        factorial *= i\n",
    "    return factorial\n",
    "\n",
    "try:\n",
    "    n = int(input(\"Enter a number: \"))\n",
    "    print(\"The factorial of {} is {}\".format(n, calculate_factorial(n)))\n",
    "except NegativeNumberError as e:\n",
    "    print(\"Error:\", e.message)\n"
   ]
  },
  {
   "cell_type": "markdown",
   "id": "f5e04984-6355-4dfc-8fe1-976afbe47cd7",
   "metadata": {},
   "source": [
    "By defining our own custom exception class, we can provide more specific information about the error and make it easier to handle the error in a meaningful way."
   ]
  },
  {
   "cell_type": "markdown",
   "id": "7062744d-a706-4094-8d59-0535f245c232",
   "metadata": {},
   "source": [
    "#### Q6. Create a custom exception class. Use this class to handle an exception."
   ]
  },
  {
   "cell_type": "code",
   "execution_count": 4,
   "id": "9879d6c4-34d6-4e73-9643-d456d287d654",
   "metadata": {},
   "outputs": [
    {
     "name": "stdout",
     "output_type": "stream",
     "text": [
      "Error: Negative value not allowed: -4\n"
     ]
    }
   ],
   "source": [
    "class NegativeValueError(Exception):\n",
    "    \"\"\"Raised when a negative value is encountered\"\"\"\n",
    "\n",
    "    def __init__(self, value):\n",
    "        self.value = value\n",
    "        self.message = \"Negative value not allowed: {}\".format(value)\n",
    "        super().__init__(self.message)\n",
    "\n",
    "def calculate_square_root(n):\n",
    "    if n < 0:\n",
    "        raise NegativeValueError(n)\n",
    "    else:\n",
    "        return n ** 0.5\n",
    "\n",
    "try:\n",
    "    result = calculate_square_root(-4)\n",
    "    print(\"Result:\", result)\n",
    "except NegativeValueError as e:\n",
    "    print(\"Error:\", e.message)\n"
   ]
  },
  {
   "cell_type": "markdown",
   "id": "f1a652ec-0076-44b0-afd3-24ffc061fda0",
   "metadata": {},
   "source": [
    "In this example, we define a custom exception class called NegativeValueError that is raised when a negative value is encountered. The exception takes a single argument value that represents the negative value. The exception class defines an __init__ method that sets the error message to \"Negative value not allowed: {}\".format(value), where {} is replaced with the actual value.\n",
    "\n",
    "We then define a function called calculate_square_root that calculates the square root of a number. If the number is negative, the function raises a NegativeValueError with the value as an argument.\n",
    "\n",
    "In the try block, we call the calculate_square_root function with a negative value (-4). Since the value is negative, the function raises a NegativeValueError exception. We catch the exception in the except block and print the error message."
   ]
  },
  {
   "cell_type": "code",
   "execution_count": null,
   "id": "c1071b22-b1d9-4db7-92b9-e6f5be5b3088",
   "metadata": {},
   "outputs": [],
   "source": []
  }
 ],
 "metadata": {
  "kernelspec": {
   "display_name": "Python 3 (ipykernel)",
   "language": "python",
   "name": "python3"
  },
  "language_info": {
   "codemirror_mode": {
    "name": "ipython",
    "version": 3
   },
   "file_extension": ".py",
   "mimetype": "text/x-python",
   "name": "python",
   "nbconvert_exporter": "python",
   "pygments_lexer": "ipython3",
   "version": "3.10.8"
  }
 },
 "nbformat": 4,
 "nbformat_minor": 5
}

{
 "cells": [
  {
   "cell_type": "markdown",
   "id": "4474ed2a-eb62-416f-9712-ebdf89043f05",
   "metadata": {},
   "source": [
    "#### Q1. Create a vehicle class with an init method having instance variables as name_of_vehicle, max_speed and average_of_vehicle."
   ]
  },
  {
   "cell_type": "code",
   "execution_count": 2,
   "id": "cd149e52-f8ec-417a-a3de-5dd915309afa",
   "metadata": {},
   "outputs": [
    {
     "name": "stdout",
     "output_type": "stream",
     "text": [
      "Vehicle Name: Car\n",
      "Max Speed: 200\n",
      "Average: 30\n"
     ]
    }
   ],
   "source": [
    "class Vehicle:\n",
    "    def __init__(self, name_of_vehicle, max_speed, average_of_vehicle):\n",
    "        self.name_of_vehicle = name_of_vehicle\n",
    "        self.max_speed = max_speed\n",
    "        self.average_of_vehicle = average_of_vehicle\n",
    "\n",
    "vehicle = Vehicle(\"Car\", 200, 30)\n",
    "\n",
    "print(\"Vehicle Name:\", vehicle.name_of_vehicle)\n",
    "print(\"Max Speed:\", vehicle.max_speed)\n",
    "print(\"Average:\", vehicle.average_of_vehicle)\n"
   ]
  },
  {
   "cell_type": "markdown",
   "id": "ab0e1208-f279-47ed-9292-59b359aef5e7",
   "metadata": {},
   "source": [
    "#### Q2. Create a child class car from the vehicle class created in Que 1, which will inherit the vehicle class.\n",
    "#### Create a method named seating_capacity which takes capacity as an argument and returns the name of the vehicle and its seating capacity."
   ]
  },
  {
   "cell_type": "code",
   "execution_count": 3,
   "id": "c342e766-efd9-4262-8a64-a00830d9da1a",
   "metadata": {},
   "outputs": [],
   "source": [
    "class Car(Vehicle):\n",
    "    def __init__(self, name_of_vehicle, max_speed, average_of_vehicle):\n",
    "        super().__init__(name_of_vehicle, max_speed, average_of_vehicle)\n",
    "\n",
    "    def seating_capacity(self, capacity):\n",
    "        return f\"{self.name_of_vehicle} has a seating capacity of {capacity} passengers.\"\n"
   ]
  },
  {
   "cell_type": "code",
   "execution_count": 4,
   "id": "3f7c74d4-8ad3-424d-b1be-a6e06f285625",
   "metadata": {},
   "outputs": [
    {
     "name": "stdout",
     "output_type": "stream",
     "text": [
      "SUV has a seating capacity of 7 passengers.\n"
     ]
    }
   ],
   "source": [
    "car = Car(\"SUV\", 180, 5)\n",
    "print(car.seating_capacity(7))\n"
   ]
  },
  {
   "cell_type": "markdown",
   "id": "a5542ee0-2a2e-4240-ac34-080f31ee6ae1",
   "metadata": {},
   "source": [
    "#### Q3. What is multiple inheritance? Write a python code to demonstrate multiple inheritance."
   ]
  },
  {
   "cell_type": "markdown",
   "id": "b4809e4c-59c9-4d49-8f2e-cfae57b84461",
   "metadata": {},
   "source": [
    "Multiple inheritance is a feature of object-oriented programming languages that allows a class to inherit from more than one parent class. In Python, you can define a class with multiple inheritance by specifying multiple parent classes in the class definition.\n",
    "#### Python code :"
   ]
  },
  {
   "cell_type": "code",
   "execution_count": 5,
   "id": "145e89ba-b43f-400e-a836-a1a8b6f2e40a",
   "metadata": {},
   "outputs": [
    {
     "name": "stdout",
     "output_type": "stream",
     "text": [
      "Name: John Doe, Age: 40, Employee ID: E1234, Salary: 5000, Department: IT\n"
     ]
    }
   ],
   "source": [
    "class Person:\n",
    "    def __init__(self, name, age):\n",
    "        self.name = name\n",
    "        self.age = age\n",
    "\n",
    "    def get_details(self):\n",
    "        return f\"Name: {self.name}, Age: {self.age}\"\n",
    "\n",
    "class Employee:\n",
    "    def __init__(self, emp_id, salary):\n",
    "        self.emp_id = emp_id\n",
    "        self.salary = salary\n",
    "\n",
    "    def get_details(self):\n",
    "        return f\"Employee ID: {self.emp_id}, Salary: {self.salary}\"\n",
    "\n",
    "class Manager(Person, Employee):\n",
    "    def __init__(self, name, age, emp_id, salary, department):\n",
    "        Person.__init__(self, name, age)\n",
    "        Employee.__init__(self, emp_id, salary)\n",
    "        self.department = department\n",
    "\n",
    "    def get_details(self):\n",
    "        return f\"{Person.get_details(self)}, {Employee.get_details(self)}, Department: {self.department}\"\n",
    "\n",
    "manager = Manager(\"John Doe\", 40, \"E1234\", 5000, \"IT\")\n",
    "print(manager.get_details())\n"
   ]
  },
  {
   "cell_type": "markdown",
   "id": "43310bb9-6418-43e0-9e39-49f9cbb73f7a",
   "metadata": {},
   "source": [
    "#### Q4. What are getter and setter in python? Create a class and create a getter and a setter method in this class."
   ]
  },
  {
   "cell_type": "markdown",
   "id": "d36add7a-59cb-49c9-b616-9b35e983ff5c",
   "metadata": {},
   "source": [
    "In Python, getters and setters are methods that allow you to access and modify the private instance variables of a class respectively. Private instance variables are instance variables that are intended to be used only within the class, and not from outside the class.\n",
    "\n",
    "Getters are methods that are used to get the value of a private instance variable. They are defined with the @property decorator in Python. Setters are methods that are used to set the value of a private instance variable. They are defined with the @<property_name>.setter decorator in Python."
   ]
  },
  {
   "cell_type": "code",
   "execution_count": 7,
   "id": "5b24b285-2bdd-4d0d-afe5-b94e3ec73afb",
   "metadata": {},
   "outputs": [],
   "source": [
    "class Person:\n",
    "    def __init__(self, name, age):\n",
    "        self._name = name\n",
    "        self._age = age\n",
    "\n",
    "    def get_name(self):\n",
    "        return self._name\n",
    "\n",
    "    def set_name(self, name):\n",
    "        self._name = name\n",
    "\n",
    "    def get_age(self):\n",
    "        return self._age\n",
    "\n",
    "    def set_age(self, age):\n",
    "        self._age = age"
   ]
  },
  {
   "cell_type": "code",
   "execution_count": 8,
   "id": "71ec5fa0-2d80-4fdd-a125-b9ec723172b7",
   "metadata": {},
   "outputs": [
    {
     "name": "stdout",
     "output_type": "stream",
     "text": [
      "John Doe\n",
      "Jane Doe\n"
     ]
    }
   ],
   "source": [
    "person = Person(\"John Doe\", 30)\n",
    "print(person.get_name())\n",
    "person.set_name(\"Jane Doe\")\n",
    "print(person.get_name())\n"
   ]
  },
  {
   "cell_type": "markdown",
   "id": "922fda72-35ad-4534-8c65-7bfe357e12cd",
   "metadata": {},
   "source": [
    "#### Q5.What is method overriding in python? Write a python code to demonstrate method overriding."
   ]
  },
  {
   "cell_type": "markdown",
   "id": "46698534-355e-4258-b4b9-f66f47de3868",
   "metadata": {},
   "source": [
    "Method overriding is a feature of object-oriented programming that allows a subclass to provide its own implementation of a method that is already defined in its superclass. The subclass's implementation \"overrides\" the superclass's implementation of the method."
   ]
  },
  {
   "cell_type": "code",
   "execution_count": 9,
   "id": "a60ba6ff-0fc5-4b28-be90-e17091be9f54",
   "metadata": {},
   "outputs": [
    {
     "name": "stdout",
     "output_type": "stream",
     "text": [
      "Generic Animal makes a sound.\n",
      "Rufus barks.\n",
      "Whiskers meows.\n"
     ]
    }
   ],
   "source": [
    "class Animal:\n",
    "    def __init__(self, name):\n",
    "        self.name = name\n",
    "\n",
    "    def speak(self):\n",
    "        print(f\"{self.name} makes a sound.\")\n",
    "\n",
    "class Dog(Animal):\n",
    "    def __init__(self, name):\n",
    "        super().__init__(name)\n",
    "\n",
    "    def speak(self):\n",
    "        print(f\"{self.name} barks.\")\n",
    "\n",
    "class Cat(Animal):\n",
    "    def __init__(self, name):\n",
    "        super().__init__(name)\n",
    "\n",
    "    def speak(self):\n",
    "        print(f\"{self.name} meows.\")\n",
    "\n",
    "animal = Animal(\"Generic Animal\")\n",
    "animal.speak()\n",
    "\n",
    "dog = Dog(\"Rufus\")\n",
    "dog.speak()\n",
    "\n",
    "cat = Cat(\"Whiskers\")\n",
    "cat.speak()"
   ]
  },
  {
   "cell_type": "code",
   "execution_count": null,
   "id": "a0af5cc3-1973-4d51-85ec-581401e3e7c5",
   "metadata": {},
   "outputs": [],
   "source": []
  }
 ],
 "metadata": {
  "kernelspec": {
   "display_name": "Python 3 (ipykernel)",
   "language": "python",
   "name": "python3"
  },
  "language_info": {
   "codemirror_mode": {
    "name": "ipython",
    "version": 3
   },
   "file_extension": ".py",
   "mimetype": "text/x-python",
   "name": "python",
   "nbconvert_exporter": "python",
   "pygments_lexer": "ipython3",
   "version": "3.10.8"
  }
 },
 "nbformat": 4,
 "nbformat_minor": 5
}

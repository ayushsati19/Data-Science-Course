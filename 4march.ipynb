{
 "cells": [
  {
   "cell_type": "markdown",
   "id": "c74fe442-dab0-4b37-ad6c-be71bf8d914d",
   "metadata": {},
   "source": [
    "#### Q1. Load the \"titanic\" dataset using the load_dataset function of seaborn. Use Plotly express to plot a scatter plot for age and fare columns in the titanic dataset."
   ]
  },
  {
   "cell_type": "code",
   "execution_count": 2,
   "id": "f0d872ba-ce6c-4a64-9843-30cac0354f31",
   "metadata": {},
   "outputs": [
    {
     "name": "stdout",
     "output_type": "stream",
     "text": [
      "Collecting plotly\n",
      "  Downloading plotly-5.14.0-py2.py3-none-any.whl (15.3 MB)\n",
      "\u001b[2K     \u001b[90m━━━━━━━━━━━━━━━━━━━━━━━━━━━━━━━━━━━━━━━━\u001b[0m \u001b[32m15.3/15.3 MB\u001b[0m \u001b[31m57.1 MB/s\u001b[0m eta \u001b[36m0:00:00\u001b[0m00:01\u001b[0m00:01\u001b[0m\n",
      "\u001b[?25hCollecting tenacity>=6.2.0\n",
      "  Downloading tenacity-8.2.2-py3-none-any.whl (24 kB)\n",
      "Requirement already satisfied: packaging in /opt/conda/lib/python3.10/site-packages (from plotly) (22.0)\n",
      "Installing collected packages: tenacity, plotly\n",
      "Successfully installed plotly-5.14.0 tenacity-8.2.2\n",
      "Note: you may need to restart the kernel to use updated packages.\n"
     ]
    }
   ],
   "source": [
    "pip install plotly"
   ]
  },
  {
   "cell_type": "code",
   "execution_count": null,
   "id": "b4f43284-8459-43fe-bbd6-53356f131b2d",
   "metadata": {},
   "outputs": [],
   "source": [
    "import seaborn as sns\n",
    "import plotly.express as px\n",
    "\n",
    "# Load the titanic dataset\n",
    "titanic = sns.load_dataset('titanic')\n",
    "\n",
    "# Create scatter plot using Plotly express\n",
    "fig = px.scatter(titanic, x='age', y='fare')\n",
    "\n",
    "# Show the plot\n",
    "fig.show()\n"
   ]
  },
  {
   "cell_type": "markdown",
   "id": "35ccb80d-7941-4145-8588-ded557708ce7",
   "metadata": {},
   "source": [
    "#### Q2. Using the tips dataset in the Plotly library, plot a box plot using Plotly express."
   ]
  },
  {
   "cell_type": "code",
   "execution_count": null,
   "id": "326b9312-c1f8-46be-bb98-26b44e878d92",
   "metadata": {},
   "outputs": [],
   "source": [
    "import plotly.express as px\n",
    "import seaborn as sns\n",
    "\n",
    "# load tips dataset from seaborn\n",
    "tips = sns.load_dataset('tips')\n",
    "\n",
    "# plot a box plot using Plotly express\n",
    "fig = px.box(tips, x='day', y='total_bill', color='sex')\n",
    "fig.show()\n"
   ]
  },
  {
   "cell_type": "markdown",
   "id": "1a1eddc2-5488-49b2-8f5b-5cb3df00e1a3",
   "metadata": {},
   "source": [
    "#### Q3. Using the tips dataset in the Plotly library, Plot a histogram for x= \"sex\" and y=\"total_bill\" column in the tips dataset. Also, use the \"smoker\" column with the pattern_shape parameter and the \"day\" column with the color parameter."
   ]
  },
  {
   "cell_type": "code",
   "execution_count": null,
   "id": "134308ea-155d-4397-803a-8925f6d30003",
   "metadata": {},
   "outputs": [],
   "source": [
    "import plotly.express as px\n",
    "tips = px.data.tips()\n",
    "\n",
    "fig = px.histogram(tips, x=\"sex\", y=\"total_bill\", color=\"day\", \n",
    "                   pattern_shape=\"smoker\", barmode=\"group\")\n",
    "fig.show()"
   ]
  },
  {
   "cell_type": "markdown",
   "id": "8bd02007-fd2d-45ee-a32e-7cbe259884f3",
   "metadata": {},
   "source": [
    "#### Q4. Using the iris dataset in the Plotly library, Plot a scatter matrix plot, using the \"species\" column for the color parameter.\n",
    "#### Note: Use \"sepal_length\", \"sepal_width\", \"petal_length\", \"petal_width\" columns only with the dimensions parameter."
   ]
  },
  {
   "cell_type": "code",
   "execution_count": null,
   "id": "a005083c-c86e-490b-b837-cd9fe5d0477f",
   "metadata": {},
   "outputs": [],
   "source": [
    "import plotly.express as px\n",
    "from sklearn.datasets import load_iris\n",
    "\n",
    "iris = load_iris()\n",
    "df = px.data.iris()\n",
    "\n",
    "fig = px.scatter_matrix(df, dimensions=[\"sepal_length\", \"sepal_width\", \"petal_length\", \"petal_width\"], color=\"species\")\n",
    "fig.show()"
   ]
  },
  {
   "cell_type": "markdown",
   "id": "a4ad112a-089b-419e-8ce6-e1321f93200f",
   "metadata": {},
   "source": [
    "#### Q5. What is Distplot? Using Plotly express, plot a distplot."
   ]
  },
  {
   "cell_type": "markdown",
   "id": "d607be58-ed9a-4663-90bf-5ef1c58b9431",
   "metadata": {},
   "source": [
    "Distplot is a plot type in Plotly Express that displays the distribution of a dataset, usually depicting the density estimate of the underlying distribution using a histogram with a smooth kernel density estimate line."
   ]
  },
  {
   "cell_type": "code",
   "execution_count": null,
   "id": "df569a55-ae4c-47e9-a205-3b4b526db1ab",
   "metadata": {},
   "outputs": [],
   "source": [
    "import plotly.express as px\n",
    "import seaborn as sns\n",
    "\n",
    "# Load sample dataset\n",
    "tips = sns.load_dataset(\"tips\")\n",
    "\n",
    "# Create distplot\n",
    "fig = px.histogram(tips, x=\"total_bill\", nbins=20, opacity=0.8, color_discrete_sequence=['indianred'])\n",
    "fig.update_layout(title=\"Distribution of Total Bill Amounts\", xaxis_title=\"Total Bill Amount ($)\", yaxis_title=\"Count\")\n",
    "fig.show()"
   ]
  }
 ],
 "metadata": {
  "kernelspec": {
   "display_name": "Python 3 (ipykernel)",
   "language": "python",
   "name": "python3"
  },
  "language_info": {
   "codemirror_mode": {
    "name": "ipython",
    "version": 3
   },
   "file_extension": ".py",
   "mimetype": "text/x-python",
   "name": "python",
   "nbconvert_exporter": "python",
   "pygments_lexer": "ipython3",
   "version": "3.10.8"
  }
 },
 "nbformat": 4,
 "nbformat_minor": 5
}

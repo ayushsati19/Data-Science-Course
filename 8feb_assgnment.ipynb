{
 "cells": [
  {
   "cell_type": "markdown",
   "id": "a8506a29-5fab-45c4-a986-714112a08ef4",
   "metadata": {},
   "source": [
    "#### Q1. What is Abstraction in OOps? Explain with an example."
   ]
  },
  {
   "cell_type": "markdown",
   "id": "fd8b5cd7-1240-47d2-8787-20049f04dbf6",
   "metadata": {},
   "source": [
    "#### Ans:- \n",
    "Abstraction is one of the fundamental concepts in Object-Oriented Programming (OOPs) that refers to the act of hiding the implementation details of a class while showing only the necessary information to the user. Abstraction allows developers to focus on what an object does instead of how it does it, which makes code more modular, flexible, and easier to maintain.\n",
    "\n",
    "Abstraction is typically achieved in OOPs through abstract classes and interfaces. An abstract class is a class that cannot be instantiated but can be subclassed. It can contain abstract methods, which are methods that have no implementation and are declared only with their signature. Any subclass of the abstract class must provide an implementation for these methods."
   ]
  },
  {
   "cell_type": "code",
   "execution_count": 3,
   "id": "98af930a-2fd6-44da-b273-af28a1af5bb0",
   "metadata": {},
   "outputs": [
    {
     "name": "stdout",
     "output_type": "stream",
     "text": [
      "50\n",
      "153.86\n"
     ]
    }
   ],
   "source": [
    "from abc import ABC, abstractmethod\n",
    "\n",
    "class Shape(ABC):\n",
    "    @abstractmethod\n",
    "    def area(self):\n",
    "        pass\n",
    "\n",
    "class Rectangle(Shape):\n",
    "    def __init__(self, length, breadth):\n",
    "        self.length = length\n",
    "        self.breadth = breadth\n",
    "    \n",
    "    def area(self):\n",
    "        return self.length * self.breadth\n",
    "\n",
    "class Circle(Shape):\n",
    "    def __init__(self, radius):\n",
    "        self.radius = radius\n",
    "    \n",
    "    def area(self):\n",
    "        return 3.14 * self.radius * self.radius\n",
    "\n",
    "rect = Rectangle(5, 10)\n",
    "circ = Circle(7)\n",
    "print(rect.area()) # Output: 50\n",
    "print(circ.area()) # Output: 153.86"
   ]
  },
  {
   "cell_type": "markdown",
   "id": "b9101629-ef48-4251-923a-5969eccebc92",
   "metadata": {},
   "source": [
    "#### Q2. Differentiate between Abstraction and Encapsulation. Explain with an example."
   ]
  },
  {
   "cell_type": "markdown",
   "id": "eab1d390-0df7-4657-8c49-7cb59b728940",
   "metadata": {},
   "source": [
    "#### Ans:-\n",
    "Abstraction and encapsulation are two important concepts in Object-Oriented Programming (OOPs). Although they are related, they are distinct concepts that serve different purposes.\n",
    "\n",
    "Abstraction refers to the process of hiding the implementation details of a class while showing only the necessary information to the user. It allows developers to focus on what an object does instead of how it does it, which makes code more modular, flexible, and easier to maintain. Abstraction is typically achieved in OOPs through abstract classes and interfaces.\n",
    "\n",
    "Encapsulation, on the other hand, refers to the process of wrapping data and code into a single unit (i.e., class) and restricting access to the internal details of the class from outside the class. Encapsulation helps to maintain the integrity of data by preventing unauthorized access and modification.\n",
    "\n",
    "Here's an example that illustrates the difference between abstraction and encapsulation:"
   ]
  },
  {
   "cell_type": "code",
   "execution_count": 5,
   "id": "32e7a5bc-5e8a-4a90-8150-f6fb0d279a5f",
   "metadata": {},
   "outputs": [
    {
     "name": "stdout",
     "output_type": "stream",
     "text": [
      "Rectangle Area: 50\n"
     ]
    }
   ],
   "source": [
    "from abc import ABC, abstractmethod\n",
    "\n",
    "# Abstract class that defines an abstract method called 'area'\n",
    "class Shape(ABC):\n",
    "    @abstractmethod\n",
    "    def area(self):\n",
    "        pass\n",
    "\n",
    "# Concrete class that extends the Shape class and implements the 'area' method\n",
    "class Rectangle(Shape):\n",
    "    def __init__(self, length, breadth):\n",
    "        # Private instance variables that are encapsulated and can only be accessed from within the class\n",
    "        self.__length = length\n",
    "        self.__breadth = breadth\n",
    "    \n",
    "    def area(self):\n",
    "        # Implementation of the 'area' method\n",
    "        return self.__length * self.__breadth\n",
    "\n",
    "# Class that contains the main method to run the program\n",
    "class Main:\n",
    "    def main(self):\n",
    "        # Create an instance of the Rectangle class\n",
    "        rect = Rectangle(5, 10)\n",
    "        # Call the 'area' method on the Rectangle instance to calculate its area\n",
    "        area = rect.area()\n",
    "        # Print the calculated area to the console\n",
    "        print(\"Rectangle Area:\", area)\n",
    "\n",
    "# Check if the code is being run as the main program, and if so, create an instance of the Main class and call its 'main' method\n",
    "if __name__ == \"__main__\":\n",
    "    m = Main()\n",
    "    m.main()\n"
   ]
  },
  {
   "cell_type": "markdown",
   "id": "a1952755-c922-4296-9ec2-0583c909113d",
   "metadata": {},
   "source": [
    "#### Q3. What is abc module in python? Why is it used?"
   ]
  },
  {
   "cell_type": "markdown",
   "id": "2b7c6080-211e-49a9-959a-4adcdeee4a05",
   "metadata": {},
   "source": [
    "#### Ans:-\n",
    "The abc module in Python stands for Abstract Base Classes. It provides the infrastructure for defining abstract base classes (ABCs) in Python. An abstract base class is a class that cannot be instantiated directly, but can be subclassed by concrete classes. It defines the abstract methods that concrete subclasses must implement.\n",
    "\n",
    "The abc module provides a way to define ABCs and enforce their implementation by concrete subclasses. It includes the ABC class that can be subclassed to create an ABC, as well as other classes and functions that support the definition and use of ABCs.\n",
    "\n",
    "Here are some key benefits of using the abc module in Python:\n",
    "\n",
    "1. Provides a way to define a common interface for a group of related classes.\n",
    "2. Enforces the implementation of abstract methods by concrete subclasses.\n",
    "3. Helps to prevent errors and improve code reliability by providing a standardized interface for related classes."
   ]
  },
  {
   "cell_type": "markdown",
   "id": "e922877f-aaee-40e8-a151-e734892a0f9f",
   "metadata": {},
   "source": [
    "#### Q4. How can we achieve data abstraction?"
   ]
  },
  {
   "cell_type": "markdown",
   "id": "377c5eca-d393-4c6e-9d17-a9bd67753381",
   "metadata": {},
   "source": [
    "We can achieve data abstraction in object-oriented programming by using abstract classes, interfaces, and access modifiers to hide implementation details and expose only relevant information.\n",
    "\n",
    "Here are some ways to achieve data abstraction in Python:\n",
    "\n",
    "Abstract classes: We can define abstract classes using the abc module in Python, which allows us to define abstract methods that must be implemented by subclasses. Abstract classes provide a way to define a common interface for a group of related classes without providing a default implementation.\n",
    "\n",
    "Interfaces: Python doesn't have built-in support for interfaces, but we can achieve the same effect by using abstract classes with no implementation code. Interfaces provide a way to define a set of methods that must be implemented by a class to be considered a valid implementation of the interface.\n",
    "\n",
    "Access modifiers: Python uses underscores (_) to indicate access modifiers for variables and methods. By convention, a single underscore indicates that a variable or method is intended to be used only within the class or module where it is defined, while a double underscore (__) indicates that a variable or method is \"private\" and cannot be accessed outside the class where it is defined. This helps to hide implementation details and prevent outside code from modifying the internal state of the object.\n",
    "\n",
    "By using these techniques, we can achieve data abstraction in Python and create classes that expose only relevant information and hide implementation details. This helps to make our code more modular, reusable, and easier to maintain over time."
   ]
  },
  {
   "cell_type": "markdown",
   "id": "09a620b6-8799-47f1-a092-253e4872b27b",
   "metadata": {},
   "source": [
    "#### Q5. Can we create an instance of an abstract class? Explain your answer."
   ]
  },
  {
   "cell_type": "markdown",
   "id": "1d9620b3-22ac-4607-baa2-9888ec5d1158",
   "metadata": {},
   "source": [
    "No, we cannot create an instance of an abstract class in Python. An abstract class is a class that contains one or more abstract methods, which are methods that are declared but have no implementation. An abstract class is meant to be subclassed, and the subclass must implement all the abstract methods of the abstract class.\n",
    "\n",
    "Attempting to create an instance of an abstract class will result in a TypeError being raised with the message \"Can't instantiate abstract class <ClassName> with abstract methods <method1>, <method2>, ...\". This error occurs because an abstract class is not meant to be instantiated directly; it is only meant to serve as a blueprint for creating concrete subclasses."
   ]
  },
  {
   "cell_type": "code",
   "execution_count": 6,
   "id": "d5fb8113-b6ad-4370-8cb4-2f996d35a612",
   "metadata": {},
   "outputs": [
    {
     "name": "stdout",
     "output_type": "stream",
     "text": [
      "Rectangle Area: 50\n"
     ]
    },
    {
     "ename": "TypeError",
     "evalue": "Can't instantiate abstract class Shape with abstract method area",
     "output_type": "error",
     "traceback": [
      "\u001b[0;31m---------------------------------------------------------------------------\u001b[0m",
      "\u001b[0;31mTypeError\u001b[0m                                 Traceback (most recent call last)",
      "Cell \u001b[0;32mIn[6], line 19\u001b[0m\n\u001b[1;32m     16\u001b[0m rect \u001b[38;5;241m=\u001b[39m Rectangle(\u001b[38;5;241m5\u001b[39m, \u001b[38;5;241m10\u001b[39m)\n\u001b[1;32m     17\u001b[0m \u001b[38;5;28mprint\u001b[39m(\u001b[38;5;124m\"\u001b[39m\u001b[38;5;124mRectangle Area:\u001b[39m\u001b[38;5;124m\"\u001b[39m, rect\u001b[38;5;241m.\u001b[39marea())\n\u001b[0;32m---> 19\u001b[0m shape \u001b[38;5;241m=\u001b[39m \u001b[43mShape\u001b[49m\u001b[43m(\u001b[49m\u001b[43m)\u001b[49m  \u001b[38;5;66;03m# This line will raise a TypeError\u001b[39;00m\n",
      "\u001b[0;31mTypeError\u001b[0m: Can't instantiate abstract class Shape with abstract method area"
     ]
    }
   ],
   "source": [
    "from abc import ABC, abstractmethod\n",
    "\n",
    "class Shape(ABC):\n",
    "    @abstractmethod\n",
    "    def area(self):\n",
    "        pass\n",
    "\n",
    "class Rectangle(Shape):\n",
    "    def __init__(self, length, width):\n",
    "        self.length = length\n",
    "        self.width = width\n",
    "\n",
    "    def area(self):\n",
    "        return self.length * self.width\n",
    "\n",
    "rect = Rectangle(5, 10)\n",
    "print(\"Rectangle Area:\", rect.area())\n",
    "\n",
    "shape = Shape()  # This line will raise a TypeError\n"
   ]
  },
  {
   "cell_type": "markdown",
   "id": "5ba744f8-26b4-47f7-bbb2-185ec1d9b348",
   "metadata": {},
   "source": [
    "In this example, we define an abstract class called Shape with an abstract method called area, and a concrete subclass called Rectangle that implements the area method. We then create an instance of the Rectangle class and call its area method to calculate its area.\n",
    "\n",
    "However, when we try to create an instance of the Shape class, we get a TypeError because Shape is an abstract class and cannot be instantiated directly.\n",
    "\n",
    "In summary, we cannot create an instance of an abstract class in Python because it is not meant to be instantiated directly; it is only meant to serve as a blueprint for creating concrete subclasses."
   ]
  },
  {
   "cell_type": "code",
   "execution_count": null,
   "id": "09046e51-c991-4be8-b1b2-105a27aec06a",
   "metadata": {},
   "outputs": [],
   "source": []
  },
  {
   "cell_type": "code",
   "execution_count": null,
   "id": "13a923cb-4347-459e-9089-6d4aa0b78606",
   "metadata": {},
   "outputs": [],
   "source": []
  }
 ],
 "metadata": {
  "kernelspec": {
   "display_name": "Python 3 (ipykernel)",
   "language": "python",
   "name": "python3"
  },
  "language_info": {
   "codemirror_mode": {
    "name": "ipython",
    "version": 3
   },
   "file_extension": ".py",
   "mimetype": "text/x-python",
   "name": "python",
   "nbconvert_exporter": "python",
   "pygments_lexer": "ipython3",
   "version": "3.10.8"
  }
 },
 "nbformat": 4,
 "nbformat_minor": 5
}

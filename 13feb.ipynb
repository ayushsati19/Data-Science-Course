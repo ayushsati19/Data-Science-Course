{
 "cells": [
  {
   "cell_type": "markdown",
   "id": "fb90c3c4-becb-41e4-825b-c6a6da0fc71a",
   "metadata": {},
   "source": [
    "#### Q1. Explain why we have to use the Exception class while creating a Custom Exception.\n",
    "Note: Here Exception class refers to the base class for all the exceptions."
   ]
  },
  {
   "cell_type": "markdown",
   "id": "caeaa2ba-bde4-4732-a3a1-4d3dbfd77040",
   "metadata": {},
   "source": [
    "When creating a custom exception in Python, we typically inherit from the base Exception class. This is because the Exception class provides a lot of functionality that is useful for handling and raising exceptions.\n",
    "\n",
    "When we inherit from the Exception class, our custom exception class automatically inherits a lot of useful methods and attributes, such as __str__ (to convert the exception to a string), args (to access the arguments passed to the exception), and with_traceback (to add a traceback to the exception).\n",
    "\n",
    "In addition, by inheriting from the Exception class, our custom exception class is automatically compatible with all the built-in exception handling mechanisms in Python. For example, we can catch our custom exception using a try/except block just like any other exception.\n",
    "\n",
    "Here's an example of a custom exception that inherits from the Exception class:"
   ]
  },
  {
   "cell_type": "code",
   "execution_count": 1,
   "id": "a75b9ef5-888c-4a56-af16-487d3c095196",
   "metadata": {},
   "outputs": [],
   "source": [
    "class MyCustomException(Exception):\n",
    "    pass\n"
   ]
  },
  {
   "cell_type": "markdown",
   "id": "42fa6e57-e77e-4087-8765-af8b43923121",
   "metadata": {},
   "source": [
    "In this example, we define a custom exception called MyCustomException that simply inherits from the Exception class. This means that our custom exception class has all the functionality of the base Exception class, including the ability to handle and raise exceptions in a standardized way."
   ]
  },
  {
   "cell_type": "markdown",
   "id": "30799831-eea3-4dee-aca2-8a326edfb2d7",
   "metadata": {},
   "source": [
    "#### Q2. Write a python program to print Python Exception Hierarchy."
   ]
  },
  {
   "cell_type": "code",
   "execution_count": 3,
   "id": "3a06a4b1-4366-440f-b79b-bfa2551015f0",
   "metadata": {},
   "outputs": [],
   "source": [
    "def print_exception_hierarchy(exception_class, indent=0):\n",
    "    print(' ' * indent + exception_class.__name__)\n",
    "    for subclass in exception_class.__subclasses__():\n",
    "        print_exception_hierarchy(subclass, indent + 4)\n",
    "print_exception_hierarchy(BaseException)\n"
   ]
  },
  {
   "cell_type": "markdown",
   "id": "56441de3-05df-441a-bd56-be057df21072",
   "metadata": {},
   "source": [
    "#### Q3. What errors are defined in the ArithmeticError class? Explain any two with an example."
   ]
  },
  {
   "cell_type": "markdown",
   "id": "077a54e3-cb23-48ea-962f-7b15c498555a",
   "metadata": {},
   "source": [
    "In Python, the ArithmeticError class is a base class for all arithmetic errors. It has several subclasses that represent specific types of arithmetic errors."
   ]
  },
  {
   "cell_type": "markdown",
   "id": "544e66bc-992c-42a5-b475-f52d1f1f6b36",
   "metadata": {},
   "source": [
    "1. ZeroDivisionError: This error occurs when you try to divide a number by zero."
   ]
  },
  {
   "cell_type": "code",
   "execution_count": 5,
   "id": "61757e2f-7865-4e62-81df-46d63f95cb46",
   "metadata": {},
   "outputs": [
    {
     "name": "stdout",
     "output_type": "stream",
     "text": [
      "Error: division by zero\n"
     ]
    }
   ],
   "source": [
    "a = 10\n",
    "b = 0\n",
    "try:\n",
    "    result = a / b\n",
    "except ZeroDivisionError:\n",
    "    print(\"Error: division by zero\")\n"
   ]
  },
  {
   "cell_type": "markdown",
   "id": "8fb8ea0d-df32-4d7d-98b2-9e5bd4b008f9",
   "metadata": {},
   "source": [
    "2. OverflowError: This error occurs when you try to perform an arithmetic operation that results in a number that is too large to be represented in the computer's memory."
   ]
  },
  {
   "cell_type": "code",
   "execution_count": 6,
   "id": "984ae108-0275-497c-8b85-684b9513d5c5",
   "metadata": {},
   "outputs": [],
   "source": [
    "import sys\n",
    "a = sys.maxsize  # maximum integer value on this system\n",
    "try:\n",
    "    result = a * a\n",
    "except OverflowError:\n",
    "    print(\"Error: integer overflow\")\n"
   ]
  },
  {
   "cell_type": "markdown",
   "id": "0cfaef10-a204-441b-a984-8e36624088da",
   "metadata": {},
   "source": [
    "#### Q4. Why LookupError class is used? Explain with an example KeyError and IndexError."
   ]
  },
  {
   "cell_type": "markdown",
   "id": "f2a454b0-9bc9-43af-a226-5a5df7717541",
   "metadata": {},
   "source": [
    "The LookupError class is a base class for all lookup errors. It is used when you try to access an index or a key that does not exist in a sequence or a dictionary. "
   ]
  },
  {
   "cell_type": "markdown",
   "id": "88fe2cb7-8811-497f-8286-a78dfb6e37d9",
   "metadata": {},
   "source": [
    "KeyError: This error occurs when you try to access a key that does not exist in a dictionary."
   ]
  },
  {
   "cell_type": "code",
   "execution_count": 7,
   "id": "6d734c0b-8a62-4a33-bd36-59aa122e6615",
   "metadata": {},
   "outputs": [
    {
     "name": "stdout",
     "output_type": "stream",
     "text": [
      "Error: key not found\n"
     ]
    }
   ],
   "source": [
    "d = {'a': 1, 'b': 2, 'c': 3}\n",
    "try:\n",
    "    value = d['d']\n",
    "except KeyError:\n",
    "    print(\"Error: key not found\")\n"
   ]
  },
  {
   "cell_type": "markdown",
   "id": "02b35cfa-7b27-4d2c-bffa-6737360e8751",
   "metadata": {},
   "source": [
    "IndexError: This error occurs when you try to access an index that is out of bounds in a sequence."
   ]
  },
  {
   "cell_type": "code",
   "execution_count": 8,
   "id": "fefc9b61-2aaf-408f-9dd2-8bc1a443bf04",
   "metadata": {},
   "outputs": [
    {
     "name": "stdout",
     "output_type": "stream",
     "text": [
      "Error: index out of range\n"
     ]
    }
   ],
   "source": [
    "lst = [1, 2, 3]\n",
    "try:\n",
    "    value = lst[3]\n",
    "except IndexError:\n",
    "    print(\"Error: index out of range\")\n"
   ]
  },
  {
   "cell_type": "markdown",
   "id": "3b8189aa-cc79-4277-a05b-49a74d056195",
   "metadata": {},
   "source": [
    "#### Q5. Explain ImportError. What is ModuleNotFoundError?"
   ]
  },
  {
   "cell_type": "markdown",
   "id": "70342e7b-99ae-425e-87dc-85074466c9aa",
   "metadata": {},
   "source": [
    "ImportError is an exception that is raised when a module, package, or object cannot be imported. It can be raised in several situations, such as when a module is not found, when there is a syntax error in the module, or when a required module is not installed.\n",
    "\n",
    "ModuleNotFoundError is a subclass of ImportError that is raised specifically when a module is not found. It was introduced in Python 3.6 as a more specific error message for cases when a module is not found."
   ]
  },
  {
   "cell_type": "code",
   "execution_count": 9,
   "id": "b24f7ba8-2e7a-4902-bf33-a2a352fd25d5",
   "metadata": {},
   "outputs": [
    {
     "name": "stdout",
     "output_type": "stream",
     "text": [
      "Error importing module: No module named 'my_module'\n"
     ]
    }
   ],
   "source": [
    "try:\n",
    "    import my_module\n",
    "except ImportError as e:\n",
    "    print(f\"Error importing module: {e}\")\n"
   ]
  },
  {
   "cell_type": "code",
   "execution_count": 10,
   "id": "fda37a96-3926-4c13-9d4a-6e4adbe262d5",
   "metadata": {},
   "outputs": [
    {
     "name": "stdout",
     "output_type": "stream",
     "text": [
      "Error importing module: No module named 'my_module'\n"
     ]
    }
   ],
   "source": [
    "try:\n",
    "    import my_module\n",
    "except ModuleNotFoundError as e:\n",
    "    print(f\"Error importing module: {e}\")\n"
   ]
  },
  {
   "cell_type": "markdown",
   "id": "86ffd0a9-cf82-4479-8f81-3150c1ed592f",
   "metadata": {},
   "source": [
    "#### Q6. List down some best practices for exception handling in python."
   ]
  },
  {
   "cell_type": "markdown",
   "id": "d0134096-188b-4ffd-8221-005b9b9f0407",
   "metadata": {},
   "source": [
    "Here are some best practices for exception handling in Python:\n",
    "\n",
    "1. Use built-in exceptions: Whenever possible, use the built-in exceptions provided by Python rather than creating custom exceptions. This makes your code more readable and easier to understand for other developers.\n",
    "\n",
    "2. Catch specific exceptions: Catch only those exceptions that you can handle. Catching a broad exception such as Exception or BaseException can hide errors and make debugging more difficult.\n",
    "\n",
    "3. Use try-except-finally blocks: Use try-except-finally blocks to handle exceptions. The finally block is executed regardless of whether an exception is raised or not, and is useful for cleanup tasks such as closing files or releasing resources.\n",
    "\n",
    "4. Don't use bare except clauses: Avoid using bare except clauses, which catch all exceptions without specifying which ones. Instead, catch only the specific exceptions that you expect to be raised.\n",
    "\n",
    "5. Provide helpful error messages: Provide meaningful error messages when an exception is raised. This can help developers understand what went wrong and how to fix it.\n",
    "\n",
    "6. Use logging: Use the Python logging module to log exceptions and errors. This makes it easier to debug and maintain your code, especially in larger applications.\n",
    "\n",
    "7. Raise exceptions when necessary: Raise exceptions when necessary, such as when a function or method cannot complete its task. This allows the caller to handle the exception appropriately.\n",
    "\n",
    "8. Keep exception handling separate: Keep exception handling separate from the main code logic. This makes it easier to read and understand the main code, and also makes it easier to modify or update the exception handling code.\n",
    "\n",
    "9. Test exception handling: Test exception handling code to ensure that it behaves as expected in different scenarios, such as when invalid input is provided or when external resources are unavailable.\n",
    "\n",
    "10. Document exception handling: Document your exception handling code, including the types of exceptions that can be raised and how they should be handled. This makes it easier for other developers to understand and maintain your code."
   ]
  }
 ],
 "metadata": {
  "kernelspec": {
   "display_name": "Python 3 (ipykernel)",
   "language": "python",
   "name": "python3"
  },
  "language_info": {
   "codemirror_mode": {
    "name": "ipython",
    "version": 3
   },
   "file_extension": ".py",
   "mimetype": "text/x-python",
   "name": "python",
   "nbconvert_exporter": "python",
   "pygments_lexer": "ipython3",
   "version": "3.10.8"
  }
 },
 "nbformat": 4,
 "nbformat_minor": 5
}

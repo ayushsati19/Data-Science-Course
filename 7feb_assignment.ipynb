{
 "cells": [
  {
   "cell_type": "markdown",
   "id": "e5162d25-231d-40ea-9456-1ec0fa9a70d9",
   "metadata": {},
   "source": [
    "#### Q1. You are writing code for a company. The requirement of the company is that you create a python function that will check whether the password entered by the user is correct or not. The function should take the password as input and return the string “Valid Password” if the entered password follows the below-given password guidelines else it should return “Invalid Password”.\n",
    "Note: 1. The Password should contain at least two uppercase letters and at least two lowercase letters.\n",
    "2. The Password should contain at least a number and three special characters.\n",
    "3. The length of the password should be 10 characters long."
   ]
  },
  {
   "cell_type": "code",
   "execution_count": 1,
   "id": "6f9ea936-1cf6-4555-96b7-e5ee1693dc4e",
   "metadata": {},
   "outputs": [],
   "source": [
    "def check_password(password):\n",
    "    # Check if the password is 10 characters long\n",
    "    if len(password) != 10:\n",
    "        return \"Invalid Password\"\n",
    "    \n",
    "    # Check if the password contains at least two uppercase letters and at least two lowercase letters\n",
    "    uppercase_letters = 0\n",
    "    lowercase_letters = 0\n",
    "    for char in password:\n",
    "        if char.isupper():\n",
    "            uppercase_letters += 1\n",
    "        elif char.islower():\n",
    "            lowercase_letters += 1\n",
    "    if uppercase_letters < 2 or lowercase_letters < 2:\n",
    "        return \"Invalid Password\"\n",
    "    \n",
    "    # Check if the password contains at least a number and three special characters\n",
    "    numbers = 0\n",
    "    special_characters = 0\n",
    "    for char in password:\n",
    "        if char.isdigit():\n",
    "            numbers += 1\n",
    "        elif char in \"!@#$%^&*()_+-={}[]|\\:;\\\"'<>,.?/\":\n",
    "            special_characters += 1\n",
    "    if numbers < 1 or special_characters < 3:\n",
    "        return \"Invalid Password\"\n",
    "    \n",
    "    return \"Valid Password\""
   ]
  },
  {
   "cell_type": "code",
   "execution_count": 5,
   "id": "86659c2f-9542-4d4a-a6a4-d72fb268a2d2",
   "metadata": {},
   "outputs": [
    {
     "name": "stdin",
     "output_type": "stream",
     "text": [
      "Enter the password  aayuisj#d\n"
     ]
    },
    {
     "name": "stdout",
     "output_type": "stream",
     "text": [
      "Invalid Password\n"
     ]
    }
   ],
   "source": [
    "password=input(\"Enter the password \")\n",
    "print(check_password(password))"
   ]
  },
  {
   "cell_type": "markdown",
   "id": "1e3c1552-dcee-4d0f-9d0d-0a7922402b98",
   "metadata": {},
   "source": [
    "#### Q2. Solve the below-given questions using at least one of the following:\n",
    "1. Lambda function\n",
    "2. Filter function\n",
    "3. Zap function\n",
    "4. List Comprehension\n",
    "###### Check if the string starts with a particular letter-'Y'\n",
    "###### Check if the string is numeric.\n",
    "###### Sort a list of tuples having fruit names and their quantity. [(\"mango\",99),(\"orange\",80), (\"grapes\", 1000)]\n",
    "###### Find the squares of numbers from 1 to 10.\n",
    "###### Find the cube root of numbers from 1 to 10.\n",
    "###### Check if a given number is even.\n",
    "###### Filter odd numbers from the given list. |[1,2,3,4,5,6,7,8,9,10]\n",
    "###### Sort a list of integers into positive and negative integers lists   [1,2,3,4,5,6,-1,-2,-3,-4,-5,0]"
   ]
  },
  {
   "cell_type": "code",
   "execution_count": null,
   "id": "b52fc5ee-6fa1-49fe-9df6-dd5890a78e92",
   "metadata": {},
   "outputs": [
    {
     "name": "stdout",
     "output_type": "stream",
     "text": [
      "[False, False, True, False, True]\n"
     ]
    }
   ],
   "source": [
    "string_list = ['hello', 'world', 'yes', 'no', 'yogurt']\n",
    "# Use list comprehension to check if a string has 'y'\n",
    "result3 = [True if 'y' in x else False for x in string_list]\n",
    "print(result3)"
   ]
  },
  {
   "cell_type": "code",
   "execution_count": 13,
   "id": "77db2be5-6175-496a-97b0-6ba97191574c",
   "metadata": {},
   "outputs": [
    {
     "name": "stdout",
     "output_type": "stream",
     "text": [
      "True\n"
     ]
    }
   ],
   "source": [
    "# use list comprehension and lambda function to find if the string is numeric or not.\n",
    "my_string = \"1234\"\n",
    "\n",
    "is_numeric = all(list(map(lambda x: x.isnumeric(), my_string)))\n",
    "print(is_numeric)\n"
   ]
  },
  {
   "cell_type": "code",
   "execution_count": 15,
   "id": "d9a0d86f-0115-4716-a45b-d0c6870c2d16",
   "metadata": {},
   "outputs": [
    {
     "name": "stdout",
     "output_type": "stream",
     "text": [
      "[2, 4, 6, 8, 10]\n"
     ]
    }
   ],
   "source": [
    "# Check if a given number is even using lambba function\n",
    "num_list = [1, 2, 3, 4, 5, 6, 7, 8, 9, 10]\n",
    "result = filter(lambda x: x%2 == 0, num_list)\n",
    "print(list(result))\n"
   ]
  },
  {
   "cell_type": "code",
   "execution_count": 16,
   "id": "d512a242-752c-4383-82ea-17ccb7479fed",
   "metadata": {},
   "outputs": [
    {
     "name": "stdout",
     "output_type": "stream",
     "text": [
      "[1, 3, 5, 7, 9]\n"
     ]
    }
   ],
   "source": [
    "# Filter odd numbers from the given list.\n",
    "# Using List Comprehension:\n",
    "num_list = [1, 2, 3, 4, 5, 6, 7, 8, 9, 10]\n",
    "result = [i for i in num_list if i%2 != 0]\n",
    "print(result)\n"
   ]
  },
  {
   "cell_type": "code",
   "execution_count": 17,
   "id": "15492c04-d3af-4fe8-b138-a62a6802ef1f",
   "metadata": {},
   "outputs": [
    {
     "name": "stdout",
     "output_type": "stream",
     "text": [
      "Positive Numbers: [1, 2, 3, 4, 5, 6]\n",
      "Negative Numbers: [-1, -2, -3, -4, -5]\n"
     ]
    }
   ],
   "source": [
    "# Sort a list of integers into positive and negative integers lists. [1,2,3,4,5,6,-1,-2,-3,-4,-5,0]:\n",
    "numbers = [1, 2, 3, 4, 5, 6, -1, -2, -3, -4, -5, 0]\n",
    "\n",
    "positive_numbers = [num for num in numbers if num > 0]\n",
    "negative_numbers = [num for num in numbers if num < 0]\n",
    "\n",
    "print(\"Positive Numbers:\", positive_numbers)\n",
    "print(\"Negative Numbers:\", negative_numbers)\n"
   ]
  },
  {
   "cell_type": "code",
   "execution_count": 18,
   "id": "6fb3de98-8159-44be-8409-a712269e281c",
   "metadata": {},
   "outputs": [
    {
     "data": {
      "text/plain": [
       "[1, 4, 9, 16, 25, 36, 49, 64, 81, 100]"
      ]
     },
     "execution_count": 18,
     "metadata": {},
     "output_type": "execute_result"
    }
   ],
   "source": [
    "# Find the squares of numbers from 1 to 10.\n",
    "[i**2 for i in range(1,11)]"
   ]
  },
  {
   "cell_type": "code",
   "execution_count": 19,
   "id": "92cfc89e-4276-4f65-be18-65b620e78a9e",
   "metadata": {},
   "outputs": [
    {
     "data": {
      "text/plain": [
       "[1, 8, 27, 64, 125, 216, 343, 512, 729, 1000]"
      ]
     },
     "execution_count": 19,
     "metadata": {},
     "output_type": "execute_result"
    }
   ],
   "source": [
    "# Find the cube of numbers from 1 to 10.\n",
    "[i**3 for i in range(1,11)]"
   ]
  },
  {
   "cell_type": "code",
   "execution_count": 20,
   "id": "a39beaac-564f-44c6-8115-ff6286119aed",
   "metadata": {},
   "outputs": [
    {
     "name": "stdout",
     "output_type": "stream",
     "text": [
      "[('orange', 80), ('mango', 99), ('grapes', 1000)]\n"
     ]
    }
   ],
   "source": [
    "# B Sort a list of tuples having fruit names and their quantity.\n",
    "fruit_list = [(\"mango\", 99), (\"orange\", 80), (\"grapes\", 1000)]\n",
    "sorted_list = sorted(fruit_list, key=lambda x: x[1])\n",
    "print(sorted_list)"
   ]
  }
 ],
 "metadata": {
  "kernelspec": {
   "display_name": "Python 3 (ipykernel)",
   "language": "python",
   "name": "python3"
  },
  "language_info": {
   "codemirror_mode": {
    "name": "ipython",
    "version": 3
   },
   "file_extension": ".py",
   "mimetype": "text/x-python",
   "name": "python",
   "nbconvert_exporter": "python",
   "pygments_lexer": "ipython3",
   "version": "3.10.8"
  }
 },
 "nbformat": 4,
 "nbformat_minor": 5
}

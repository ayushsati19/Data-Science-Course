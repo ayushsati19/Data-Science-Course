{
 "cells": [
  {
   "cell_type": "markdown",
   "id": "885f80a8-cab7-4146-8300-7e58801195f8",
   "metadata": {},
   "source": [
    "#### Que 1: Name any five plots that we can plot using the Seaborn library. Also, state the uses of each plot."
   ]
  },
  {
   "cell_type": "markdown",
   "id": "868b9330-2a07-49f5-93d4-4612437b9032",
   "metadata": {},
   "source": [
    "Seaborn is a powerful visualization library built on top of Matplotlib in Python. It provides a high-level interface for drawing attractive and informative statistical graphics. Some of the popular plots that can be plotted using Seaborn are:\n",
    "\n",
    "Scatter Plot: A scatter plot is used to visualize the relationship between two continuous variables. It is useful for identifying patterns or trends in data.\n",
    "\n",
    "Line Plot: A line plot is used to visualize the trend in a continuous variable over time. It is useful for identifying trends and patterns in time-series data.\n",
    "\n",
    "Histogram: A histogram is used to visualize the distribution of a continuous variable. It is useful for identifying the shape of the distribution and the presence of outliers.\n",
    "\n",
    "Heatmap: A heatmap is used to visualize the relationship between two variables. It is useful for identifying patterns in large datasets.\n",
    "\n",
    "Bar Plot: A bar plot is used to compare categorical variables. It is useful for identifying differences in values across different categories."
   ]
  },
  {
   "cell_type": "markdown",
   "id": "1cca5ade-ac3f-4633-bf35-59d301fb4d08",
   "metadata": {},
   "source": [
    "#### Que 2: Load the \"fmri\" dataset using the load_dataset function of seaborn. Plot a line plot using x =\"timepoint\" and y = \"signal\" for different events and regions.\n",
    "#### Note: timepoint, signal, event, and region are columns in the fmri dataset."
   ]
  },
  {
   "cell_type": "code",
   "execution_count": null,
   "id": "f5c05c1e-f3fa-4041-84eb-8f08759cd103",
   "metadata": {},
   "outputs": [],
   "source": [
    "import seaborn as sns\n",
    "\n",
    "# Load the dataset\n",
    "fmri = sns.load_dataset(\"fmri\")\n",
    "\n",
    "# Create a line plot\n",
    "sns.lineplot(x=\"timepoint\", y=\"signal\", hue=\"event\", style=\"region\", data=fmri)\n",
    "\n",
    "# Set plot title and axes labels\n",
    "sns.set_style(\"darkgrid\")\n",
    "plot.title(\"FMRI signal over time by event and region\")\n",
    "plot.xlabel(\"Timepoint\")\n",
    "plot.ylabel(\"Signal\")\n",
    "\n",
    "# Show the plot\n",
    "plot.show()\n"
   ]
  },
  {
   "cell_type": "markdown",
   "id": "621691b2-fec7-44f6-a5f5-5b098f5a87e3",
   "metadata": {},
   "source": [
    "#### Que 3: Load the \"titanic\" dataset using the load_dataset function of seaborn. Plot two box plots using x ='pclass', y = 'age' and y = 'fare'.\n",
    "##### Note: pclass, age, and fare are columns in the titanic dataset."
   ]
  },
  {
   "cell_type": "code",
   "execution_count": null,
   "id": "290979d2-e10b-451a-9e5a-6b5b18086bbd",
   "metadata": {},
   "outputs": [],
   "source": [
    "import seaborn as sns\n",
    "\n",
    "# Load the titanic dataset\n",
    "titanic = sns.load_dataset('titanic')\n",
    "\n",
    "# Plot box plot for age\n",
    "sns.boxplot(x='pclass', y='age', data=titanic)\n",
    "\n",
    "# Plot box plot for fare\n",
    "sns.boxplot(x='pclass', y='fare', data=titanic)"
   ]
  },
  {
   "cell_type": "markdown",
   "id": "11482550-a5e3-41fa-9edb-45c6728474e2",
   "metadata": {},
   "source": [
    "#### Que 4: Use the \"diamonds\" dataset from seaborn to plot a histogram for the 'price' column. Use the hue parameter for the 'cut' column of the diamonds dataset."
   ]
  },
  {
   "cell_type": "code",
   "execution_count": null,
   "id": "41e06f21-3558-480d-80fc-57a2dc5550a1",
   "metadata": {},
   "outputs": [],
   "source": [
    "import seaborn as sns\n",
    "\n",
    "diamonds = sns.load_dataset('diamonds')\n",
    "\n",
    "sns.histplot(data=diamonds, x='price', hue='cut', multiple='stack')"
   ]
  },
  {
   "cell_type": "markdown",
   "id": "853d534d-53e7-4b5d-bdff-a00585d5be51",
   "metadata": {},
   "source": [
    "#### Que 5: Use the \"iris\" dataset from seaborn to plot a pair plot. Use the hue parameter for the \"species\" column of the iris dataset."
   ]
  },
  {
   "cell_type": "code",
   "execution_count": null,
   "id": "0c4c1016-a83b-4f73-80d9-006d25b6e983",
   "metadata": {},
   "outputs": [],
   "source": [
    "import seaborn as sns\n",
    "\n",
    "iris = sns.load_dataset('iris')\n",
    "sns.pairplot(data=iris, hue='species')"
   ]
  }
 ],
 "metadata": {
  "kernelspec": {
   "display_name": "Python 3 (ipykernel)",
   "language": "python",
   "name": "python3"
  },
  "language_info": {
   "codemirror_mode": {
    "name": "ipython",
    "version": 3
   },
   "file_extension": ".py",
   "mimetype": "text/x-python",
   "name": "python",
   "nbconvert_exporter": "python",
   "pygments_lexer": "ipython3",
   "version": "3.10.8"
  }
 },
 "nbformat": 4,
 "nbformat_minor": 5
}

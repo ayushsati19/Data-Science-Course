{
 "cells": [
  {
   "cell_type": "markdown",
   "id": "3638c7dd-01b9-488b-ba00-7c82c1fd5c75",
   "metadata": {},
   "source": [
    "#### Q1. How can you create a Bokeh plot using Python code?"
   ]
  },
  {
   "cell_type": "code",
   "execution_count": 1,
   "id": "7b1e218a-857a-4729-a46d-08328732d813",
   "metadata": {},
   "outputs": [],
   "source": [
    "# import libraries\n",
    "from bokeh.plotting import figure, output_file, show\n",
    "\n",
    "# create data\n",
    "x = [1, 2, 3, 4, 5]\n",
    "y = [6, 7, 2, 4, 5]\n",
    "\n",
    "# specify output file name\n",
    "output_file(\"line.html\")\n",
    "\n",
    "# create a new plot with a title and axis labels\n",
    "p = figure(title=\"Simple Line Plot\", x_axis_label='x', y_axis_label='y')\n",
    "\n",
    "# add a line renderer with legend and line thickness\n",
    "p.line(x, y, legend_label=\"Line\", line_width=2)\n",
    "\n",
    "# show the plot\n",
    "show(p)\n"
   ]
  },
  {
   "cell_type": "markdown",
   "id": "f818d1b7-dad4-47d4-b146-065f78e0f651",
   "metadata": {},
   "source": [
    "#### Q2.What are glyphs in Bokeh, and how can you add them to a Bokeh plot? Explain with an example."
   ]
  },
  {
   "cell_type": "markdown",
   "id": "98e49550-35ed-4b5f-9c84-f3729e30b0a7",
   "metadata": {},
   "source": [
    "In Bokeh, glyphs are the basic building blocks of a plot. They are visual shapes such as circles, rectangles, lines, etc., that represent data points."
   ]
  },
  {
   "cell_type": "raw",
   "id": "68a56ff5-3834-4a26-ae2e-77127176fd10",
   "metadata": {},
   "source": [
    "# import necessary libraries\n",
    "from bokeh.plotting import figure, output_file, show\n",
    "from bokeh.models import ColumnDataSource\n",
    "\n",
    "# create data\n",
    "x = [1, 2, 3, 4, 5]\n",
    "y = [6, 7, 2, 4, 5]\n",
    "colors = ['red', 'green', 'blue', 'orange', 'purple']\n",
    "sizes = [10, 20, 30, 40, 50]\n",
    "\n",
    "# create a ColumnDataSource object\n",
    "source = ColumnDataSource(data=dict(x=x, y=y, colors=colors, sizes=sizes))\n",
    "\n",
    "# specify output file name\n",
    "output_file(\"glyphs.html\")\n",
    "\n",
    "# create a new plot with a title and axis labels\n",
    "p = figure(title=\"Glyphs Plot\", x_axis_label='x', y_axis_label='y')\n",
    "\n",
    "# add circle glyphs with colors and sizes from the data source\n",
    "p.circle(x='x', y='y', size='sizes', fill_color='colors', line_color='black', source=source)\n",
    "\n",
    "# show the plot\n",
    "show(p)\n"
   ]
  },
  {
   "cell_type": "markdown",
   "id": "90816fad-cdac-40ed-a553-07e1ee4f41b0",
   "metadata": {},
   "source": [
    "This will create a plot with circle glyphs, each with a different size and color, representing the data points. You can customize the glyphs further by adjusting their size, color, shape, and other properties using various Bokeh methods and attributes."
   ]
  },
  {
   "cell_type": "markdown",
   "id": "5e5f9f63-5f5f-44bc-aa3c-3fa8f5073d9a",
   "metadata": {},
   "source": [
    "#### Q3. How can you customize the appearance of a Bokeh plot, including the axes, title, and legend?"
   ]
  },
  {
   "cell_type": "markdown",
   "id": "d6972bc7-45ae-4c6d-b006-cbdfa731e1a0",
   "metadata": {},
   "source": [
    "Customize the axis labels:"
   ]
  },
  {
   "cell_type": "code",
   "execution_count": null,
   "id": "1858da36-c400-4cc5-a28d-4c699d345ec6",
   "metadata": {},
   "outputs": [],
   "source": [
    "# create a new plot with customized axis labels\n",
    "p = figure(title=\"Customized Axis Labels\")\n",
    "p.xaxis.axis_label = \"Custom X Label\"\n",
    "p.yaxis.axis_label = \"Custom Y Label\""
   ]
  },
  {
   "cell_type": "markdown",
   "id": "d61062d7-5209-47ee-b0d1-23de0b713fdc",
   "metadata": {},
   "source": [
    "Customize the plot title:"
   ]
  },
  {
   "cell_type": "markdown",
   "id": "274f4c64-8bbb-426d-a829-6086741bddbd",
   "metadata": {},
   "source": [
    "# create a new plot with a customized title\n",
    "p = figure(title=\"Customized Title\")\n",
    "p.title.text = \"Custom Plot Title\"\n",
    "p.title.text_font_size = \"20pt\"\n",
    "p.title.align = \"center\""
   ]
  },
  {
   "cell_type": "markdown",
   "id": "9a670c92-41cf-4d0e-b91e-2c95d332712e",
   "metadata": {},
   "source": [
    "Customize the legend:"
   ]
  },
  {
   "cell_type": "code",
   "execution_count": null,
   "id": "82040cb1-dc51-4707-a5ff-e2091930be2b",
   "metadata": {},
   "outputs": [],
   "source": [
    "# create a new plot with a legend\n",
    "p = figure(title=\"Customized Legend\")\n",
    "p.line(x, y, legend_label=\"Line 1\")\n",
    "p.line(x, y2, legend_label=\"Line 2\")\n",
    "p.legend.location = \"top_left\"\n",
    "p.legend.label_text_font_size = \"12pt\""
   ]
  },
  {
   "cell_type": "markdown",
   "id": "c2718462-34c2-4a1d-bbc5-a3e5e0535d61",
   "metadata": {},
   "source": [
    "Customize the background and grid lines:"
   ]
  },
  {
   "cell_type": "code",
   "execution_count": null,
   "id": "a805b34e-14ec-4261-bd45-58a67bceaae8",
   "metadata": {},
   "outputs": [],
   "source": [
    "# create a new plot with a customized background and grid lines\n",
    "p = figure(title=\"Customized Background and Grid Lines\", sizing_mode=\"stretch_both\")\n",
    "p.background_fill_color = \"#f2f2f2\"\n",
    "p.grid.grid_line_color = \"white\"\n",
    "p.grid.grid_line_alpha = 0.5"
   ]
  },
  {
   "cell_type": "markdown",
   "id": "d7af7d75-f022-4093-bff8-421f9bfcb5f5",
   "metadata": {},
   "source": [
    "#### Q4. What is a Bokeh server, and how can you use it to create interactive plots that can be updated in real time?"
   ]
  },
  {
   "cell_type": "markdown",
   "id": "8919ff2b-a628-4dd0-9040-63496059ba6f",
   "metadata": {},
   "source": [
    "A Bokeh server is a Python program that allows us to create interactive web applications with Bokeh plots that can be updated in real time. With the Bokeh server, we can create interactive plots that respond to user input, such as button clicks, sliders, and dropdown menus, and update the plots dynamically without having to reload the web page.\n",
    "\n",
    "To use the Bokeh server, we first need to create a Bokeh plot and define the interactive elements that we want to include in our web application. We can then run the Bokeh server program, which will host the web application and serve the Bokeh plot to the web browser. The web application communicates with the Bokeh server using web sockets, which allow for real-time updates of the plot based on user input."
   ]
  },
  {
   "cell_type": "markdown",
   "id": "6b0cd253-142c-43f4-8c62-4a89834a964a",
   "metadata": {},
   "source": [
    "#### Q5. How can you embed a Bokeh plot into a web page or dashboard using Flask or Django?"
   ]
  },
  {
   "cell_type": "code",
   "execution_count": null,
   "id": "03c5ad52-d115-4f1a-b23a-310face8334e",
   "metadata": {},
   "outputs": [],
   "source": [
    "# Flask\n",
    "# Import the necessary modules:\n",
    "from flask import Flask, render_template\n",
    "from bokeh.embed import components\n",
    "from bokeh.plotting import figure\n",
    "from bokeh.resources import INLINE\n",
    "\n",
    "#Create a Flask app:\n",
    "app = Flask(__name__)\n",
    "Define a route for your web page:\n",
    "python\n",
    "Copy code\n",
    "@app.route('/')\n",
    "def index():\n",
    "    # create Bokeh plot\n",
    "    plot = figure()\n",
    "    plot.line([1, 2, 3, 4, 5], [2, 5, 4, 6, 7])\n",
    "\n",
    "    # generate Bokeh script and div components\n",
    "    script, div = components(plot, INLINE)\n",
    "\n",
    "    # pass components to template\n",
    "    return render_template('index.html', script=script, div=div)\n",
    "# Create an HTML template to render the Bokeh plot:\n",
    "\"\"\"<!DOCTYPE html>\n",
    "<html>\n",
    "<head>\n",
    "    <title>My Bokeh Plot</title>\n",
    "    {{ script|safe }}\n",
    "</head>\n",
    "<body>\n",
    "    {{ div|safe }}\n",
    "</body>\n",
    "</html>\n",
    "\"\"\"\n",
    "Run the Flask app:\n",
    "if __name__ == '__main__':\n",
    "    app.run(debug=True)\n",
    "Django\n",
    "Import the necessary modules:\n",
    "\n",
    "from django.shortcuts import render\n",
    "from bokeh.embed import components\n",
    "from bokeh.plotting import figure\n",
    "from bokeh.resources import INLINE\n",
    "\n",
    "# Define a view function for your web page:\n",
    "def index(request):\n",
    "    # create Bokeh plot\n",
    "    plot = figure()\n",
    "    plot.line([1, 2, 3, 4, 5], [2, 5, 4, 6, 7])\n",
    "\n",
    "    # generate Bokeh script and div components\n",
    "    script, div = components(plot, INLINE)\n",
    "\n",
    "    # pass components to template\n",
    "    return render(request, 'index.html', {'script': script, 'div': div})\n",
    "\"\"\"Create an HTML template to render the Bokeh plot:\n",
    "html\n",
    "Copy code\n",
    "<!DOCTYPE html>\n",
    "<html>\n",
    "<head>\n",
    "    <title>My Bokeh Plot</title>\n",
    "    {{ script|safe }}\n",
    "</head>\n",
    "<body>\n",
    "    {{ div|safe }}\n",
    "</body>\n",
    "</html>\n",
    "\"\"\"\n",
    "# Add a URL pattern for your view in the urls.py file:\n",
    "from django.urls import path\n",
    "from . import views\n",
    "\n",
    "urlpatterns = [\n",
    "    path('', views.index, name='index'),\n",
    "]\n",
    "#Run the Django app:\n",
    "python manage.py runserver"
   ]
  },
  {
   "cell_type": "markdown",
   "id": "b481f49d-c3fb-4994-9970-69a01591b09b",
   "metadata": {},
   "source": [
    " In both cases, the components function is used to generate the script and div components of the Bokeh plot, which can then be passed to the HTML template for rendering."
   ]
  }
 ],
 "metadata": {
  "kernelspec": {
   "display_name": "Python 3 (ipykernel)",
   "language": "python",
   "name": "python3"
  },
  "language_info": {
   "codemirror_mode": {
    "name": "ipython",
    "version": 3
   },
   "file_extension": ".py",
   "mimetype": "text/x-python",
   "name": "python",
   "nbconvert_exporter": "python",
   "pygments_lexer": "ipython3",
   "version": "3.10.8"
  }
 },
 "nbformat": 4,
 "nbformat_minor": 5
}

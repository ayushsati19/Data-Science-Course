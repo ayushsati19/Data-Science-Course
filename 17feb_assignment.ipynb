{
 "cells": [
  {
   "cell_type": "markdown",
   "id": "f31a1a71-b744-4ce6-8a17-7beeca31f0db",
   "metadata": {},
   "source": [
    "#### Q1. What is MongoDB? Explain non-relational databases in short. In which scenarios it is preferred to use MongoDB over SQL databases?"
   ]
  },
  {
   "cell_type": "markdown",
   "id": "d260ddfe-6c4c-4685-84bb-f946b3e4126a",
   "metadata": {},
   "source": [
    "MongoDB is a document-oriented NoSQL database management system that uses a flexible JSON-like data model with dynamic schemas, making it suitable for storing and managing large volumes of unstructured, semi-structured, and structured data. It is designed to provide high scalability, performance, and availability, and is widely used for web applications, real-time analytics, and other big data use cases.\n",
    "\n",
    "Non-relational databases, also known as NoSQL databases, are databases that store data in a non-tabular form, unlike traditional relational databases. They are designed to handle large volumes of unstructured, semi-structured, and structured data, and can be highly scalable, flexible, and performant. Unlike relational databases, NoSQL databases do not use a fixed schema and do not enforce strict consistency, allowing for more flexibility and faster development cycles.\n",
    "\n",
    "MongoDB is preferred over SQL databases in scenarios where:\n",
    "\n",
    "High scalability and availability are required: MongoDB can scale horizontally across multiple nodes, allowing it to handle high volumes of data and traffic. It also provides features such as automatic sharding and replication for high availability and fault tolerance.\n",
    "\n",
    "Dynamic schema and flexible data models are needed: MongoDB's dynamic schema allows for more flexibility and faster development cycles, as it can handle changes to data structures without requiring schema modifications.\n",
    "\n",
    "Large volumes of unstructured or semi-structured data are being stored: MongoDB's document-oriented model is well-suited for storing and managing large volumes of unstructured or semi-structured data, such as social media data, sensor data, or log data.\n",
    "\n",
    "Real-time analytics or processing is required: MongoDB's ability to store and process large volumes of data in real-time makes it ideal for use cases such as real-time analytics, fraud detection, or recommendation engines.\n",
    "\n",
    "In summary, MongoDB is a highly scalable, flexible, and performant NoSQL database management system that is well-suited for storing and managing large volumes of unstructured or semi-structured data. It is a popular choice for web applications, real-time analytics, and other big data use cases where high scalability, availability, and flexibility are required."
   ]
  },
  {
   "cell_type": "markdown",
   "id": "d9f4b0fc-322f-4dd7-9d5b-8864d524b7a6",
   "metadata": {},
   "source": [
    "#### Q2. State and Explain the features of MongoDB."
   ]
  },
  {
   "cell_type": "markdown",
   "id": "4d2c16c1-710d-4dd2-80f9-4893fda7056d",
   "metadata": {},
   "source": [
    "MongoDB is a popular NoSQL database that has become increasingly popular in recent years. Some of the main features of MongoDB are:\n",
    "\n",
    "1. Document-Oriented: MongoDB stores data in JSON-like documents that can have varying structures, making it a flexible choice for data storage.\n",
    "\n",
    "2. Schemaless: MongoDB is schemaless, meaning that you don't have to define the structure of your data before you start using the database. This allows for more flexibility in handling evolving data structures.\n",
    "\n",
    "3. High Performance: MongoDB is designed to be fast and efficient, with features like in-memory computing and automatic indexing to help speed up queries.\n",
    "\n",
    "4. Distributed: MongoDB is a distributed database, meaning that it can be spread across multiple servers for scalability and high availability.\n",
    "\n",
    "5. Easy to use: MongoDB has a user-friendly command-line interface and a rich set of APIs for several programming languages, making it easy to learn and use.\n",
    "\n",
    "6. Aggregation Framework: MongoDB provides a powerful aggregation framework that allows for complex data analysis and manipulation, making it useful for big data analytics.\n",
    "\n",
    "7. MongoDB is preferred over SQL databases in scenarios where there is a need for flexible data storage, scalability, and high performance, such as in big data, real-time analytics, and web applications."
   ]
  },
  {
   "cell_type": "markdown",
   "id": "30120220-69be-4fae-83ce-eae8a4e0534d",
   "metadata": {},
   "source": [
    "#### Q3. Write a code to connect MongoDB to Python. Also, create a database and a collection in MongoDB."
   ]
  },
  {
   "cell_type": "markdown",
   "id": "e57257d0-e07b-402e-9953-329b1f221fb8",
   "metadata": {},
   "source": [
    "To connect MongoDB to Python, we need to install the pymongo package. We can install it using pip by running the following command in the terminal:"
   ]
  },
  {
   "cell_type": "markdown",
   "id": "a00fae83-e51a-4ca1-bdad-2c896852e48c",
   "metadata": {},
   "source": [
    "pip install pymongo"
   ]
  },
  {
   "cell_type": "markdown",
   "id": "0617172b-7931-48f1-9a40-a5493dea3958",
   "metadata": {},
   "source": [
    "After installing the package, we can connect to MongoDB using the MongoClient class provided by pymongo. Here's the code to connect to MongoDB and create a database and a collection:"
   ]
  },
  {
   "cell_type": "code",
   "execution_count": 2,
   "id": "58b0bdc2-ea1c-41b6-b363-750be42e0ada",
   "metadata": {},
   "outputs": [],
   "source": [
    "import pymongo\n",
    "\n",
    "# Create a client\n",
    "client = pymongo.MongoClient(\"mongodb://localhost:27017/\")\n",
    "\n",
    "# Create a database\n",
    "db = client[\"mydatabase\"]\n",
    "\n",
    "# Create a collection\n",
    "col = db[\"customers\"]\n"
   ]
  },
  {
   "cell_type": "markdown",
   "id": "8d2c080e-dfcc-48e0-b574-401ade9d1cc0",
   "metadata": {},
   "source": [
    "#### Q4. Using the database and the collection created in question number 3, write a code to insert one record, and insert many records. Use the find() and find_one() methods to print the inserted record."
   ]
  },
  {
   "cell_type": "raw",
   "id": "d0947fb3-1994-48dc-b95a-e7e7b207ac6b",
   "metadata": {},
   "source": [
    "# Importing pymongo module\n",
    "import pymongo\n",
    "\n",
    "# Creating a client object\n",
    "client = pymongo.MongoClient(\"mongodb://localhost:27017/\")\n",
    "\n",
    "# Creating a database\n",
    "db = client[\"mydatabase\"]\n",
    "\n",
    "# Creating a collection\n",
    "col = db[\"customers\"]\n",
    "\n",
    "# Inserting one record\n",
    "record = {\"name\": \"John\", \"address\": \"Highway 37\"}\n",
    "x = col.insert_one(record)\n",
    "print(\"One record inserted with ID:\", x.inserted_id)\n",
    "\n",
    "# Inserting multiple records\n",
    "records = [\n",
    "  {\"name\": \"Amy\", \"address\": \"Apple st 652\"},\n",
    "  {\"name\": \"Hannah\", \"address\": \"Mountain 21\"},\n",
    "  {\"name\": \"Michael\", \"address\": \"Valley 345\"},\n",
    "  {\"name\": \"Sandy\", \"address\": \"Ocean blvd 2\"},\n",
    "  {\"name\": \"Betty\", \"address\": \"Green Grass 1\"},\n",
    "  {\"name\": \"Richard\", \"address\": \"Sky st 331\"},\n",
    "  {\"name\": \"Susan\", \"address\": \"One way 98\"},\n",
    "  {\"name\": \"Vicky\", \"address\": \"Yellow Garden 2\"},\n",
    "  {\"name\": \"Ben\", \"address\": \"Park Lane 38\"},\n",
    "  {\"name\": \"William\", \"address\": \"Central st 954\"},\n",
    "  {\"name\": \"Chuck\", \"address\": \"Main Road 989\"},\n",
    "  {\"name\": \"Viola\", \"address\": \"Sideway 1633\"}\n",
    "]\n",
    "\n",
    "x = col.insert_many(records)\n",
    "print(\"Multiple records inserted with IDs:\", x.inserted_ids)\n",
    "\n",
    "# Retrieving one record using find_one()\n",
    "print(\"One record retrieved using find_one():\", col.find_one())\n",
    "\n",
    "# Retrieving all records using find()\n",
    "print(\"All records retrieved using find():\")\n",
    "for record in col.find():\n",
    "    print(record)"
   ]
  },
  {
   "cell_type": "markdown",
   "id": "e190efc9-e76a-4900-bd34-56be33169177",
   "metadata": {},
   "source": [
    "#### Q5. Explain how you can use the find() method to query the MongoDB database. Write a simple code to demonstrate this."
   ]
  },
  {
   "cell_type": "markdown",
   "id": "a2f2ab0c-8f08-4f38-8655-10c2e00b5e4d",
   "metadata": {},
   "source": [
    "In MongoDB, the find() method is used to retrieve data from a collection. It returns a cursor object, which can be used to iterate over the documents matching the query. The find() method can accept various parameters, such as filter, projection, sort, limit, skip, etc. to refine the search results."
   ]
  },
  {
   "cell_type": "raw",
   "id": "4f861053-56a4-49cc-b74c-de8e229a2e2a",
   "metadata": {},
   "source": [
    "import pymongo\n",
    "\n",
    "# establish a connection to the MongoDB server\n",
    "client = pymongo.MongoClient('mongodb://localhost:27017/')\n",
    "\n",
    "# get a reference to the database\n",
    "db = client['mydb']\n",
    "\n",
    "# get a reference to the collection\n",
    "collection = db['mycollection']\n",
    "\n",
    "# insert some documents into the collection\n",
    "collection.insert_many([\n",
    "    {'name': 'Alice', 'age': 25},\n",
    "    {'name': 'Bob', 'age': 30},\n",
    "    {'name': 'Charlie', 'age': 35},\n",
    "    {'name': 'Dave', 'age': 40},\n",
    "])\n",
    "\n",
    "# find all documents in the collection\n",
    "result = collection.find()\n",
    "\n",
    "# iterate over the result and print each document\n",
    "for doc in result:\n",
    "    print(doc)\n"
   ]
  },
  {
   "cell_type": "markdown",
   "id": "c069eae4-b4f9-48e1-a89b-12bbef0c1ddc",
   "metadata": {
    "tags": []
   },
   "source": [
    "#### Q6. Explain the sort() method. Give an example to demonstrate sorting in MongoDB."
   ]
  },
  {
   "cell_type": "markdown",
   "id": "6df5bcbf-9cb7-4648-a201-a2a8b8d87ddb",
   "metadata": {},
   "source": [
    "In MongoDB, the sort() method is used to sort the documents in a collection based on the specified field(s). The sort() method takes one argument, which is a dictionary that specifies the field(s) and the order to sort by. The default order is ascending, and if you want to sort in descending order, you can set the value of the field to -1."
   ]
  },
  {
   "cell_type": "raw",
   "id": "324d58ca-b1c5-40a7-860e-e5a3645bd830",
   "metadata": {},
   "source": [
    "import pymongo\n",
    "\n",
    "client = pymongo.MongoClient(\"mongodb://localhost:27017/\")\n",
    "db = client[\"mydatabase\"]\n",
    "students = db[\"students\"]\n",
    "\n",
    "result = students.find().sort(\"score\")\n",
    "\n",
    "for doc in result:\n",
    "    print(doc)\n"
   ]
  },
  {
   "cell_type": "markdown",
   "id": "e871e910-aadb-4dd6-a84c-657b16862688",
   "metadata": {},
   "source": [
    "#### Q7. Explain why delete_one(), delete_many(), and drop() is used."
   ]
  },
  {
   "cell_type": "markdown",
   "id": "28ca1020-458c-4e47-84b2-8ca89a9b056b",
   "metadata": {},
   "source": [
    "In MongoDB, there are several ways to remove data from a collection. The delete_one() method is used to remove a single document from a collection that matches the specified filter criteria.\n",
    "\n",
    "The delete_many() method is used to remove multiple documents from a collection that match the specified filter criteria.\n",
    "\n",
    "The drop() method is used to remove an entire collection from the database. This method is useful when you no longer need the data in a collection and want to delete the entire collection."
   ]
  }
 ],
 "metadata": {
  "kernelspec": {
   "display_name": "Python 3 (ipykernel)",
   "language": "python",
   "name": "python3"
  },
  "language_info": {
   "codemirror_mode": {
    "name": "ipython",
    "version": 3
   },
   "file_extension": ".py",
   "mimetype": "text/x-python",
   "name": "python",
   "nbconvert_exporter": "python",
   "pygments_lexer": "ipython3",
   "version": "3.10.8"
  }
 },
 "nbformat": 4,
 "nbformat_minor": 5
}

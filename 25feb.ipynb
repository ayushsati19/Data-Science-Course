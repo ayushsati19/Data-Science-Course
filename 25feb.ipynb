{
 "cells": [
  {
   "cell_type": "code",
   "execution_count": 2,
   "id": "c7131ec5-6e25-4b12-ba9b-7f2e8dad716b",
   "metadata": {},
   "outputs": [],
   "source": [
    "import pandas as pd\n",
    "course_name = ['Data Science', 'Machine Learning', 'Big Data', 'Data Engineer']\n",
    "duration = [2,3,6,4]\n",
    "df = pd.DataFrame(data = {'course_name' : course_name, 'duration' : duration})"
   ]
  },
  {
   "cell_type": "markdown",
   "id": "f9fe4b18-7705-404f-b2c8-b09f5eacc41a",
   "metadata": {},
   "source": [
    "#### Q1. Write a code to print the data present in the second row of the dataframe, df."
   ]
  },
  {
   "cell_type": "code",
   "execution_count": 3,
   "id": "b072aa03-32a2-4b8b-a1a7-7e2976d6ff4a",
   "metadata": {},
   "outputs": [
    {
     "name": "stdout",
     "output_type": "stream",
     "text": [
      "course_name    Machine Learning\n",
      "duration                      3\n",
      "Name: 1, dtype: object\n"
     ]
    }
   ],
   "source": [
    "print(df.iloc[1])"
   ]
  },
  {
   "cell_type": "markdown",
   "id": "00dcca3b-f5d0-4e5e-8e0f-c3350bbd5f60",
   "metadata": {},
   "source": [
    "#### Q2. What is the difference between the functions loc and iloc in pandas.DataFrame?"
   ]
  },
  {
   "cell_type": "markdown",
   "id": "363e8dc0-d57b-408c-b998-dfdf9b286a0f",
   "metadata": {},
   "source": [
    "The loc and iloc functions are used for indexing and selecting data from a pandas DataFrame, but they operate differently:\n",
    "\n",
    "loc function is used for label-based indexing. It accepts the row and column labels as arguments and returns the rows and columns matching those labels. It takes the form df.loc[row_label, column_label].\n",
    "iloc function is used for integer-based indexing. It accepts the row and column indices as arguments and returns the rows and columns matching those indices. It takes the form df.iloc[row_index, column_index]."
   ]
  },
  {
   "cell_type": "markdown",
   "id": "0dafcb0c-8a90-425d-bfed-48dab04cf887",
   "metadata": {},
   "source": [
    "#### Q3. Reindex the given dataframe using a variable, reindex = [3,0,1,2] and store it in the variable, new_df then find the output for both new_df.loc[2] and new_df.iloc[2].\n",
    "Did you observe any difference in both the outputs? If so then explain it."
   ]
  },
  {
   "cell_type": "code",
   "execution_count": 6,
   "id": "732dfca9-cbd7-4b29-a5d1-5d88ea4419a2",
   "metadata": {},
   "outputs": [
    {
     "name": "stdout",
     "output_type": "stream",
     "text": [
      "course_name    Big Data\n",
      "duration              6\n",
      "Name: 2, dtype: object\n",
      "course_name    Machine Learning\n",
      "duration                      3\n",
      "Name: 1, dtype: object\n"
     ]
    }
   ],
   "source": [
    "import pandas as pd\n",
    "\n",
    "# Original dataframe\n",
    "course_name = ['Data Science', 'Machine Learning', 'Big Data', 'Data Engineer']\n",
    "duration = [2,3,6,4]\n",
    "df = pd.DataFrame(data = {'course_name' : course_name, 'duration' : duration})\n",
    "\n",
    "# Reindexing the dataframe\n",
    "reindex = [3, 0, 1, 2]\n",
    "new_df = df.reindex(reindex)\n",
    "\n",
    "# Accessing the data in the second row using both loc and iloc\n",
    "print(new_df.loc[2])\n",
    "print(new_df.iloc[2])\n"
   ]
  },
  {
   "cell_type": "markdown",
   "id": "726fcecd-3cc0-43e4-beac-662a5c91bc89",
   "metadata": {},
   "source": [
    "Yes, the outputs for new_df.loc[2] and new_df.iloc[2] are different.\n",
    "\n",
    "new_df.loc[2] returns the row with the label/index 2 after reindexing, which is the third row in the original DataFrame df.\n",
    "new_df.iloc[2] returns the third row of the DataFrame new_df after reindexing, which corresponds to the row with the index 1 in the original DataFrame df. So, it returns the data of the row with the index 1 after reordering the rows as per the new index reindex = [3,0,1,2]."
   ]
  },
  {
   "cell_type": "markdown",
   "id": "88b83b6a-ef2a-4fdc-8fb0-c302e523e725",
   "metadata": {},
   "source": [
    "herefore, the values returned by new_df.loc[2] and new_df.iloc[2] are different because they are looking for the data at different locations in the DataFrame based on the labels and indexes."
   ]
  },
  {
   "cell_type": "code",
   "execution_count": 7,
   "id": "110826cc-6ba5-4216-9d25-457486a07d59",
   "metadata": {},
   "outputs": [],
   "source": [
    "import pandas as pd\n",
    "import numpy as np\n",
    "columns = ['column_1', 'column_2', 'column_3', 'column_4', 'column_5', 'column_6']\n",
    "indices = [1,2,3,4,5,6]\n",
    "#Creating a dataframe:\n",
    "df1 = pd.DataFrame(np.random.rand(6,6), columns = columns, index = indices)"
   ]
  },
  {
   "cell_type": "markdown",
   "id": "d90a8d68-38c5-4d01-974f-73b2c7e2db04",
   "metadata": {},
   "source": [
    "#### Q4. Write a code to find the following statistical measurements for the above dataframe df1:\n",
    "###### (i) mean of each and every column present in the dataframe.\n",
    "###### (ii) standard deviation of column, ‘column_2’"
   ]
  },
  {
   "cell_type": "code",
   "execution_count": 8,
   "id": "7f83069a-899a-44b4-a919-f943e941de37",
   "metadata": {},
   "outputs": [
    {
     "name": "stdout",
     "output_type": "stream",
     "text": [
      "Mean of each column:\n",
      " column_1    0.616848\n",
      "column_2    0.644910\n",
      "column_3    0.513439\n",
      "column_4    0.338609\n",
      "column_5    0.363644\n",
      "column_6    0.533740\n",
      "dtype: float64\n",
      "\n",
      "Standard deviation of column 'column_2': 0.18773184110443708\n"
     ]
    }
   ],
   "source": [
    "import pandas as pd\n",
    "import numpy as np\n",
    "\n",
    "columns = ['column_1', 'column_2', 'column_3', 'column_4', 'column_5', 'column_6']\n",
    "indices = [1,2,3,4,5,6]\n",
    "#Creating a dataframe:\n",
    "df1 = pd.DataFrame(np.random.rand(6,6), columns = columns, index = indices)\n",
    "\n",
    "#Mean of each column:\n",
    "mean_df = df1.mean()\n",
    "print(\"Mean of each column:\\n\", mean_df)\n",
    "\n",
    "#Standard deviation of column 'column_2':\n",
    "std_col2 = df1['column_2'].std()\n",
    "print(\"\\nStandard deviation of column 'column_2':\", std_col2)\n"
   ]
  },
  {
   "cell_type": "markdown",
   "id": "cac77cfb-d0df-4afd-b916-11e279a71007",
   "metadata": {},
   "source": [
    "#### Q5. Replace the data present in the second row of column, ‘column_2’ by a string variable then find the mean of column, column_2. If you are getting errors in executing it then explain why.\n",
    "#### [Hint: To replace the data use df1.loc[] and equate this to string data of your choice.]"
   ]
  },
  {
   "cell_type": "markdown",
   "id": "1d17735d-82dd-4032-a573-685c22f0cca1",
   "metadata": {},
   "source": [
    "Since column_2 contains numeric data, it is not possible to replace a value with a string value. Therefore, if we replace the data present in the second row of column_2 by a string variable, we will get an error."
   ]
  },
  {
   "cell_type": "code",
   "execution_count": 9,
   "id": "82156ecd-6d6c-4d3c-947d-46bad09d42a1",
   "metadata": {},
   "outputs": [
    {
     "name": "stdout",
     "output_type": "stream",
     "text": [
      "0.5972129588209423\n"
     ]
    }
   ],
   "source": [
    "df1.loc[2, 'column_2'] = 'new string value'\n",
    "df1['column_2'] = pd.to_numeric(df1['column_2'], errors='coerce')\n",
    "mean_column_2 = df1['column_2'].mean()\n",
    "print(mean_column_2)"
   ]
  },
  {
   "cell_type": "markdown",
   "id": "c0a45a61-833c-4822-ac66-8daddac46317",
   "metadata": {},
   "source": [
    "#### Q6. What do you understand about the windows function in pandas and list the types of windows functions?"
   ]
  },
  {
   "cell_type": "markdown",
   "id": "65219fea-2080-4aa5-8d54-16906bdc5bff",
   "metadata": {},
   "source": [
    "In pandas, a window function is a way to perform calculations on a subset of a DataFrame. A window function operates on a sliding window of data and produces a new value for each window. It is used to analyze a sequence of data points over time or space, and to identify patterns and trends in the data.\n",
    "\n",
    "There are several types of window functions in pandas:\n",
    "\n",
    "Rolling functions: It calculates statistics over a rolling window of data, which is based on a fixed number of periods.\n",
    "Expanding functions: It calculates statistics over an expanding window of data, which increases in size with each new period.\n",
    "Exponentially-weighted functions: It calculates statistics using exponentially-weighted moving averages over a rolling window of data.\n",
    "Rolling and Expanding apply functions: It allows to apply any custom function to a rolling or expanding window of data."
   ]
  },
  {
   "cell_type": "markdown",
   "id": "93292407-11f3-4a43-b3bc-9b8de9984051",
   "metadata": {},
   "source": [
    "#### Q7. Write a code to print only the current month and year at the time of answering this question."
   ]
  },
  {
   "cell_type": "code",
   "execution_count": 10,
   "id": "50a7c6e7-80dd-4103-8fba-c4f0ca31f579",
   "metadata": {},
   "outputs": [
    {
     "name": "stdout",
     "output_type": "stream",
     "text": [
      "Current month and year: March 2023\n"
     ]
    }
   ],
   "source": [
    "import datetime\n",
    "\n",
    "now = datetime.datetime.now()\n",
    "print(\"Current month and year:\", now.strftime(\"%B %Y\"))\n"
   ]
  },
  {
   "cell_type": "markdown",
   "id": "f38eb3b3-d461-480e-a9b3-c2086cf7079d",
   "metadata": {},
   "source": [
    "#### Q8. Write a Python program that takes in two dates as input (in the format YYYY-MM-DD) and calculates the difference between them in days, hours, and minutes using Pandas time delta. The program should prompt the user to enter the dates and display the result."
   ]
  },
  {
   "cell_type": "code",
   "execution_count": 11,
   "id": "355859b0-1f41-4693-9d28-221d67fe06f6",
   "metadata": {},
   "outputs": [
    {
     "name": "stdin",
     "output_type": "stream",
     "text": [
      "Enter the first date (YYYY-MM-DD):  2000-01-20\n",
      "Enter the second date (YYYY-MM-DD):  2022-01-20\n"
     ]
    },
    {
     "name": "stdout",
     "output_type": "stream",
     "text": [
      "The difference between 2022-01-20 00:00:00 and 2000-01-20 00:00:00 is:\n",
      "8036 days\n",
      "0 hours\n",
      "0 minutes\n"
     ]
    }
   ],
   "source": [
    "import pandas as pd\n",
    "\n",
    "# Prompt the user to enter the two dates\n",
    "date1 = input(\"Enter the first date (YYYY-MM-DD): \")\n",
    "date2 = input(\"Enter the second date (YYYY-MM-DD): \")\n",
    "\n",
    "# Convert the input dates to datetime objects\n",
    "date1 = pd.to_datetime(date1)\n",
    "date2 = pd.to_datetime(date2)\n",
    "\n",
    "# Calculate the timedelta between the two dates\n",
    "delta = date2 - date1\n",
    "\n",
    "# Print the timedelta in days, hours, and minutes\n",
    "print(f\"The difference between {date2} and {date1} is:\")\n",
    "print(f\"{delta.days} days\")\n",
    "print(f\"{delta.seconds // 3600} hours\")\n",
    "print(f\"{(delta.seconds // 60) % 60} minutes\")\n"
   ]
  },
  {
   "cell_type": "markdown",
   "id": "c73f6791-262c-43a6-b44c-1471e997db66",
   "metadata": {},
   "source": [
    "#### Q9. Write a Python program that reads a CSV file containing categorical data and converts a specified column to a categorical data type. The program should prompt the user to enter the file path, columnname, and category order, and then display the sorted data."
   ]
  },
  {
   "cell_type": "code",
   "execution_count": null,
   "id": "6a8a0cc4-49a5-411e-80f4-8682c1341f32",
   "metadata": {},
   "outputs": [
    {
     "name": "stdin",
     "output_type": "stream",
     "text": [
      "Enter the file path:  e\n"
     ]
    }
   ],
   "source": [
    "import pandas as pd\n",
    "\n",
    "# Prompt the user to enter the file path and column name\n",
    "file_path = input(\"Enter the file path: \")\n",
    "column_name = input(\"Enter the column name to convert to categorical: \")\n",
    "\n",
    "# Read the CSV file into a DataFrame\n",
    "df = pd.read_csv(file_path)\n",
    "\n",
    "# Prompt the user to enter the category order\n",
    "category_order = input(\"Enter the category order (comma-separated values): \")\n",
    "category_order = category_order.split(\",\")\n",
    "\n",
    "# Convert the specified column to a categorical data type with the specified category order\n",
    "df[column_name] = pd.Categorical(df[column_name], categories=category_order, ordered=True)\n",
    "\n",
    "# Sort the DataFrame by the specified column\n",
    "df = df.sort_values(column_name)\n",
    "\n",
    "# Display the sorted data\n",
    "print(df)\n"
   ]
  },
  {
   "cell_type": "markdown",
   "id": "9c0efdb0-a02f-495b-838a-1e56ae72e401",
   "metadata": {},
   "source": [
    "#### Q10. Write a Python program that reads a CSV file containing sales data for different products and visualizes the data using a stacked bar chart to show the sales of each product category over time. The program should prompt the user to enter the file path and display the chart."
   ]
  },
  {
   "cell_type": "code",
   "execution_count": null,
   "id": "72b73fe0-1746-4ff4-8152-d6e05ea9d35b",
   "metadata": {},
   "outputs": [],
   "source": [
    "import pandas as pd\n",
    "import matplotlib.pyplot as plt\n",
    "\n",
    "# Prompt user for file path\n",
    "file_path = input(\"Enter file path: \")\n",
    "\n",
    "# Load CSV file into a pandas DataFrame\n",
    "df = pd.read_csv(file_path)\n",
    "\n",
    "# Convert date column to a datetime data type\n",
    "df['Date'] = pd.to_datetime(df['Date'])\n",
    "\n",
    "# Group sales by product category and date\n",
    "grouped = df.groupby(['Product Category', pd.Grouper(key='Date', freq='M')])['Sales'].sum()\n",
    "\n",
    "# Pivot the data to create a table of total sales for each product category by month\n",
    "pivoted = grouped.reset_index().pivot(index='Date', columns='Product Category', values='Sales')\n",
    "\n",
    "# Create a stacked bar chart\n",
    "pivoted.plot(kind='bar', stacked=True)\n",
    "\n",
    "# Add axis labels and a title\n",
    "plt.xlabel('Month')\n",
    "plt.ylabel('Sales')\n",
    "plt.title('Sales by Product Category')\n",
    "\n",
    "# Display the chart\n",
    "plt.show()\n"
   ]
  },
  {
   "cell_type": "markdown",
   "id": "f8443ee6-5244-4558-baf5-e680d16e5d22",
   "metadata": {},
   "source": [
    "#### Q11. You are given a CSV file containing student data that includes the student ID and their test score. Write a Python program that reads the CSV file, calculates the mean, median, and mode of the test scores, and displays the results in a table.\n",
    "#### The program should do the followingM\n",
    "#### I Prompt the user to enter the file path of the CSV file containing the student dataR\n",
    "#### I Read the CSV file into a Pandas DataFrameR\n",
    "#### I Calculate the mean, median, and mode of the test scores using Pandas toolsR\n",
    "#### I Display the mean, median, and mode in a table.\n",
    "#### Assume the CSV file contains the following columnsM\n",
    "#### I Student ID: The ID of the studentR\n",
    "#### I Test Score: The score of the student's test.\n",
    "#### Example usage of the program:\n",
    "#### Enter the file path of the CSV file containing the student data: student_data.csv\n",
    "+-----------+--------+\n",
    "| Statistic | Value |\n",
    "+-----------+--------+\n",
    "| Mean | 79.6 |\n",
    "| Median | 82 |\n",
    "| Mode | 85, 90 |\n",
    "+-----------+--------+\n",
    "#### Assume that the CSV file student_data.csv contains the following data:\n",
    "Student ID,Test Score\n",
    "1,85\n",
    "2,90\n",
    "3,80\n",
    "4,75\n",
    "5,85\n",
    "6,82\n",
    "7,78\n",
    "8,85\n",
    "9,90\n",
    "10,85\n",
    "The program should calculate the mean, median, and mode of the test scores and display the results\n",
    "in a table."
   ]
  },
  {
   "cell_type": "raw",
   "id": "51e481a6-b5df-40c3-a904-b8b6358f23c5",
   "metadata": {},
   "source": [
    "import pandas as pd\n",
    "\n",
    "# Prompt the user to enter the file path of the CSV file containing the student data\n",
    "file_path = input(\"Enter the file path of the CSV file containing the student data: \")\n",
    "\n",
    "# Read the CSV file into a Pandas DataFrame\n",
    "df = pd.read_csv(file_path)\n",
    "\n",
    "# Calculate the mean, median, and mode of the test scores using Pandas tools\n",
    "mean_score = df['Test Score'].mean()\n",
    "median_score = df['Test Score'].median()\n",
    "mode_score = df['Test Score'].mode()\n",
    "\n",
    "# Display the mean, median, and mode in a table\n",
    "table = pd.DataFrame({\n",
    "    'Statistic': ['Mean', 'Median', 'Mode'],\n",
    "    'Value': [mean_score, median_score, ', '.join(map(str, mode_score.tolist()))]\n",
    "})\n",
    "print(table)\n"
   ]
  }
 ],
 "metadata": {
  "kernelspec": {
   "display_name": "Python 3 (ipykernel)",
   "language": "python",
   "name": "python3"
  },
  "language_info": {
   "codemirror_mode": {
    "name": "ipython",
    "version": 3
   },
   "file_extension": ".py",
   "mimetype": "text/x-python",
   "name": "python",
   "nbconvert_exporter": "python",
   "pygments_lexer": "ipython3",
   "version": "3.10.8"
  }
 },
 "nbformat": 4,
 "nbformat_minor": 5
}

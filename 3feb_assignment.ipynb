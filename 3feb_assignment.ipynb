{
 "cells": [
  {
   "cell_type": "markdown",
   "id": "b402671a-c7d9-4557-8d37-79db33c8ed6a",
   "metadata": {},
   "source": [
    "#### Q1. Which keyword is used to create a function? Create a function to return a list of odd numbers in the range of 1 to 25."
   ]
  },
  {
   "cell_type": "markdown",
   "id": "3ac6c497-de9e-44a7-8a62-05455e2281c8",
   "metadata": {},
   "source": [
    "##### Ans:- def keyword is used to create a function.Function to return a list of odd numbers in the range of 1 to 25 :-"
   ]
  },
  {
   "cell_type": "code",
   "execution_count": 22,
   "id": "5403a122-8a6a-4bbb-a3f5-fb7c97e22711",
   "metadata": {},
   "outputs": [
    {
     "name": "stdout",
     "output_type": "stream",
     "text": [
      "[1, 3, 5, 7, 9, 11, 13, 15, 17, 19, 21, 23, 25]\n"
     ]
    }
   ],
   "source": [
    "# This is a program to create a function to return a list of odd numbers in the range of 1 to 25.\n",
    "def odd():\n",
    "    list_odd=[]\n",
    "    for i in range(1,26):\n",
    "         if i%2!=0:\n",
    "            list_odd.append(i)\n",
    "    return(list_odd)\n",
    "print(odd())\n",
    "              "
   ]
  },
  {
   "cell_type": "markdown",
   "id": "1b21240f-85fa-422f-b7e7-ebe3e3c0f1e5",
   "metadata": {},
   "source": [
    "#### Q2. Why *args and **kwargs is used in some functions? Create a function each for *args and **kwargs to demonstrate their use."
   ]
  },
  {
   "cell_type": "markdown",
   "id": "6070da2b-dd39-4fb7-a28b-625e6802c651",
   "metadata": {},
   "source": [
    "##### Ans:-'*args' and '**kwargs' are used in Python functions to accept a variable number of arguments. '*args' is used to pass a variable number of non-keyword arguments to a function. It allows us to pass any number of arguments to the function, and the arguments are collected as a tuple inside the function. \n",
    "##### '**kwargs' is used to pass a variable number of keyword arguments to a function. It allows you to pass any number of keyword arguments to the function, and the arguments are collected as a dictionary inside the function."
   ]
  },
  {
   "cell_type": "code",
   "execution_count": 12,
   "id": "adeb1f80-fe59-4660-9cdb-595e7a27b644",
   "metadata": {},
   "outputs": [],
   "source": [
    "def function_args(*args):\n",
    "    for i in args:\n",
    "        print(i)"
   ]
  },
  {
   "cell_type": "code",
   "execution_count": 14,
   "id": "088a6986-96b7-4508-bb74-b75472beb211",
   "metadata": {},
   "outputs": [
    {
     "name": "stdout",
     "output_type": "stream",
     "text": [
      "variable\n",
      "arguments\n"
     ]
    }
   ],
   "source": [
    "function_args('variable',\"arguments\")"
   ]
  },
  {
   "cell_type": "code",
   "execution_count": 10,
   "id": "29d14a0f-fbac-4d53-85e8-d05374fe4c27",
   "metadata": {},
   "outputs": [
    {
     "name": "stdout",
     "output_type": "stream",
     "text": [
      "name Ayush\n",
      "age 22\n",
      "city Karanprayag\n"
     ]
    }
   ],
   "source": [
    "def my_func(**kwargs):\n",
    "    for key, value in kwargs.items():\n",
    "        print(key, value)\n",
    "\n",
    "my_func(name='Ayush', age=22, city='Karanprayag')"
   ]
  },
  {
   "cell_type": "markdown",
   "id": "90aca091-b163-4848-a579-259a1062ea92",
   "metadata": {},
   "source": [
    "#### Q3. What is an iterator in python? Name the method used to initialise the iterator object and the method used for iteration. Use these methods to print the first five elements of the given list [2, 4, 6, 8, 10, 12, 14, 16, 18, 20]."
   ]
  },
  {
   "cell_type": "markdown",
   "id": "880cfde4-2006-4a55-b191-644b33504a3a",
   "metadata": {},
   "source": [
    "##### Ans:- In Python, an iterator is an object that can be iterated (looped) upon. It provides a way to access the elements of a collection one by one, without having to know the internal workings of the collection. An iterator can be thought of as a pointer to the current element in a sequence.\n",
    "To create an iterator in Python, we define a class that implements two methods:\n",
    "\n",
    "The __iter__() method: This method is called when the iterator is initialized. It should return the iterator object itself. This method is used to initialize the iterator object.\n",
    "\n",
    "The __next__() method: This method is called each time we want to iterate to the next element. It should return the next element in the sequence, or raise a StopIteration exception if there are no more elements. This method is used for iteration."
   ]
  },
  {
   "cell_type": "code",
   "execution_count": 18,
   "id": "66ae18db-98fa-44f7-9a23-03447e4639b9",
   "metadata": {},
   "outputs": [
    {
     "name": "stdout",
     "output_type": "stream",
     "text": [
      "2\n",
      "4\n",
      "6\n",
      "8\n",
      "10\n"
     ]
    }
   ],
   "source": [
    "#using iter() method\n",
    "lst = [2, 4, 6, 8, 10, 12, 14, 16, 18, 20]\n",
    "iterator = iter(lst)\n",
    "for i in range(5):\n",
    "    element = next(iterator)\n",
    "    print(element)\n"
   ]
  },
  {
   "cell_type": "code",
   "execution_count": 19,
   "id": "881d0bde-1f5a-42a0-9368-7f32a8193da5",
   "metadata": {},
   "outputs": [
    {
     "name": "stdout",
     "output_type": "stream",
     "text": [
      "2\n",
      "4\n",
      "6\n",
      "8\n",
      "10\n"
     ]
    }
   ],
   "source": [
    "# using next () method\n",
    "my_list = [2, 4, 6, 8, 10, 12, 14, 16, 18, 20]\n",
    "my_iterator = iter(my_list)\n",
    "\n",
    "for i in range(5):\n",
    "    element = next(my_iterator)\n",
    "    print(element)"
   ]
  },
  {
   "cell_type": "markdown",
   "id": "67f8fcc6-ea2b-4cf6-88c1-d8a4b1dd0d96",
   "metadata": {},
   "source": [
    "#### Q4. What is a generator function in python? Why yield keyword is used? Give an example of a generator function."
   ]
  },
  {
   "cell_type": "markdown",
   "id": "b52fd7da-afb7-4d94-bdb5-f4a38e541a6a",
   "metadata": {},
   "source": [
    " ##### Ans:-Python, a generator is a special kind of iterator that generates values on the fly as you iterate over it, rather than storing all the values in memory at once. We can create a generator using a 'yield' statement inside a function. When the generator function is called, it returns a generator object that you can use to iterate over the values it generates.\n",
    " ##### The yield keyword is used in Python to create generator functions."
   ]
  },
  {
   "cell_type": "code",
   "execution_count": 21,
   "id": "252cf608-a6db-4ddf-879f-05680c547103",
   "metadata": {},
   "outputs": [],
   "source": [
    "def even_numbers():\n",
    "    num = 2\n",
    "    while True:\n",
    "        yield num\n",
    "        num += 2"
   ]
  },
  {
   "cell_type": "code",
   "execution_count": 22,
   "id": "b692ef78-0aa4-49b8-a8db-b7d718f18327",
   "metadata": {},
   "outputs": [
    {
     "name": "stdout",
     "output_type": "stream",
     "text": [
      "2\n",
      "4\n",
      "6\n",
      "8\n",
      "10\n"
     ]
    }
   ],
   "source": [
    "my_generator = even_numbers()\n",
    "\n",
    "for i in range(5):\n",
    "    element = next(my_generator)\n",
    "    print(element)\n"
   ]
  },
  {
   "cell_type": "markdown",
   "id": "288be55e-4ed1-4cbd-ab82-fbfeaf26c6ee",
   "metadata": {},
   "source": [
    "#### Q5. Create a generator function for prime numbers less than 1000. Use the next() method to print the first 20 prime numbers."
   ]
  },
  {
   "cell_type": "code",
   "execution_count": 23,
   "id": "e6cddaf5-a168-4758-ac35-c54768d97f4f",
   "metadata": {},
   "outputs": [
    {
     "name": "stdout",
     "output_type": "stream",
     "text": [
      "2\n",
      "3\n",
      "5\n",
      "7\n",
      "11\n",
      "13\n",
      "17\n",
      "19\n",
      "23\n",
      "29\n",
      "31\n",
      "37\n",
      "41\n",
      "43\n",
      "47\n",
      "53\n",
      "59\n",
      "61\n",
      "67\n",
      "71\n"
     ]
    }
   ],
   "source": [
    "def primes():\n",
    "    num = 2\n",
    "    while True:\n",
    "        is_prime = True\n",
    "        for i in range(2, int(num ** 0.5) + 1):\n",
    "            if num % i == 0:\n",
    "                is_prime = False\n",
    "                break\n",
    "        if is_prime:\n",
    "            yield num\n",
    "        num += 1\n",
    "\n",
    "prime_generator = primes()\n",
    "\n",
    "for i in range(20):\n",
    "    print(next(prime_generator))\n"
   ]
  },
  {
   "cell_type": "markdown",
   "id": "8f26e43a-7d95-45cf-9f09-a90c147cd4e9",
   "metadata": {},
   "source": [
    "#### Q6. Write a python program to print the first 10 Fibonacci numbers using a while loop."
   ]
  },
  {
   "cell_type": "code",
   "execution_count": 2,
   "id": "007c8f66-b36c-44a6-bfdd-0c117434d36c",
   "metadata": {},
   "outputs": [
    {
     "name": "stdout",
     "output_type": "stream",
     "text": [
      "0\n",
      "1\n",
      "1\n",
      "2\n",
      "3\n",
      "5\n",
      "8\n",
      "13\n",
      "21\n",
      "34\n",
      "55\n"
     ]
    }
   ],
   "source": [
    "#Program to print the first 10 fibonacci numbers using a while loop\n",
    "num=10\n",
    "a=0\n",
    "b=1\n",
    "i=0\n",
    "while i<=num :\n",
    "    print(a)\n",
    "    c=a+b\n",
    "    a=b\n",
    "    b=c\n",
    "    \n",
    "    i+=1\n",
    "   "
   ]
  },
  {
   "cell_type": "markdown",
   "id": "70bb9f72-9ece-47a0-82d5-bc8ac90eebc3",
   "metadata": {},
   "source": [
    "#### Q7. Write a List Comprehension to iterate through the given string: ‘pwskills’.\n",
    "#### Expected output: ['p ', 'w', 's', 'k', 'i', 'l', 'l', 's']"
   ]
  },
  {
   "cell_type": "code",
   "execution_count": 1,
   "id": "56fe1037-8da7-4b3a-a1d5-36848abb4ab2",
   "metadata": {},
   "outputs": [
    {
     "name": "stdout",
     "output_type": "stream",
     "text": [
      "['p', 'w', 's', 'k', 'i', 'l']\n"
     ]
    }
   ],
   "source": [
    "s = 'pwskills'\n",
    "\n",
    "output = [s[i] for i in range(len(s)) if s[i] not in s[:i]]\n",
    "\n",
    "print(output)"
   ]
  },
  {
   "cell_type": "markdown",
   "id": "5133a7b3-37e3-4a46-9b0b-d7950a2e86d5",
   "metadata": {},
   "source": [
    "#### Q8. Write a python program to check whether a given number is Palindrome or not using a while loop."
   ]
  },
  {
   "cell_type": "code",
   "execution_count": 2,
   "id": "68b5bb98-420a-4a57-8fbc-cf9307ec5a6b",
   "metadata": {},
   "outputs": [
    {
     "name": "stdin",
     "output_type": "stream",
     "text": [
      "Enter a number:  121\n"
     ]
    },
    {
     "name": "stdout",
     "output_type": "stream",
     "text": [
      "121 is a palindrome number\n"
     ]
    }
   ],
   "source": [
    "# Python program to check whether a given number is palindrome or not using a while loop.\n",
    "num = int(input(\"Enter a number: \"))\n",
    "temp = num\n",
    "reverse = 0\n",
    "\n",
    "while temp != 0:\n",
    "    digit = temp % 10\n",
    "    reverse = reverse * 10 + digit\n",
    "    temp = temp // 10\n",
    "\n",
    "if num == reverse:\n",
    "    print(num, \"is a palindrome number\")\n",
    "else:\n",
    "    print(num, \"is not a palindrome number\")\n"
   ]
  },
  {
   "cell_type": "markdown",
   "id": "c7c5d76e-714f-4c7d-b757-08244587b1f3",
   "metadata": {},
   "source": [
    "#### Q9. Write a code to print odd numbers from 1 to 100 using list comprehension.\n",
    "#### Note: Use a list comprehension to create a list from 1 to 100 and use another List comprehension to filter out odd numbers."
   ]
  },
  {
   "cell_type": "code",
   "execution_count": 3,
   "id": "7c69aaf2-5bb5-4788-b9aa-d97b744d49da",
   "metadata": {},
   "outputs": [
    {
     "name": "stdout",
     "output_type": "stream",
     "text": [
      "Odd numbers from 1 to 100: [1, 3, 5, 7, 9, 11, 13, 15, 17, 19, 21, 23, 25, 27, 29, 31, 33, 35, 37, 39, 41, 43, 45, 47, 49, 51, 53, 55, 57, 59, 61, 63, 65, 67, 69, 71, 73, 75, 77, 79, 81, 83, 85, 87, 89, 91, 93, 95, 97, 99]\n"
     ]
    }
   ],
   "source": [
    "# Using a list comprehension to create a list from 1 to 100\n",
    "numbers = [x for x in range(1, 101)]\n",
    "\n",
    "# Using another list comprehension to filter out odd numbers\n",
    "odd_numbers = [x for x in numbers if x % 2 != 0]\n",
    "\n",
    "# Printing the odd numbers\n",
    "print(\"Odd numbers from 1 to 100:\", odd_numbers)\n"
   ]
  }
 ],
 "metadata": {
  "kernelspec": {
   "display_name": "Python 3 (ipykernel)",
   "language": "python",
   "name": "python3"
  },
  "language_info": {
   "codemirror_mode": {
    "name": "ipython",
    "version": 3
   },
   "file_extension": ".py",
   "mimetype": "text/x-python",
   "name": "python",
   "nbconvert_exporter": "python",
   "pygments_lexer": "ipython3",
   "version": "3.10.8"
  }
 },
 "nbformat": 4,
 "nbformat_minor": 5
}

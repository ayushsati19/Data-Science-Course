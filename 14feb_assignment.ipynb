{
 "cells": [
  {
   "cell_type": "markdown",
   "id": "309c229d-1b3e-4ea4-8407-404fc4e0a350",
   "metadata": {},
   "source": [
    "#### Q1). What is multithreading in python? hy is it used? Name the module used to handle threads in python."
   ]
  },
  {
   "cell_type": "markdown",
   "id": "a06dd97a-33c3-4fa1-bdd1-afe39baad710",
   "metadata": {},
   "source": [
    "Multithreading in Python is a way of creating multiple threads of execution within a single program. Each thread runs independently, allowing multiple tasks to be performed simultaneously.\n",
    "\n",
    "Multithreading is used to improve the performance of programs that need to perform multiple tasks simultaneously. By creating multiple threads, the program can utilize the resources of the system more efficiently and complete tasks more quickly.\n",
    "\n",
    "The threading module is used to handle threads in Python. This module provides a simple way to create and manage threads in a Python program. It includes functions for creating and starting threads, as well as for synchronizing threads and controlling their execution. The threading module is part of the standard library in Python, so it is available on all platforms where Python is installed.\n",
    "\n",
    "\n",
    "\n",
    "\n",
    "\n"
   ]
  },
  {
   "cell_type": "markdown",
   "id": "9e4c7b68-40c8-441b-9cde-5f234f9fd637",
   "metadata": {},
   "source": [
    "#### Q2. Why threading module used? rite the use of the following functions\n",
    "1. activeCount()\n",
    "2. currentThread()\n",
    "3. enumerate()"
   ]
  },
  {
   "cell_type": "markdown",
   "id": "294f4b78-289c-4e21-9f81-a5a6d7cb4855",
   "metadata": {},
   "source": [
    "The threading module in Python is used for creating and managing threads in a program. It allows you to write concurrent code, which can improve the performance of your program by utilizing the resources of the system more efficiently.\n",
    "\n",
    "Here are some use cases of the threading module:\n",
    "\n",
    "Parallel execution of code - The threading module allows you to execute multiple threads of code simultaneously, which can improve the performance of your program.\n",
    "\n",
    "Asynchronous I/O - The threading module can be used for performing asynchronous I/O operations, such as reading and writing to a file or network socket.\n",
    "\n",
    "GUI programming - In graphical user interface (GUI) programming, the threading module can be used to run the main event loop in one thread and perform other tasks, such as updating the user interface, in another thread."
   ]
  },
  {
   "cell_type": "markdown",
   "id": "06feef77-941e-4e43-ae16-75b68d49f9bd",
   "metadata": {},
   "source": [
    "activeCount(): This function returns the number of threads currently running in the program."
   ]
  },
  {
   "cell_type": "code",
   "execution_count": 2,
   "id": "85edf197-0314-49e9-bfd0-a02850d42562",
   "metadata": {},
   "outputs": [
    {
     "name": "stdout",
     "output_type": "stream",
     "text": [
      "Thread started\n",
      "Thread finished\n",
      "Thread started\n",
      "Thread finished\n",
      "Thread started\n",
      "Thread finished\n",
      "Thread started\n",
      "Thread finished\n",
      "Thread started\n",
      "Thread finished\n",
      "Active threads: 8\n"
     ]
    },
    {
     "name": "stderr",
     "output_type": "stream",
     "text": [
      "/tmp/ipykernel_827/3944798573.py:14: DeprecationWarning: activeCount() is deprecated, use active_count() instead\n",
      "  print(\"Active threads:\", threading.activeCount())\n"
     ]
    }
   ],
   "source": [
    "import threading\n",
    "\n",
    "def worker():\n",
    "    print(\"Thread started\")\n",
    "    # do some work\n",
    "    print(\"Thread finished\")\n",
    "\n",
    "threads = []\n",
    "for i in range(5):\n",
    "    t = threading.Thread(target=worker)\n",
    "    t.start()\n",
    "    threads.append(t)\n",
    "\n",
    "print(\"Active threads:\", threading.activeCount())\n"
   ]
  },
  {
   "cell_type": "markdown",
   "id": "08d4ef60-fcea-4c61-9ac6-1775adec0a51",
   "metadata": {},
   "source": [
    "currentThread(): This function returns a reference to the current thread object."
   ]
  },
  {
   "cell_type": "code",
   "execution_count": 3,
   "id": "28e5aece-650e-4e16-b2ea-0483be5d89d6",
   "metadata": {},
   "outputs": [
    {
     "name": "stdout",
     "output_type": "stream",
     "text": [
      "Current thread: <Thread(Thread-10 (worker), started 140479362483776)>\n"
     ]
    }
   ],
   "source": [
    "import threading\n",
    "\n",
    "def worker():\n",
    "    print(\"Current thread:\", threading.current_thread())\n",
    "\n",
    "t = threading.Thread(target=worker)\n",
    "t.start()\n",
    "t.join()\n"
   ]
  },
  {
   "cell_type": "markdown",
   "id": "a4ac75da-f8b9-45b7-a4c8-db368f5f46df",
   "metadata": {},
   "source": [
    "enumerate(): This function returns a list of all thread objects currently alive."
   ]
  },
  {
   "cell_type": "code",
   "execution_count": 4,
   "id": "9a078627-4f40-451d-9f33-c4310fde6de5",
   "metadata": {},
   "outputs": [
    {
     "name": "stdout",
     "output_type": "stream",
     "text": [
      "Thread started\n",
      "Thread started\n",
      "Thread started\n",
      "Thread started\n",
      "Thread started\n",
      "Thread: <_MainThread(MainThread, started 140479846360896)>\n",
      "Thread: <Thread(IOPub, started daemon 140479775831616)>\n",
      "Thread: <Heartbeat(Heartbeat, started daemon 140479767438912)>\n",
      "Thread: <Thread(Thread-3 (_watch_pipe_fd), started daemon 140479742260800)>\n",
      "Thread: <Thread(Thread-4 (_watch_pipe_fd), started daemon 140479733868096)>\n",
      "Thread: <ControlThread(Control, started daemon 140479387661888)>\n",
      "Thread: <HistorySavingThread(IPythonHistorySavingThread, started 140479379269184)>\n",
      "Thread: <ParentPollerUnix(Thread-2, started daemon 140479370876480)>\n"
     ]
    }
   ],
   "source": [
    "import threading\n",
    "\n",
    "def worker():\n",
    "    print(\"Thread started\")\n",
    "\n",
    "threads = []\n",
    "for i in range(5):\n",
    "    t = threading.Thread(target=worker)\n",
    "    t.start()\n",
    "    threads.append(t)\n",
    "\n",
    "for t in threading.enumerate():\n",
    "    print(\"Thread:\", t)\n",
    "\n"
   ]
  },
  {
   "cell_type": "markdown",
   "id": "55802ba7-9cdb-4509-961f-0fe0f0e721bb",
   "metadata": {},
   "source": [
    "#### Q3. Explain the following functions\n",
    "1. run()\n",
    "2. start()\n",
    "3. join()\n",
    "4. isAlive()"
   ]
  },
  {
   "cell_type": "markdown",
   "id": "08a70614-928f-40ae-a1fa-0ffe477318b5",
   "metadata": {},
   "source": [
    "run: The run method is the method that will be executed in a thread when it starts. This method contains the code that should be executed in the new thread. It is usually overridden in a subclass of the Thread class to define the behavior of the thread.\n",
    "\n",
    "start: The start method starts the execution of the thread. It creates a new thread and calls the run method of the thread.\n",
    "\n",
    "join: The join method waits for the thread to complete its execution. It blocks the calling thread until the thread on which it is called completes execution.\n",
    "\n",
    "isAlive: The isAlive method returns True if the thread is currently executing, or False otherwise. It is used to check if the thread is still running."
   ]
  },
  {
   "cell_type": "markdown",
   "id": "fd20290e-5668-4dea-85f2-2665c8468a05",
   "metadata": {},
   "source": [
    "#### Q4. rite a python program to create two threads. Thread one must print the list of squares and thread two must print the list of cubes"
   ]
  },
  {
   "cell_type": "code",
   "execution_count": 5,
   "id": "03f61879-9081-4f72-9363-bacbd5766b85",
   "metadata": {},
   "outputs": [
    {
     "name": "stdout",
     "output_type": "stream",
     "text": [
      "1 squared is 1\n",
      "2 squared is 4\n",
      "3 squared is 9\n",
      "4 squared is 16\n",
      "5 squared is 25\n",
      "6 squared is 36\n",
      "7 squared is 49\n",
      "8 squared is 64\n",
      "9 squared is 81\n",
      "10 squared is 100\n",
      "1 cubed is 1\n",
      "2 cubed is 8\n",
      "3 cubed is 27\n",
      "4 cubed is 64\n",
      "5 cubed is 125\n",
      "6 cubed is 216\n",
      "7 cubed is 343\n",
      "8 cubed is 512\n",
      "9 cubed is 729\n",
      "10 cubed is 1000\n",
      "Done!\n"
     ]
    }
   ],
   "source": [
    "import threading\n",
    "\n",
    "def print_squares():\n",
    "    for i in range(1, 11):\n",
    "        print(f\"{i} squared is {i**2}\")\n",
    "\n",
    "def print_cubes():\n",
    "    for i in range(1, 11):\n",
    "        print(f\"{i} cubed is {i**3}\")\n",
    "\n",
    "t1 = threading.Thread(target=print_squares)\n",
    "t2 = threading.Thread(target=print_cubes)\n",
    "\n",
    "t1.start()\n",
    "t2.start()\n",
    "\n",
    "t1.join()\n",
    "t2.join()\n",
    "\n",
    "print(\"Done!\")\n"
   ]
  },
  {
   "cell_type": "markdown",
   "id": "72caa9dc-1b3e-456d-9d5e-59ca77f9f60f",
   "metadata": {},
   "source": [
    "#### Q5. State advantages and disadvantages of multithreading."
   ]
  },
  {
   "cell_type": "markdown",
   "id": "24fe37b8-ae6e-48ad-afff-d247cecece8f",
   "metadata": {},
   "source": [
    "Advantages of Multithreading:\n",
    "\n",
    "1. Improved Performance: Multithreading allows a program to perform multiple tasks at the same time. This results in improved performance as the overall execution time is reduced.\n",
    "\n",
    "2. Efficient Resource Utilization: Multithreading allows for efficient utilization of system resources as multiple threads can share the same resources.\n",
    "\n",
    "3. Simplified Program Structure: Multithreading can simplify program structure by breaking a complex task into smaller parts that can be executed simultaneously.\n",
    "\n",
    "4. Better Responsiveness: Multithreading can improve program responsiveness by allowing a program to perform other tasks while waiting for a resource to become available.\n",
    "\n",
    "Disadvantages of Multithreading:\n",
    "\n",
    "1. omplexity: Multithreaded programming can be complex and difficult to debug due to the need to manage shared resources and prevent race conditions.\n",
    "\n",
    "2. Overhead: Multithreading introduces overhead due to the need to create and manage threads, which can result in decreased performance in some cases.\n",
    "\n",
    "3. Increased Memory Usage: Multithreading can result in increased memory usage due to the need to allocate memory for each thread.\n",
    "\n",
    "4. Synchronization Issues: Multithreading can introduce synchronization issues due to the need to ensure that shared resources are accessed in a thread-safe manner."
   ]
  },
  {
   "cell_type": "markdown",
   "id": "33b5d72a-75d8-4454-bb9a-4c047a1b9ab8",
   "metadata": {},
   "source": [
    "#### Q6. Explain deadlocks and race conditions."
   ]
  },
  {
   "cell_type": "markdown",
   "id": "45e49b25-a74f-40ee-86c6-a5f86b1e32b6",
   "metadata": {},
   "source": [
    "Deadlock and race condition are two common problems that can occur in a multithreaded environment.\n",
    "\n",
    "Deadlock:\n",
    "A deadlock occurs when two or more threads are blocked waiting for each other to release a resource, resulting in a situation where none of the threads can proceed. Deadlocks occur when two or more threads are waiting for the same resource, and each thread is holding a resource that the other thread needs to continue. Deadlocks can be difficult to detect and can cause a program to become unresponsive.\n",
    "\n",
    "Race Condition:\n",
    "A race condition occurs when two or more threads access the same shared resource at the same time, resulting in unpredictable behavior. Race conditions occur when two or more threads are modifying the same data structure, and the final result depends on the order in which the threads execute. Race conditions can cause data corruption, inconsistency, and other unexpected behavior.\n",
    "\n",
    "Both deadlocks and race conditions can be difficult to detect and debug, and can result in unpredictable behavior and program crashes. To avoid these problems, it is important to carefully design and manage multithreaded programs, and to use synchronization techniques such as locks, semaphores, and barriers to ensure that shared resources are accessed in a thread-safe manner."
   ]
  }
 ],
 "metadata": {
  "kernelspec": {
   "display_name": "Python 3 (ipykernel)",
   "language": "python",
   "name": "python3"
  },
  "language_info": {
   "codemirror_mode": {
    "name": "ipython",
    "version": 3
   },
   "file_extension": ".py",
   "mimetype": "text/x-python",
   "name": "python",
   "nbconvert_exporter": "python",
   "pygments_lexer": "ipython3",
   "version": "3.10.8"
  }
 },
 "nbformat": 4,
 "nbformat_minor": 5
}

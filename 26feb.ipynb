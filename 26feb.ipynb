{
 "cells": [
  {
   "cell_type": "markdown",
   "id": "cdf0db80-7eb2-4690-ba4d-07c9118bc1fe",
   "metadata": {},
   "source": [
    "#### Consider the below code to answer further questions:\n",
    "#### import numpy as np\n",
    "#### list_ = [ ‘1’ , ’2’ , ‘3’ , ‘4’ , ‘5’ ]\n",
    "#### array_list = np.array(object = list_)"
   ]
  },
  {
   "cell_type": "markdown",
   "id": "d6ac3481-8515-4cc5-a7f6-b6d40491f525",
   "metadata": {},
   "source": [
    "#### Q1. Is there any difference in the data type of variables list_ and array_list? If there is then write a codeto print the data types of both the variables."
   ]
  },
  {
   "cell_type": "markdown",
   "id": "5af1ca44-439e-407f-b934-1a4cd45c164d",
   "metadata": {},
   "source": [
    "Yes, there is a difference in the data type of the list_ variable and the array_list variable. The list_ variable is a Python list containing string objects, whereas the array_list variable is a NumPy array containing string objects."
   ]
  },
  {
   "cell_type": "code",
   "execution_count": 1,
   "id": "f2c0089a-583e-44ea-b6d1-9d76c1d994da",
   "metadata": {},
   "outputs": [
    {
     "name": "stdout",
     "output_type": "stream",
     "text": [
      "<class 'list'>\n",
      "<class 'numpy.ndarray'>\n"
     ]
    }
   ],
   "source": [
    "import numpy as np\n",
    "\n",
    "list_ = ['1', '2', '3', '4', '5']\n",
    "array_list = np.array(object=list_)\n",
    "\n",
    "print(type(list_)) # prints <class 'list'>\n",
    "print(type(array_list)) # prints <class 'numpy.ndarray'>"
   ]
  },
  {
   "cell_type": "markdown",
   "id": "5cc667e2-dfbc-4c68-bf4a-4aedcded2677",
   "metadata": {},
   "source": [
    "#### Q2. Write a code to print the data type of each and every element of both the variables list_ and arra_list."
   ]
  },
  {
   "cell_type": "code",
   "execution_count": 2,
   "id": "d932652f-099e-4fb7-b77e-bf8ea0d38f5c",
   "metadata": {},
   "outputs": [
    {
     "name": "stdout",
     "output_type": "stream",
     "text": [
      "<class 'str'>\n",
      "<class 'str'>\n",
      "<class 'str'>\n",
      "<class 'str'>\n",
      "<class 'str'>\n",
      "<U1\n"
     ]
    }
   ],
   "source": [
    "import numpy as np\n",
    "\n",
    "list_ = ['1', '2', '3', '4', '5']\n",
    "array_list = np.array(object=list_)\n",
    "\n",
    "# Print data types of list_ elements\n",
    "for element in list_:\n",
    "    print(type(element))\n",
    "\n",
    "# Print data type of array_list elements\n",
    "print(array_list.dtype)\n"
   ]
  },
  {
   "cell_type": "markdown",
   "id": "121b72f7-184f-41b4-bba6-d2b19a97e679",
   "metadata": {},
   "source": [
    "#### Q3. Considering the following changes in the variable, array_list:\n",
    "##### array_list = np.array(object = list_, dtype = int)\n",
    "#### Will there be any difference in the data type of the elements present in both the variables, list_ and arra_list? If so then print the data types of each and every element present in both the variables, list_and arra_list."
   ]
  },
  {
   "cell_type": "markdown",
   "id": "82f9166e-da0e-4b9d-bfb1-4e0bf28c02ac",
   "metadata": {},
   "source": [
    "Yes, there will be a difference in the data type of the elements present in list_ and array_list when the dtype parameter is set to int. The elements in list_ are strings, while the dtype parameter converts the elements in array_list to integers."
   ]
  },
  {
   "cell_type": "code",
   "execution_count": 3,
   "id": "ee7b272d-286b-41f0-90f3-89d00d7c9582",
   "metadata": {},
   "outputs": [
    {
     "name": "stdout",
     "output_type": "stream",
     "text": [
      "<class 'str'>\n",
      "<class 'str'>\n",
      "<class 'str'>\n",
      "<class 'str'>\n",
      "<class 'str'>\n",
      "int64\n"
     ]
    }
   ],
   "source": [
    "import numpy as np\n",
    "\n",
    "list_ = ['1', '2', '3', '4', '5']\n",
    "array_list = np.array(object=list_, dtype=int)\n",
    "\n",
    "# Print data types of list_ elements\n",
    "for element in list_:\n",
    "    print(type(element))\n",
    "\n",
    "# Print data type of array_list elements\n",
    "print(array_list.dtype)\n"
   ]
  },
  {
   "cell_type": "markdown",
   "id": "6660800e-7312-4ad2-b22d-d99de2461400",
   "metadata": {},
   "source": [
    "#### Consider the below code to answer further questions:\n",
    "#### import numpy as np\n",
    "#### num_list = [ [ 1 , 2 , 3 ] , [ 4 , 5 , 6 ] ]\n",
    "#### num_array = np.array(object = num_list)"
   ]
  },
  {
   "cell_type": "markdown",
   "id": "520f3828-d2fb-4f6c-8614-3fefee7aa30f",
   "metadata": {},
   "source": [
    "#### Q4. Write a code to find the following characteristics of variable, num_array:\n",
    "#### (i) shape\n",
    "#### (ii) size"
   ]
  },
  {
   "cell_type": "code",
   "execution_count": 4,
   "id": "c018b0de-3cc8-4a6c-8312-a693935c56c1",
   "metadata": {},
   "outputs": [
    {
     "name": "stdout",
     "output_type": "stream",
     "text": [
      "Shape of the array: (2, 3)\n",
      "Size of the array: 6\n"
     ]
    }
   ],
   "source": [
    "import numpy as np\n",
    "\n",
    "# Create a 2D NumPy array\n",
    "num_array = np.array([[1, 2, 3], [4, 5, 6]])\n",
    "\n",
    "# Print the shape of the array\n",
    "print(\"Shape of the array:\", num_array.shape)\n",
    "\n",
    "# Print the size of the array\n",
    "print(\"Size of the array:\", num_array.size)\n"
   ]
  },
  {
   "cell_type": "markdown",
   "id": "4443651d-f406-4e88-a9b7-73437d9b88f9",
   "metadata": {},
   "source": [
    "#### Q5. Write a code to create numpy array of 3*3 matrix containing zeros only, using a numpy array creation function."
   ]
  },
  {
   "cell_type": "code",
   "execution_count": 5,
   "id": "9ffd21bf-46a2-49ed-996d-73f0f72a5052",
   "metadata": {},
   "outputs": [
    {
     "name": "stdout",
     "output_type": "stream",
     "text": [
      "[[0. 0. 0.]\n",
      " [0. 0. 0.]\n",
      " [0. 0. 0.]]\n"
     ]
    }
   ],
   "source": [
    "import numpy as np\n",
    "\n",
    "# Create a 3x3 NumPy array containing zeros only\n",
    "zero_array = np.zeros((3, 3))\n",
    "\n",
    "# Print the array\n",
    "print(zero_array)\n"
   ]
  },
  {
   "cell_type": "markdown",
   "id": "a81aeadb-e65d-4fbb-a1a7-4a49e077e4f6",
   "metadata": {},
   "source": [
    "#### Q6. Create an identity matrix of shape (5,5) using numpy functions?"
   ]
  },
  {
   "cell_type": "code",
   "execution_count": 6,
   "id": "5dd381fd-3cb6-4956-be9b-da3b27ef5b0b",
   "metadata": {},
   "outputs": [
    {
     "name": "stdout",
     "output_type": "stream",
     "text": [
      "[[1. 0. 0. 0. 0.]\n",
      " [0. 1. 0. 0. 0.]\n",
      " [0. 0. 1. 0. 0.]\n",
      " [0. 0. 0. 1. 0.]\n",
      " [0. 0. 0. 0. 1.]]\n"
     ]
    }
   ],
   "source": [
    "import numpy as np\n",
    "\n",
    "# Create a 5x5 identity matrix using the identity function\n",
    "identity_matrix = np.identity(5)\n",
    "\n",
    "# Print the matrix\n",
    "print(identity_matrix)\n"
   ]
  }
 ],
 "metadata": {
  "kernelspec": {
   "display_name": "Python 3 (ipykernel)",
   "language": "python",
   "name": "python3"
  },
  "language_info": {
   "codemirror_mode": {
    "name": "ipython",
    "version": 3
   },
   "file_extension": ".py",
   "mimetype": "text/x-python",
   "name": "python",
   "nbconvert_exporter": "python",
   "pygments_lexer": "ipython3",
   "version": "3.10.8"
  }
 },
 "nbformat": 4,
 "nbformat_minor": 5
}
